{
  "nbformat": 4,
  "nbformat_minor": 0,
  "metadata": {
    "colab": {
      "name": "31.4 Dask.ipynb",
      "provenance": [],
      "collapsed_sections": [],
      "authorship_tag": "ABX9TyORMWbg38eZHEM+WFliAFdb",
      "include_colab_link": true
    },
    "kernelspec": {
      "name": "python3",
      "display_name": "Python 3"
    }
  },
  "cells": [
    {
      "cell_type": "markdown",
      "metadata": {
        "id": "view-in-github",
        "colab_type": "text"
      },
      "source": [
        "<a href=\"https://colab.research.google.com/github/AlexBB999/Thinkful/blob/master/31_4_Dask.ipynb\" target=\"_parent\"><img src=\"https://colab.research.google.com/assets/colab-badge.svg\" alt=\"Open In Colab\"/></a>"
      ]
    },
    {
      "cell_type": "markdown",
      "metadata": {
        "id": "y19QbbT_rEto",
        "colab_type": "text"
      },
      "source": [
        "**ASSIGNMENT ANSWERS AT BOTTOM**"
      ]
    },
    {
      "cell_type": "markdown",
      "metadata": {
        "id": "t-dUxE9MkYHq",
        "colab_type": "text"
      },
      "source": [
        "##**Assignments**\n",
        "\n",
        "In the following exercises, you'll be working with the code snippet below:\n",
        "\n",
        "%%timeit\n",
        "x = da.random.random((10000, 10000), chunks=(1000, 1000))\n",
        "\n",
        "y = x + x.T\n",
        "\n",
        "z = y[::2, 5000:].mean(axis=1)\n",
        "\n",
        "z.compute()\n",
        "\n",
        "\n",
        "To complete this assignment, create a Jupyter Notebook containing your solutions to the following tasks and submit as a link on Github.\n",
        "\n",
        "Change the code above by setting chunks=(250, 250).\n",
        "\n",
        " How long does it take to run?\n",
        "\n",
        "Now, set the parameter to chunks=(500, 500).\n",
        "\n",
        " How long does it take to run? \n",
        "\n",
        "Does this one or the previous one run quickly? Why?"
      ]
    },
    {
      "cell_type": "code",
      "metadata": {
        "id": "DcIyvI_5mYzP",
        "colab_type": "code",
        "colab": {
          "base_uri": "https://localhost:8080/",
          "height": 1000
        },
        "outputId": "95c38797-1d02-4cf7-e7c8-a1b306ce4caa"
      },
      "source": [
        "!pip install --upgrade \"dask[complete]\""
      ],
      "execution_count": 2,
      "outputs": [
        {
          "output_type": "stream",
          "text": [
            "Collecting dask[complete]\n",
            "\u001b[?25l  Downloading https://files.pythonhosted.org/packages/2a/00/1d9d5a0a6e9b500dd82b280298966db03d32f133bba7805a8a459ef486b6/dask-2.16.0-py3-none-any.whl (802kB)\n",
            "\u001b[K     |████████████████████████████████| 808kB 4.9MB/s \n",
            "\u001b[?25hCollecting partd>=0.3.10; extra == \"complete\"\n",
            "  Downloading https://files.pythonhosted.org/packages/44/e1/68dbe731c9c067655bff1eca5b7d40c20ca4b23fd5ec9f3d17e201a6f36b/partd-1.1.0-py3-none-any.whl\n",
            "Requirement already satisfied, skipping upgrade: cloudpickle>=0.2.2; extra == \"complete\" in /usr/local/lib/python3.6/dist-packages (from dask[complete]) (1.3.0)\n",
            "Requirement already satisfied, skipping upgrade: toolz>=0.8.2; extra == \"complete\" in /usr/local/lib/python3.6/dist-packages (from dask[complete]) (0.10.0)\n",
            "Requirement already satisfied, skipping upgrade: fsspec>=0.6.0; extra == \"complete\" in /usr/local/lib/python3.6/dist-packages (from dask[complete]) (0.7.3)\n",
            "Requirement already satisfied, skipping upgrade: numpy>=1.13.0; extra == \"complete\" in /usr/local/lib/python3.6/dist-packages (from dask[complete]) (1.18.4)\n",
            "Requirement already satisfied, skipping upgrade: pandas>=0.23.0; extra == \"complete\" in /usr/local/lib/python3.6/dist-packages (from dask[complete]) (1.0.3)\n",
            "Collecting distributed>=2.0; extra == \"complete\"\n",
            "\u001b[?25l  Downloading https://files.pythonhosted.org/packages/c0/7f/58454dac9c2603f926b9a5abd260a7c7818ece31cee4c3e46dad6aad8bb3/distributed-2.16.0-py3-none-any.whl (629kB)\n",
            "\u001b[K     |████████████████████████████████| 634kB 28.5MB/s \n",
            "\u001b[?25hRequirement already satisfied, skipping upgrade: bokeh>=1.0.0; extra == \"complete\" in /usr/local/lib/python3.6/dist-packages (from dask[complete]) (1.4.0)\n",
            "Requirement already satisfied, skipping upgrade: PyYaml; extra == \"complete\" in /usr/local/lib/python3.6/dist-packages (from dask[complete]) (3.13)\n",
            "Collecting locket\n",
            "  Downloading https://files.pythonhosted.org/packages/d0/22/3c0f97614e0be8386542facb3a7dcfc2584f7b83608c02333bced641281c/locket-0.2.0.tar.gz\n",
            "Requirement already satisfied, skipping upgrade: python-dateutil>=2.6.1 in /usr/local/lib/python3.6/dist-packages (from pandas>=0.23.0; extra == \"complete\"->dask[complete]) (2.8.1)\n",
            "Requirement already satisfied, skipping upgrade: pytz>=2017.2 in /usr/local/lib/python3.6/dist-packages (from pandas>=0.23.0; extra == \"complete\"->dask[complete]) (2018.9)\n",
            "Requirement already satisfied, skipping upgrade: click>=6.6 in /usr/local/lib/python3.6/dist-packages (from distributed>=2.0; extra == \"complete\"->dask[complete]) (7.1.2)\n",
            "Requirement already satisfied, skipping upgrade: tblib>=1.6.0 in /usr/local/lib/python3.6/dist-packages (from distributed>=2.0; extra == \"complete\"->dask[complete]) (1.6.0)\n",
            "Collecting contextvars; python_version < \"3.7\"\n",
            "  Downloading https://files.pythonhosted.org/packages/83/96/55b82d9f13763be9d672622e1b8106c85acb83edd7cc2fa5bc67cd9877e9/contextvars-2.4.tar.gz\n",
            "Requirement already satisfied, skipping upgrade: msgpack>=0.6.0 in /usr/local/lib/python3.6/dist-packages (from distributed>=2.0; extra == \"complete\"->dask[complete]) (1.0.0)\n",
            "Requirement already satisfied, skipping upgrade: psutil>=5.0 in /usr/local/lib/python3.6/dist-packages (from distributed>=2.0; extra == \"complete\"->dask[complete]) (5.4.8)\n",
            "Requirement already satisfied, skipping upgrade: setuptools in /usr/local/lib/python3.6/dist-packages (from distributed>=2.0; extra == \"complete\"->dask[complete]) (46.1.3)\n",
            "Requirement already satisfied, skipping upgrade: zict>=0.1.3 in /usr/local/lib/python3.6/dist-packages (from distributed>=2.0; extra == \"complete\"->dask[complete]) (2.0.0)\n",
            "Collecting tornado>=5; python_version < \"3.8\"\n",
            "\u001b[?25l  Downloading https://files.pythonhosted.org/packages/95/84/119a46d494f008969bf0c775cb2c6b3579d3c4cc1bb1b41a022aa93ee242/tornado-6.0.4.tar.gz (496kB)\n",
            "\u001b[K     |████████████████████████████████| 501kB 32.1MB/s \n",
            "\u001b[?25hRequirement already satisfied, skipping upgrade: sortedcontainers!=2.0.0,!=2.0.1 in /usr/local/lib/python3.6/dist-packages (from distributed>=2.0; extra == \"complete\"->dask[complete]) (2.1.0)\n",
            "Requirement already satisfied, skipping upgrade: six>=1.5.2 in /usr/local/lib/python3.6/dist-packages (from bokeh>=1.0.0; extra == \"complete\"->dask[complete]) (1.12.0)\n",
            "Requirement already satisfied, skipping upgrade: pillow>=4.0 in /usr/local/lib/python3.6/dist-packages (from bokeh>=1.0.0; extra == \"complete\"->dask[complete]) (7.0.0)\n",
            "Requirement already satisfied, skipping upgrade: packaging>=16.8 in /usr/local/lib/python3.6/dist-packages (from bokeh>=1.0.0; extra == \"complete\"->dask[complete]) (20.3)\n",
            "Requirement already satisfied, skipping upgrade: Jinja2>=2.7 in /usr/local/lib/python3.6/dist-packages (from bokeh>=1.0.0; extra == \"complete\"->dask[complete]) (2.11.2)\n",
            "Collecting immutables>=0.9\n",
            "\u001b[?25l  Downloading https://files.pythonhosted.org/packages/8d/86/dc81938d4198d0aed4db4301e532ccab91b49ea4f73b2ebc13aacb3f7f07/immutables-0.12-cp36-cp36m-manylinux1_x86_64.whl (97kB)\n",
            "\u001b[K     |████████████████████████████████| 102kB 10.9MB/s \n",
            "\u001b[?25hRequirement already satisfied, skipping upgrade: heapdict in /usr/local/lib/python3.6/dist-packages (from zict>=0.1.3->distributed>=2.0; extra == \"complete\"->dask[complete]) (1.0.1)\n",
            "Requirement already satisfied, skipping upgrade: pyparsing>=2.0.2 in /usr/local/lib/python3.6/dist-packages (from packaging>=16.8->bokeh>=1.0.0; extra == \"complete\"->dask[complete]) (2.4.7)\n",
            "Requirement already satisfied, skipping upgrade: MarkupSafe>=0.23 in /usr/local/lib/python3.6/dist-packages (from Jinja2>=2.7->bokeh>=1.0.0; extra == \"complete\"->dask[complete]) (1.1.1)\n",
            "Building wheels for collected packages: locket, contextvars, tornado\n",
            "  Building wheel for locket (setup.py) ... \u001b[?25l\u001b[?25hdone\n",
            "  Created wheel for locket: filename=locket-0.2.0-cp36-none-any.whl size=4040 sha256=46eb8fa77b9c4a2d1264573241fcaecec3688110bb1b7f06d0a0b1b6412328d6\n",
            "  Stored in directory: /root/.cache/pip/wheels/26/1e/e8/4fa236ec931b1a0cdd61578e20d4934d7bf188858723b84698\n",
            "  Building wheel for contextvars (setup.py) ... \u001b[?25l\u001b[?25hdone\n",
            "  Created wheel for contextvars: filename=contextvars-2.4-cp36-none-any.whl size=7666 sha256=180a3f105624971bf17b8380f1a813f04a97ef9f5e76222e00942e398c832913\n",
            "  Stored in directory: /root/.cache/pip/wheels/a5/7d/68/1ebae2668bda2228686e3c1cf16f2c2384cea6e9334ad5f6de\n",
            "  Building wheel for tornado (setup.py) ... \u001b[?25l\u001b[?25hdone\n",
            "  Created wheel for tornado: filename=tornado-6.0.4-cp36-cp36m-linux_x86_64.whl size=427638 sha256=1148753ffc229566aa06c5c8f3319b8f5350bd36a269eebda885cf01b61361b2\n",
            "  Stored in directory: /root/.cache/pip/wheels/93/84/2f/409c7b2bb3afc3aa727f7ee8787975e0793f74d1165f4d0104\n",
            "Successfully built locket contextvars tornado\n",
            "\u001b[31mERROR: google-colab 1.0.0 has requirement ipykernel~=4.10, but you'll have ipykernel 5.2.1 which is incompatible.\u001b[0m\n",
            "Installing collected packages: locket, partd, immutables, contextvars, tornado, distributed, dask\n",
            "  Found existing installation: tornado 4.5.3\n",
            "    Uninstalling tornado-4.5.3:\n",
            "      Successfully uninstalled tornado-4.5.3\n",
            "  Found existing installation: distributed 1.25.3\n",
            "    Uninstalling distributed-1.25.3:\n",
            "      Successfully uninstalled distributed-1.25.3\n",
            "  Found existing installation: dask 2.12.0\n",
            "    Uninstalling dask-2.12.0:\n",
            "      Successfully uninstalled dask-2.12.0\n",
            "Successfully installed contextvars-2.4 dask-2.16.0 distributed-2.16.0 immutables-0.12 locket-0.2.0 partd-1.1.0 tornado-6.0.4\n"
          ],
          "name": "stdout"
        },
        {
          "output_type": "display_data",
          "data": {
            "application/vnd.colab-display-data+json": {
              "pip_warning": {
                "packages": [
                  "dask",
                  "distributed",
                  "tornado"
                ]
              }
            }
          },
          "metadata": {
            "tags": []
          }
        }
      ]
    },
    {
      "cell_type": "code",
      "metadata": {
        "id": "Dx5uBIH0l5FA",
        "colab_type": "code",
        "colab": {
          "base_uri": "https://localhost:8080/",
          "height": 367
        },
        "outputId": "42334a30-e0d1-4e79-de50-bddfab722a50"
      },
      "source": [
        "pip install -U ipykernel"
      ],
      "execution_count": 3,
      "outputs": [
        {
          "output_type": "stream",
          "text": [
            "Requirement already up-to-date: ipykernel in /usr/local/lib/python3.6/dist-packages (5.2.1)\n",
            "Requirement already satisfied, skipping upgrade: traitlets>=4.1.0 in /usr/local/lib/python3.6/dist-packages (from ipykernel) (4.3.3)\n",
            "Requirement already satisfied, skipping upgrade: ipython>=5.0.0 in /usr/local/lib/python3.6/dist-packages (from ipykernel) (5.5.0)\n",
            "Requirement already satisfied, skipping upgrade: jupyter-client in /usr/local/lib/python3.6/dist-packages (from ipykernel) (5.3.4)\n",
            "Requirement already satisfied, skipping upgrade: tornado>=4.2 in /usr/local/lib/python3.6/dist-packages (from ipykernel) (6.0.4)\n",
            "Requirement already satisfied, skipping upgrade: decorator in /usr/local/lib/python3.6/dist-packages (from traitlets>=4.1.0->ipykernel) (4.4.2)\n",
            "Requirement already satisfied, skipping upgrade: ipython-genutils in /usr/local/lib/python3.6/dist-packages (from traitlets>=4.1.0->ipykernel) (0.2.0)\n",
            "Requirement already satisfied, skipping upgrade: six in /usr/local/lib/python3.6/dist-packages (from traitlets>=4.1.0->ipykernel) (1.12.0)\n",
            "Requirement already satisfied, skipping upgrade: setuptools>=18.5 in /usr/local/lib/python3.6/dist-packages (from ipython>=5.0.0->ipykernel) (46.1.3)\n",
            "Requirement already satisfied, skipping upgrade: simplegeneric>0.8 in /usr/local/lib/python3.6/dist-packages (from ipython>=5.0.0->ipykernel) (0.8.1)\n",
            "Requirement already satisfied, skipping upgrade: pickleshare in /usr/local/lib/python3.6/dist-packages (from ipython>=5.0.0->ipykernel) (0.7.5)\n",
            "Requirement already satisfied, skipping upgrade: pexpect; sys_platform != \"win32\" in /usr/local/lib/python3.6/dist-packages (from ipython>=5.0.0->ipykernel) (4.8.0)\n",
            "Requirement already satisfied, skipping upgrade: prompt-toolkit<2.0.0,>=1.0.4 in /usr/local/lib/python3.6/dist-packages (from ipython>=5.0.0->ipykernel) (1.0.18)\n",
            "Requirement already satisfied, skipping upgrade: pygments in /usr/local/lib/python3.6/dist-packages (from ipython>=5.0.0->ipykernel) (2.1.3)\n",
            "Requirement already satisfied, skipping upgrade: pyzmq>=13 in /usr/local/lib/python3.6/dist-packages (from jupyter-client->ipykernel) (19.0.0)\n",
            "Requirement already satisfied, skipping upgrade: python-dateutil>=2.1 in /usr/local/lib/python3.6/dist-packages (from jupyter-client->ipykernel) (2.8.1)\n",
            "Requirement already satisfied, skipping upgrade: jupyter-core>=4.6.0 in /usr/local/lib/python3.6/dist-packages (from jupyter-client->ipykernel) (4.6.3)\n",
            "Requirement already satisfied, skipping upgrade: ptyprocess>=0.5 in /usr/local/lib/python3.6/dist-packages (from pexpect; sys_platform != \"win32\"->ipython>=5.0.0->ipykernel) (0.6.0)\n",
            "Requirement already satisfied, skipping upgrade: wcwidth in /usr/local/lib/python3.6/dist-packages (from prompt-toolkit<2.0.0,>=1.0.4->ipython>=5.0.0->ipykernel) (0.1.9)\n"
          ],
          "name": "stdout"
        }
      ]
    },
    {
      "cell_type": "code",
      "metadata": {
        "id": "ONldpB_hkNF0",
        "colab_type": "code",
        "colab": {
          "base_uri": "https://localhost:8080/",
          "height": 119
        },
        "outputId": "73bc72e6-b906-4e04-9086-75ea895b1811"
      },
      "source": [
        "import warnings\n",
        "warnings.filterwarnings(\"ignore\")\n",
        "\n",
        "from dask.distributed import Client, progress\n",
        "\n",
        "client = Client(n_workers=4, threads_per_worker=2, memory_limit='2GB')\n",
        "client"
      ],
      "execution_count": 1,
      "outputs": [
        {
          "output_type": "execute_result",
          "data": {
            "text/html": [
              "<table style=\"border: 2px solid white;\">\n",
              "<tr>\n",
              "<td style=\"vertical-align: top; border: 0px solid white\">\n",
              "<h3 style=\"text-align: left;\">Client</h3>\n",
              "<ul style=\"text-align: left; list-style: none; margin: 0; padding: 0;\">\n",
              "  <li><b>Scheduler: </b>tcp://127.0.0.1:37361</li>\n",
              "  <li><b>Dashboard: </b><a href='http://127.0.0.1:8787/status' target='_blank'>http://127.0.0.1:8787/status</a></li>\n",
              "</ul>\n",
              "</td>\n",
              "<td style=\"vertical-align: top; border: 0px solid white\">\n",
              "<h3 style=\"text-align: left;\">Cluster</h3>\n",
              "<ul style=\"text-align: left; list-style:none; margin: 0; padding: 0;\">\n",
              "  <li><b>Workers: </b>4</li>\n",
              "  <li><b>Cores: </b>8</li>\n",
              "  <li><b>Memory: </b>8.00 GB</li>\n",
              "</ul>\n",
              "</td>\n",
              "</tr>\n",
              "</table>"
            ],
            "text/plain": [
              "<Client: 'tcp://127.0.0.1:37361' processes=4 threads=8, memory=8.00 GB>"
            ]
          },
          "metadata": {
            "tags": []
          },
          "execution_count": 1
        }
      ]
    },
    {
      "cell_type": "markdown",
      "metadata": {
        "id": "soSylASUmwVt",
        "colab_type": "text"
      },
      "source": [
        "##**Using Dask as if it's NumPy**\n",
        "We'll be using Dask arrays by creating random arrays and do mathematical calculations on them. \n",
        "\n",
        "We also do the same thing using NumPy arrays and compare the run times.\n",
        "\n",
        "###**Creating a random array**\n",
        "In order to use Dask arrays, we need to import it as follows:"
      ]
    },
    {
      "cell_type": "code",
      "metadata": {
        "id": "tiCeQq27m3kg",
        "colab_type": "code",
        "colab": {}
      },
      "source": [
        "import dask.array as da\n",
        "import numpy as np"
      ],
      "execution_count": 0,
      "outputs": []
    },
    {
      "cell_type": "markdown",
      "metadata": {
        "id": "WWu_5q8mnHID",
        "colab_type": "text"
      },
      "source": [
        "Below we create a 10000x10000 array of random numbers.\n",
        "\n",
        " Note that we set chunks parameter to (1000, 1000).\n",
        " \n",
        " This is something different than what we normally do when generating random arrays with NumPy.\n",
        " \n",
        "By setting chunks, we tell Dask that it should represent as many numpy arrays of size 1000x1000 (or smaller if the array cannot be divided evenly).\n",
        "\n",
        "In our case, there will be 100 numpy arrays of size 1000x1000.\n",
        "\n",
        "What we do below is:\n",
        "\n",
        "**We first create a random Dask array of size 10000X10000.**\n",
        "\n",
        "**Then we add this array to its transpose**.\n",
        "\n",
        "**Last, we filter the resulting array and calculate its mean**.\n",
        "\n",
        "As usual, we call .compute() to make Dask evaluate the results.\n",
        "\n",
        "Note that we calculate the run time of the following cell using jupyter notebook's **magic command %%time**"
      ]
    },
    {
      "cell_type": "code",
      "metadata": {
        "id": "NvFMw6IDncdA",
        "colab_type": "code",
        "colab": {
          "base_uri": "https://localhost:8080/",
          "height": 52
        },
        "outputId": "30f918ba-55b5-4e35-a3b3-1c24913fd61a"
      },
      "source": [
        "%%time\n",
        "x = da.random.random((10000, 10000), chunks=(1000, 1000))\n",
        "y = x + x.T\n",
        "z = y[::2, 5000:].mean(axis=1)\n",
        "z.compute()"
      ],
      "execution_count": 5,
      "outputs": [
        {
          "output_type": "stream",
          "text": [
            "CPU times: user 372 ms, sys: 69.4 ms, total: 441 ms\n",
            "Wall time: 1.56 s\n"
          ],
          "name": "stdout"
        }
      ]
    },
    {
      "cell_type": "markdown",
      "metadata": {
        "id": "VYwlZ3X_notQ",
        "colab_type": "text"
      },
      "source": [
        "**Now, let's do the same thing using NumPy arrays:**"
      ]
    },
    {
      "cell_type": "code",
      "metadata": {
        "id": "47EKXs26nrc6",
        "colab_type": "code",
        "colab": {
          "base_uri": "https://localhost:8080/",
          "height": 52
        },
        "outputId": "d5682568-eb21-4118-fb70-acaadd03dc39"
      },
      "source": [
        "%%time\n",
        "x = np.random.random((10000, 10000))\n",
        "y = x + x.T\n",
        "z = y[::2, 5000:].mean(axis=1)"
      ],
      "execution_count": 4,
      "outputs": [
        {
          "output_type": "stream",
          "text": [
            "CPU times: user 1.61 s, sys: 745 ms, total: 2.35 s\n",
            "Wall time: 2.26 s\n"
          ],
          "name": "stdout"
        }
      ]
    },
    {
      "cell_type": "markdown",
      "metadata": {
        "id": "PxCQ8Vqtn5R-",
        "colab_type": "text"
      },
      "source": [
        "**CHUNK METHOD MUCH FASTER**"
      ]
    },
    {
      "cell_type": "markdown",
      "metadata": {
        "id": "Ly-1WDW7oFwi",
        "colab_type": "text"
      },
      "source": [
        "**/////////////////////////////////////////////////////////////////**"
      ]
    },
    {
      "cell_type": "markdown",
      "metadata": {
        "id": "7lhb1zCfoKWv",
        "colab_type": "text"
      },
      "source": [
        "##**Persisting data in memory -- IF POSSIBLE**"
      ]
    },
    {
      "cell_type": "markdown",
      "metadata": {
        "id": "-lzlOtAToWNu",
        "colab_type": "text"
      },
      "source": [
        "**First, we make our computations without persisting the array**"
      ]
    },
    {
      "cell_type": "code",
      "metadata": {
        "id": "6nMNGw7VoQOK",
        "colab_type": "code",
        "colab": {}
      },
      "source": [
        "x = da.random.random((10000, 10000), chunks=(1000, 1000))"
      ],
      "execution_count": 0,
      "outputs": []
    },
    {
      "cell_type": "code",
      "metadata": {
        "id": "WAwHXnw8oeAr",
        "colab_type": "code",
        "colab": {
          "base_uri": "https://localhost:8080/",
          "height": 52
        },
        "outputId": "2d7b4794-3655-4f1c-acb1-b6531504b601"
      },
      "source": [
        "%%time\n",
        "y = x + x.T\n",
        "z = y[::2, 5000:].mean(axis=1)\n",
        "z.compute()"
      ],
      "execution_count": 7,
      "outputs": [
        {
          "output_type": "stream",
          "text": [
            "CPU times: user 265 ms, sys: 54.7 ms, total: 320 ms\n",
            "Wall time: 1.42 s\n"
          ],
          "name": "stdout"
        }
      ]
    },
    {
      "cell_type": "markdown",
      "metadata": {
        "id": "4xvnvnEzolsJ",
        "colab_type": "text"
      },
      "source": [
        "Now, we do the same thing this time **after persisting our array into the memory**"
      ]
    },
    {
      "cell_type": "code",
      "metadata": {
        "id": "MXv1NlJyooqM",
        "colab_type": "code",
        "colab": {
          "base_uri": "https://localhost:8080/",
          "height": 197
        },
        "outputId": "02e24e11-2663-4d15-a9e5-ed5f6e1e3032"
      },
      "source": [
        "x = da.random.random((10000, 10000), chunks=(1000, 1000))\n",
        "# This persists the x array into the memory\n",
        "x.persist()"
      ],
      "execution_count": 8,
      "outputs": [
        {
          "output_type": "execute_result",
          "data": {
            "text/html": [
              "<table>\n",
              "<tr>\n",
              "<td>\n",
              "<table>\n",
              "  <thead>\n",
              "    <tr><td> </td><th> Array </th><th> Chunk </th></tr>\n",
              "  </thead>\n",
              "  <tbody>\n",
              "    <tr><th> Bytes </th><td> 800.00 MB </td> <td> 8.00 MB </td></tr>\n",
              "    <tr><th> Shape </th><td> (10000, 10000) </td> <td> (1000, 1000) </td></tr>\n",
              "    <tr><th> Count </th><td> 100 Tasks </td><td> 100 Chunks </td></tr>\n",
              "    <tr><th> Type </th><td> float64 </td><td> numpy.ndarray </td></tr>\n",
              "  </tbody>\n",
              "</table>\n",
              "</td>\n",
              "<td>\n",
              "<svg width=\"170\" height=\"170\" style=\"stroke:rgb(0,0,0);stroke-width:1\" >\n",
              "\n",
              "  <!-- Horizontal lines -->\n",
              "  <line x1=\"0\" y1=\"0\" x2=\"120\" y2=\"0\" style=\"stroke-width:2\" />\n",
              "  <line x1=\"0\" y1=\"12\" x2=\"120\" y2=\"12\" />\n",
              "  <line x1=\"0\" y1=\"24\" x2=\"120\" y2=\"24\" />\n",
              "  <line x1=\"0\" y1=\"36\" x2=\"120\" y2=\"36\" />\n",
              "  <line x1=\"0\" y1=\"48\" x2=\"120\" y2=\"48\" />\n",
              "  <line x1=\"0\" y1=\"60\" x2=\"120\" y2=\"60\" />\n",
              "  <line x1=\"0\" y1=\"72\" x2=\"120\" y2=\"72\" />\n",
              "  <line x1=\"0\" y1=\"84\" x2=\"120\" y2=\"84\" />\n",
              "  <line x1=\"0\" y1=\"96\" x2=\"120\" y2=\"96\" />\n",
              "  <line x1=\"0\" y1=\"108\" x2=\"120\" y2=\"108\" />\n",
              "  <line x1=\"0\" y1=\"120\" x2=\"120\" y2=\"120\" style=\"stroke-width:2\" />\n",
              "\n",
              "  <!-- Vertical lines -->\n",
              "  <line x1=\"0\" y1=\"0\" x2=\"0\" y2=\"120\" style=\"stroke-width:2\" />\n",
              "  <line x1=\"12\" y1=\"0\" x2=\"12\" y2=\"120\" />\n",
              "  <line x1=\"24\" y1=\"0\" x2=\"24\" y2=\"120\" />\n",
              "  <line x1=\"36\" y1=\"0\" x2=\"36\" y2=\"120\" />\n",
              "  <line x1=\"48\" y1=\"0\" x2=\"48\" y2=\"120\" />\n",
              "  <line x1=\"60\" y1=\"0\" x2=\"60\" y2=\"120\" />\n",
              "  <line x1=\"72\" y1=\"0\" x2=\"72\" y2=\"120\" />\n",
              "  <line x1=\"84\" y1=\"0\" x2=\"84\" y2=\"120\" />\n",
              "  <line x1=\"96\" y1=\"0\" x2=\"96\" y2=\"120\" />\n",
              "  <line x1=\"108\" y1=\"0\" x2=\"108\" y2=\"120\" />\n",
              "  <line x1=\"120\" y1=\"0\" x2=\"120\" y2=\"120\" style=\"stroke-width:2\" />\n",
              "\n",
              "  <!-- Colored Rectangle -->\n",
              "  <polygon points=\"0.000000,0.000000 120.000000,0.000000 120.000000,120.000000 0.000000,120.000000\" style=\"fill:#ECB172A0;stroke-width:0\"/>\n",
              "\n",
              "  <!-- Text -->\n",
              "  <text x=\"60.000000\" y=\"140.000000\" font-size=\"1.0rem\" font-weight=\"100\" text-anchor=\"middle\" >10000</text>\n",
              "  <text x=\"140.000000\" y=\"60.000000\" font-size=\"1.0rem\" font-weight=\"100\" text-anchor=\"middle\" transform=\"rotate(-90,140.000000,60.000000)\">10000</text>\n",
              "</svg>\n",
              "</td>\n",
              "</tr>\n",
              "</table>"
            ],
            "text/plain": [
              "dask.array<random_sample, shape=(10000, 10000), dtype=float64, chunksize=(1000, 1000), chunktype=numpy.ndarray>"
            ]
          },
          "metadata": {
            "tags": []
          },
          "execution_count": 8
        }
      ]
    },
    {
      "cell_type": "markdown",
      "metadata": {
        "id": "yM8kDTruo0Mo",
        "colab_type": "text"
      },
      "source": [
        "**And we run the same computations above after persisting the array into the memory**"
      ]
    },
    {
      "cell_type": "code",
      "metadata": {
        "id": "7G9P7xsSo2wb",
        "colab_type": "code",
        "colab": {
          "base_uri": "https://localhost:8080/",
          "height": 52
        },
        "outputId": "fffaa34b-1791-49fc-d953-3559d79e19cc"
      },
      "source": [
        "%%time\n",
        "y = x + x.T\n",
        "z = y[::2, 5000:].mean(axis=1)\n",
        "z.compute()"
      ],
      "execution_count": 9,
      "outputs": [
        {
          "output_type": "stream",
          "text": [
            "CPU times: user 200 ms, sys: 30 ms, total: 230 ms\n",
            "Wall time: 856 ms\n"
          ],
          "name": "stdout"
        }
      ]
    },
    {
      "cell_type": "markdown",
      "metadata": {
        "id": "NPozXTAopAm1",
        "colab_type": "text"
      },
      "source": [
        "**FASTER BUT NOT HALF THE TIME**\n",
        "\n",
        "---\n",
        "\n"
      ]
    },
    {
      "cell_type": "markdown",
      "metadata": {
        "id": "34zVY3jepIaT",
        "colab_type": "text"
      },
      "source": [
        "**////////////////////////////////////////////////////////////////////////////////**"
      ]
    },
    {
      "cell_type": "code",
      "metadata": {
        "id": "RdeuGAZ3pOTf",
        "colab_type": "code",
        "colab": {
          "base_uri": "https://localhost:8080/",
          "height": 35
        },
        "outputId": "66aa4baa-d92f-42cb-b046-c3d7a1a814c9"
      },
      "source": [
        "%%timeit x = da.random.random((10000, 10000), chunks=(1000, 1000))\n",
        "\n",
        "y = x + x.T\n",
        "\n",
        "z = y[::2, 5000:].mean(axis=1)\n",
        "\n",
        "z.compute()"
      ],
      "execution_count": 10,
      "outputs": [
        {
          "output_type": "stream",
          "text": [
            "1 loop, best of 3: 1.41 s per loop\n"
          ],
          "name": "stdout"
        }
      ]
    },
    {
      "cell_type": "markdown",
      "metadata": {
        "id": "l1KojT_2pnvC",
        "colab_type": "text"
      },
      "source": [
        "**Change the code above by setting chunks=(250, 250).**"
      ]
    },
    {
      "cell_type": "code",
      "metadata": {
        "id": "8oUoESWEpr9u",
        "colab_type": "code",
        "colab": {
          "base_uri": "https://localhost:8080/",
          "height": 35
        },
        "outputId": "6802738c-234b-4ffe-84fc-da2741c06856"
      },
      "source": [
        "%%timeit x = da.random.random((10000, 10000), chunks=(250, 250))\n",
        "\n",
        "y = x + x.T\n",
        "\n",
        "z = y[::2, 5000:].mean(axis=1)\n",
        "\n",
        "z.compute()"
      ],
      "execution_count": 11,
      "outputs": [
        {
          "output_type": "stream",
          "text": [
            "1 loop, best of 3: 5.23 s per loop\n"
          ],
          "name": "stdout"
        }
      ]
    },
    {
      "cell_type": "markdown",
      "metadata": {
        "id": "89kl936Qp4I-",
        "colab_type": "text"
      },
      "source": [
        "**MUCH SLOWER**"
      ]
    },
    {
      "cell_type": "markdown",
      "metadata": {
        "id": "gVsKfunHqEi1",
        "colab_type": "text"
      },
      "source": [
        "**Now, set the parameter to chunks=(500, 500).**"
      ]
    },
    {
      "cell_type": "code",
      "metadata": {
        "id": "gTeT5mD7qHl1",
        "colab_type": "code",
        "colab": {
          "base_uri": "https://localhost:8080/",
          "height": 35
        },
        "outputId": "2b7c7519-402c-4e04-cb9c-310deba6a998"
      },
      "source": [
        "%%timeit x = da.random.random((10000, 10000), chunks=(500, 500))\n",
        "\n",
        "y = x + x.T\n",
        "\n",
        "z = y[::2, 5000:].mean(axis=1)\n",
        "\n",
        "z.compute()"
      ],
      "execution_count": 12,
      "outputs": [
        {
          "output_type": "stream",
          "text": [
            "1 loop, best of 3: 2.28 s per loop\n"
          ],
          "name": "stdout"
        }
      ]
    },
    {
      "cell_type": "markdown",
      "metadata": {
        "id": "3GuPwTtGqReV",
        "colab_type": "text"
      },
      "source": [
        "**MUCH FASTER**"
      ]
    },
    {
      "cell_type": "markdown",
      "metadata": {
        "id": "gGkcO6CNqVwa",
        "colab_type": "text"
      },
      "source": [
        "**NOT ASSIGNED BUT TRYING CHUNK SIZE=2000**"
      ]
    },
    {
      "cell_type": "code",
      "metadata": {
        "id": "ps0YEonCqdwC",
        "colab_type": "code",
        "colab": {
          "base_uri": "https://localhost:8080/",
          "height": 35
        },
        "outputId": "bbbdaa15-c84d-4265-c752-1b1565c718e1"
      },
      "source": [
        "%%timeit x = da.random.random((10000, 10000), chunks=(2000, 2000))\n",
        "\n",
        "y = x + x.T\n",
        "\n",
        "z = y[::2, 5000:].mean(axis=1)\n",
        "\n",
        "z.compute()"
      ],
      "execution_count": 14,
      "outputs": [
        {
          "output_type": "stream",
          "text": [
            "1 loop, best of 3: 1.37 s per loop\n"
          ],
          "name": "stdout"
        }
      ]
    },
    {
      "cell_type": "markdown",
      "metadata": {
        "id": "rGvz7tscq3r2",
        "colab_type": "text"
      },
      "source": [
        "**EVEN FASTER**"
      ]
    }
  ]
}