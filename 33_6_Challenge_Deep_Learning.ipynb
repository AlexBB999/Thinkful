{
  "nbformat": 4,
  "nbformat_minor": 0,
  "metadata": {
    "colab": {
      "name": "33.6 Challenge Deep Learning.ipynb",
      "provenance": [],
      "collapsed_sections": [],
      "authorship_tag": "ABX9TyNI8hIOZJyd3Oz7GtEsZgdm",
      "include_colab_link": true
    },
    "kernelspec": {
      "name": "python3",
      "display_name": "Python 3"
    }
  },
  "cells": [
    {
      "cell_type": "markdown",
      "metadata": {
        "id": "view-in-github",
        "colab_type": "text"
      },
      "source": [
        "<a href=\"https://colab.research.google.com/github/AlexBB999/Thinkful/blob/master/33_6_Challenge_Deep_Learning.ipynb\" target=\"_parent\"><img src=\"https://colab.research.google.com/assets/colab-badge.svg\" alt=\"Open In Colab\"/></a>"
      ]
    },
    {
      "cell_type": "markdown",
      "metadata": {
        "id": "Rohn1oLdFA3p",
        "colab_type": "text"
      },
      "source": [
        "#**Challenge**\n",
        "In this module, we introduced the basics of deep learning and the fundamental architecture of the artificial neural networks. During the examples in the checkpoints, we used a MNIST dataset. In this challenge, you'll work with another dataset called **fashion MNIST**. Using this dataset, you need to:\n",
        "\n",
        "**Preprocess your data so that you can feed it into ANN models**.\n",
        "\n",
        "**Split your data into training and test sets**.\n",
        "\n",
        "**Try different ANN models and train them on your training set**.\n",
        "\n",
        " You can play with: \n",
        "\n",
        "3.1. **Number of layers**.\n",
        "\n",
        "3.2. **Activation functions of the layers**.\n",
        "\n",
        "3.3. **Number of neurons in the layers**.\n",
        "\n",
        "\n",
        "**Compare your models' training scores and interpret your results**.\n",
        "\n",
        "**Evaluate your models' performances on your test set**.\n",
        "\n",
        "**Compare the results of your models**.\n",
        "\n"
      ]
    },
    {
      "cell_type": "code",
      "metadata": {
        "id": "laGhoJpEKMXU",
        "colab_type": "code",
        "colab": {}
      },
      "source": [
        "# TensorFlow and tf.keras\n",
        "import tensorflow as tf\n",
        "from tensorflow import keras\n",
        "\n",
        "# Helper libraries\n",
        "import numpy as np\n",
        "import matplotlib.pyplot as plt"
      ],
      "execution_count": 0,
      "outputs": []
    },
    {
      "cell_type": "markdown",
      "metadata": {
        "id": "MY0crB56oEct",
        "colab_type": "text"
      },
      "source": [
        "**LOAD DATA**"
      ]
    },
    {
      "cell_type": "code",
      "metadata": {
        "id": "KEQxMZmQKXMK",
        "colab_type": "code",
        "colab": {}
      },
      "source": [
        "fashion_mnist = keras.datasets.fashion_mnist\n",
        "\n",
        "(train_images, train_labels), (test_images, test_labels) = fashion_mnist.load_data()"
      ],
      "execution_count": 0,
      "outputs": []
    },
    {
      "cell_type": "markdown",
      "metadata": {
        "id": "LL0a4HKqUVVX",
        "colab_type": "text"
      },
      "source": [
        "**CHECK SHAPE AND RESHAPE**"
      ]
    },
    {
      "cell_type": "code",
      "metadata": {
        "id": "dCrm_jOXoAcB",
        "colab_type": "code",
        "colab": {}
      },
      "source": [
        "input_dim=784"
      ],
      "execution_count": 0,
      "outputs": []
    },
    {
      "cell_type": "code",
      "metadata": {
        "id": "cgVK4hXiLQZF",
        "colab_type": "code",
        "colab": {}
      },
      "source": [
        "X_train,y_train=(train_images, train_labels)"
      ],
      "execution_count": 0,
      "outputs": []
    },
    {
      "cell_type": "code",
      "metadata": {
        "id": "A5-obNGaTkW2",
        "colab_type": "code",
        "outputId": "3b197581-2c56-442c-89fa-add391636b4b",
        "colab": {
          "base_uri": "https://localhost:8080/",
          "height": 35
        }
      },
      "source": [
        "X_train.shape"
      ],
      "execution_count": 72,
      "outputs": [
        {
          "output_type": "execute_result",
          "data": {
            "text/plain": [
              "(60000, 28, 28)"
            ]
          },
          "metadata": {
            "tags": []
          },
          "execution_count": 72
        }
      ]
    },
    {
      "cell_type": "code",
      "metadata": {
        "id": "O0SBsec30Xam",
        "colab_type": "code",
        "colab": {}
      },
      "source": [
        "X_train=X_train.reshape(60000,input_dim)"
      ],
      "execution_count": 0,
      "outputs": []
    },
    {
      "cell_type": "code",
      "metadata": {
        "id": "Xed_rC_HTonx",
        "colab_type": "code",
        "colab": {}
      },
      "source": [
        "X_test,y_test=(test_images, test_labels)"
      ],
      "execution_count": 0,
      "outputs": []
    },
    {
      "cell_type": "code",
      "metadata": {
        "id": "G2FEbhZyTv6L",
        "colab_type": "code",
        "outputId": "c8815f00-920b-48c4-c5b7-21d8b1d7a4b6",
        "colab": {
          "base_uri": "https://localhost:8080/",
          "height": 35
        }
      },
      "source": [
        "X_test.shape"
      ],
      "execution_count": 81,
      "outputs": [
        {
          "output_type": "execute_result",
          "data": {
            "text/plain": [
              "(10000, 28, 28)"
            ]
          },
          "metadata": {
            "tags": []
          },
          "execution_count": 81
        }
      ]
    },
    {
      "cell_type": "code",
      "metadata": {
        "id": "UDRy05oa0oO0",
        "colab_type": "code",
        "colab": {}
      },
      "source": [
        "X_test=X_test.reshape(10000,input_dim)"
      ],
      "execution_count": 0,
      "outputs": []
    },
    {
      "cell_type": "markdown",
      "metadata": {
        "id": "OcV1zwUnwT2t",
        "colab_type": "text"
      },
      "source": [
        "**NORMALIZE THE DATA**"
      ]
    },
    {
      "cell_type": "code",
      "metadata": {
        "id": "SM3iumxEwY9v",
        "colab_type": "code",
        "colab": {}
      },
      "source": [
        "X_train=X_train/255\n",
        "X_test=X_test/255"
      ],
      "execution_count": 0,
      "outputs": []
    },
    {
      "cell_type": "markdown",
      "metadata": {
        "id": "JPHnbPLrxu14",
        "colab_type": "text"
      },
      "source": [
        "**CONVERT NUMERIC VARIABLES TO DUMMY VARIABLES**"
      ]
    },
    {
      "cell_type": "code",
      "metadata": {
        "id": "KbLJMZ7qxA-0",
        "colab_type": "code",
        "colab": {}
      },
      "source": [
        "from tensorflow.keras.utils import to_categorical\n",
        "y_train=to_categorical(y_train,10)\n",
        "y_test=to_categorical(y_test,10)"
      ],
      "execution_count": 0,
      "outputs": []
    },
    {
      "cell_type": "code",
      "metadata": {
        "id": "_0DY-4phyIE4",
        "colab_type": "code",
        "colab": {}
      },
      "source": [
        "from tensorflow.keras.models import Sequential\n",
        "from tensorflow.keras.layers import Dense"
      ],
      "execution_count": 0,
      "outputs": []
    },
    {
      "cell_type": "markdown",
      "metadata": {
        "id": "0kaT6f8_U8V6",
        "colab_type": "text"
      },
      "source": [
        "**CREATE MODEL WITH ONE HIDDEN LAYER**"
      ]
    },
    {
      "cell_type": "code",
      "metadata": {
        "id": "nSvoMkv-y8AF",
        "colab_type": "code",
        "colab": {}
      },
      "source": [
        "model = Sequential()\n",
        "# our first dense layer\n",
        "model.add(Dense(1028, input_shape=(784,), activation=\"relu\"))\n",
        "model.add(Dense(1028,'relu'))\n",
        "# last layer is the output layer.\n",
        "model.add(Dense(10, activation=\"sigmoid\"))"
      ],
      "execution_count": 0,
      "outputs": []
    },
    {
      "cell_type": "code",
      "metadata": {
        "id": "FiAiMeptzFP7",
        "colab_type": "code",
        "outputId": "ba1bad8c-47c0-43a0-b95e-056cddc9d1cc",
        "colab": {
          "base_uri": "https://localhost:8080/",
          "height": 260
        }
      },
      "source": [
        "model.summary()"
      ],
      "execution_count": 119,
      "outputs": [
        {
          "output_type": "stream",
          "text": [
            "Model: \"sequential_13\"\n",
            "_________________________________________________________________\n",
            "Layer (type)                 Output Shape              Param #   \n",
            "=================================================================\n",
            "dense_44 (Dense)             (None, 1028)              806980    \n",
            "_________________________________________________________________\n",
            "dense_45 (Dense)             (None, 1028)              1057812   \n",
            "_________________________________________________________________\n",
            "dense_46 (Dense)             (None, 10)                10290     \n",
            "=================================================================\n",
            "Total params: 1,875,082\n",
            "Trainable params: 1,875,082\n",
            "Non-trainable params: 0\n",
            "_________________________________________________________________\n"
          ],
          "name": "stdout"
        }
      ]
    },
    {
      "cell_type": "code",
      "metadata": {
        "id": "dGd3xJo7ZCBa",
        "colab_type": "code",
        "colab": {}
      },
      "source": [
        "model.compile(optimizer='sgd',loss='binary_crossentropy',metrics=['accuracy'])"
      ],
      "execution_count": 0,
      "outputs": []
    },
    {
      "cell_type": "code",
      "metadata": {
        "id": "kN0I6yT9zijB",
        "colab_type": "code",
        "outputId": "902d953d-42b9-4525-e603-9a7204b1e586",
        "colab": {
          "base_uri": "https://localhost:8080/",
          "height": 1000
        }
      },
      "source": [
        "batch_size=80\n",
        "model.fit(X_test, y_test, batch_size=batch_size, epochs=50, verbose=1)"
      ],
      "execution_count": 111,
      "outputs": [
        {
          "output_type": "stream",
          "text": [
            "Epoch 1/50\n",
            "125/125 [==============================] - 3s 22ms/step - loss: 0.4040 - accuracy: 0.2269\n",
            "Epoch 2/50\n",
            "125/125 [==============================] - 3s 22ms/step - loss: 0.3156 - accuracy: 0.5164\n",
            "Epoch 3/50\n",
            "125/125 [==============================] - 3s 22ms/step - loss: 0.2890 - accuracy: 0.5981\n",
            "Epoch 4/50\n",
            "125/125 [==============================] - 3s 22ms/step - loss: 0.2670 - accuracy: 0.6263\n",
            "Epoch 5/50\n",
            "125/125 [==============================] - 3s 22ms/step - loss: 0.2486 - accuracy: 0.6403\n",
            "Epoch 6/50\n",
            "125/125 [==============================] - 3s 22ms/step - loss: 0.2331 - accuracy: 0.6472\n",
            "Epoch 7/50\n",
            "125/125 [==============================] - 3s 22ms/step - loss: 0.2202 - accuracy: 0.6528\n",
            "Epoch 8/50\n",
            "125/125 [==============================] - 3s 22ms/step - loss: 0.2094 - accuracy: 0.6574\n",
            "Epoch 9/50\n",
            "125/125 [==============================] - 3s 22ms/step - loss: 0.2004 - accuracy: 0.6609\n",
            "Epoch 10/50\n",
            "125/125 [==============================] - 3s 22ms/step - loss: 0.1927 - accuracy: 0.6653\n",
            "Epoch 11/50\n",
            "125/125 [==============================] - 3s 22ms/step - loss: 0.1861 - accuracy: 0.6688\n",
            "Epoch 12/50\n",
            "125/125 [==============================] - 3s 22ms/step - loss: 0.1804 - accuracy: 0.6723\n",
            "Epoch 13/50\n",
            "125/125 [==============================] - 3s 22ms/step - loss: 0.1754 - accuracy: 0.6750\n",
            "Epoch 14/50\n",
            "125/125 [==============================] - 3s 22ms/step - loss: 0.1710 - accuracy: 0.6833\n",
            "Epoch 15/50\n",
            "125/125 [==============================] - 3s 22ms/step - loss: 0.1671 - accuracy: 0.6859\n",
            "Epoch 16/50\n",
            "125/125 [==============================] - 3s 22ms/step - loss: 0.1636 - accuracy: 0.6911\n",
            "Epoch 17/50\n",
            "125/125 [==============================] - 3s 22ms/step - loss: 0.1604 - accuracy: 0.6961\n",
            "Epoch 18/50\n",
            "125/125 [==============================] - 3s 22ms/step - loss: 0.1575 - accuracy: 0.7009\n",
            "Epoch 19/50\n",
            "125/125 [==============================] - 3s 22ms/step - loss: 0.1548 - accuracy: 0.7057\n",
            "Epoch 20/50\n",
            "125/125 [==============================] - 3s 22ms/step - loss: 0.1524 - accuracy: 0.7104\n",
            "Epoch 21/50\n",
            "125/125 [==============================] - 3s 22ms/step - loss: 0.1502 - accuracy: 0.7174\n",
            "Epoch 22/50\n",
            "125/125 [==============================] - 3s 22ms/step - loss: 0.1480 - accuracy: 0.7190\n",
            "Epoch 23/50\n",
            "125/125 [==============================] - 3s 22ms/step - loss: 0.1461 - accuracy: 0.7208\n",
            "Epoch 24/50\n",
            "125/125 [==============================] - 3s 22ms/step - loss: 0.1442 - accuracy: 0.7236\n",
            "Epoch 25/50\n",
            "125/125 [==============================] - 3s 22ms/step - loss: 0.1425 - accuracy: 0.7283\n",
            "Epoch 26/50\n",
            "125/125 [==============================] - 3s 22ms/step - loss: 0.1409 - accuracy: 0.7306\n",
            "Epoch 27/50\n",
            "125/125 [==============================] - 3s 21ms/step - loss: 0.1393 - accuracy: 0.7324\n",
            "Epoch 28/50\n",
            "125/125 [==============================] - 3s 22ms/step - loss: 0.1379 - accuracy: 0.7371\n",
            "Epoch 29/50\n",
            "125/125 [==============================] - 4s 35ms/step - loss: 0.1365 - accuracy: 0.7387\n",
            "Epoch 30/50\n",
            "125/125 [==============================] - 5s 40ms/step - loss: 0.1351 - accuracy: 0.7410\n",
            "Epoch 31/50\n",
            "125/125 [==============================] - 4s 35ms/step - loss: 0.1338 - accuracy: 0.7418\n",
            "Epoch 32/50\n",
            "125/125 [==============================] - 3s 21ms/step - loss: 0.1326 - accuracy: 0.7458\n",
            "Epoch 33/50\n",
            "125/125 [==============================] - 3s 21ms/step - loss: 0.1315 - accuracy: 0.7471\n",
            "Epoch 34/50\n",
            "125/125 [==============================] - 3s 21ms/step - loss: 0.1304 - accuracy: 0.7513\n",
            "Epoch 35/50\n",
            "125/125 [==============================] - 3s 22ms/step - loss: 0.1293 - accuracy: 0.7540\n",
            "Epoch 36/50\n",
            "125/125 [==============================] - 3s 21ms/step - loss: 0.1282 - accuracy: 0.7560\n",
            "Epoch 37/50\n",
            "125/125 [==============================] - 3s 21ms/step - loss: 0.1272 - accuracy: 0.7582\n",
            "Epoch 38/50\n",
            "125/125 [==============================] - 3s 21ms/step - loss: 0.1263 - accuracy: 0.7602\n",
            "Epoch 39/50\n",
            "125/125 [==============================] - 3s 21ms/step - loss: 0.1254 - accuracy: 0.7634\n",
            "Epoch 40/50\n",
            "125/125 [==============================] - 3s 21ms/step - loss: 0.1245 - accuracy: 0.7637\n",
            "Epoch 41/50\n",
            "125/125 [==============================] - 3s 21ms/step - loss: 0.1236 - accuracy: 0.7656\n",
            "Epoch 42/50\n",
            "125/125 [==============================] - 3s 21ms/step - loss: 0.1228 - accuracy: 0.7682\n",
            "Epoch 43/50\n",
            "125/125 [==============================] - 3s 22ms/step - loss: 0.1220 - accuracy: 0.7714\n",
            "Epoch 44/50\n",
            "125/125 [==============================] - 3s 21ms/step - loss: 0.1212 - accuracy: 0.7711\n",
            "Epoch 45/50\n",
            "125/125 [==============================] - 3s 21ms/step - loss: 0.1205 - accuracy: 0.7737\n",
            "Epoch 46/50\n",
            "125/125 [==============================] - 3s 22ms/step - loss: 0.1197 - accuracy: 0.7751\n",
            "Epoch 47/50\n",
            "125/125 [==============================] - 3s 23ms/step - loss: 0.1190 - accuracy: 0.7783\n",
            "Epoch 48/50\n",
            "125/125 [==============================] - 3s 21ms/step - loss: 0.1183 - accuracy: 0.7786\n",
            "Epoch 49/50\n",
            "125/125 [==============================] - 3s 21ms/step - loss: 0.1177 - accuracy: 0.7778\n",
            "Epoch 50/50\n",
            "125/125 [==============================] - 3s 21ms/step - loss: 0.1170 - accuracy: 0.7814\n"
          ],
          "name": "stdout"
        },
        {
          "output_type": "execute_result",
          "data": {
            "text/plain": [
              "<tensorflow.python.keras.callbacks.History at 0x7fdecb8e3668>"
            ]
          },
          "metadata": {
            "tags": []
          },
          "execution_count": 111
        }
      ]
    },
    {
      "cell_type": "code",
      "metadata": {
        "id": "O1JahfKY2-3v",
        "colab_type": "code",
        "outputId": "2f45d563-89cc-447a-ee42-e0433423c4f1",
        "colab": {
          "base_uri": "https://localhost:8080/",
          "height": 35
        }
      },
      "source": [
        "score=model.evaluate(X_test,y_test,verbose=0)\n",
        "score"
      ],
      "execution_count": 112,
      "outputs": [
        {
          "output_type": "execute_result",
          "data": {
            "text/plain": [
              "[0.116784006357193, 0.7763000130653381]"
            ]
          },
          "metadata": {
            "tags": []
          },
          "execution_count": 112
        }
      ]
    },
    {
      "cell_type": "markdown",
      "metadata": {
        "id": "pifGc_B03GFx",
        "colab_type": "text"
      },
      "source": [
        "**MEDIOCRE RESULTS**"
      ]
    },
    {
      "cell_type": "markdown",
      "metadata": {
        "id": "47Kl6pS63dIL",
        "colab_type": "text"
      },
      "source": [
        "**//////////////////////////////////////////////////////**"
      ]
    },
    {
      "cell_type": "markdown",
      "metadata": {
        "id": "WdYNhXME3gzf",
        "colab_type": "text"
      },
      "source": [
        "**LET'S ADD ANOTHER LAYER**"
      ]
    },
    {
      "cell_type": "code",
      "metadata": {
        "id": "3kmjsNHo31Sp",
        "colab_type": "code",
        "colab": {}
      },
      "source": [
        "model = Sequential()\n",
        "# our first dense layer\n",
        "model.add(Dense(1028, input_shape=(784,), activation=\"relu\"))\n",
        "model.add(Dense(1028,'relu'))\n",
        "model.add(Dense(1028,activation='relu'))\n",
        "# last layer is the output layer.\n",
        "model.add(Dense(10, activation=\"sigmoid\"))"
      ],
      "execution_count": 0,
      "outputs": []
    },
    {
      "cell_type": "code",
      "metadata": {
        "id": "xoBmOH6bYV1r",
        "colab_type": "code",
        "colab": {
          "base_uri": "https://localhost:8080/",
          "height": 295
        },
        "outputId": "07520c32-e4cc-4af6-fc9c-7a64d27311ef"
      },
      "source": [
        "model.summary()"
      ],
      "execution_count": 125,
      "outputs": [
        {
          "output_type": "stream",
          "text": [
            "Model: \"sequential_15\"\n",
            "_________________________________________________________________\n",
            "Layer (type)                 Output Shape              Param #   \n",
            "=================================================================\n",
            "dense_51 (Dense)             (None, 1028)              806980    \n",
            "_________________________________________________________________\n",
            "dense_52 (Dense)             (None, 1028)              1057812   \n",
            "_________________________________________________________________\n",
            "dense_53 (Dense)             (None, 1028)              1057812   \n",
            "_________________________________________________________________\n",
            "dense_54 (Dense)             (None, 10)                10290     \n",
            "=================================================================\n",
            "Total params: 2,932,894\n",
            "Trainable params: 2,932,894\n",
            "Non-trainable params: 0\n",
            "_________________________________________________________________\n"
          ],
          "name": "stdout"
        }
      ]
    },
    {
      "cell_type": "code",
      "metadata": {
        "id": "c-YRkhT3bAeJ",
        "colab_type": "code",
        "colab": {
          "base_uri": "https://localhost:8080/",
          "height": 1000
        },
        "outputId": "0c0602b8-94ec-4765-9700-713099e0cc4c"
      },
      "source": [
        "model.compile(optimizer='sgd',loss='binary_crossentropy',metrics=['accuracy'])\n",
        "batch_size=80\n",
        "model.fit(X_test, y_test, batch_size=batch_size, epochs=50, verbose=1)"
      ],
      "execution_count": 126,
      "outputs": [
        {
          "output_type": "stream",
          "text": [
            "Epoch 1/50\n",
            "125/125 [==============================] - 4s 36ms/step - loss: 0.4009 - accuracy: 0.2544\n",
            "Epoch 2/50\n",
            "125/125 [==============================] - 4s 36ms/step - loss: 0.3179 - accuracy: 0.4914\n",
            "Epoch 3/50\n",
            "125/125 [==============================] - 4s 36ms/step - loss: 0.2935 - accuracy: 0.6116\n",
            "Epoch 4/50\n",
            "125/125 [==============================] - 4s 36ms/step - loss: 0.2706 - accuracy: 0.6345\n",
            "Epoch 5/50\n",
            "125/125 [==============================] - 4s 36ms/step - loss: 0.2496 - accuracy: 0.6435\n",
            "Epoch 6/50\n",
            "125/125 [==============================] - 4s 36ms/step - loss: 0.2314 - accuracy: 0.6489\n",
            "Epoch 7/50\n",
            "125/125 [==============================] - 4s 35ms/step - loss: 0.2163 - accuracy: 0.6535\n",
            "Epoch 8/50\n",
            "125/125 [==============================] - 4s 36ms/step - loss: 0.2040 - accuracy: 0.6557\n",
            "Epoch 9/50\n",
            "125/125 [==============================] - 4s 35ms/step - loss: 0.1940 - accuracy: 0.6599\n",
            "Epoch 10/50\n",
            "125/125 [==============================] - 4s 35ms/step - loss: 0.1857 - accuracy: 0.6623\n",
            "Epoch 11/50\n",
            "125/125 [==============================] - 4s 36ms/step - loss: 0.1787 - accuracy: 0.6663\n",
            "Epoch 12/50\n",
            "125/125 [==============================] - 4s 35ms/step - loss: 0.1729 - accuracy: 0.6703\n",
            "Epoch 13/50\n",
            "125/125 [==============================] - 4s 36ms/step - loss: 0.1678 - accuracy: 0.6744\n",
            "Epoch 14/50\n",
            "125/125 [==============================] - 5s 38ms/step - loss: 0.1633 - accuracy: 0.6805\n",
            "Epoch 15/50\n",
            "125/125 [==============================] - 4s 36ms/step - loss: 0.1594 - accuracy: 0.6844\n",
            "Epoch 16/50\n",
            "125/125 [==============================] - 4s 35ms/step - loss: 0.1559 - accuracy: 0.6924\n",
            "Epoch 17/50\n",
            "125/125 [==============================] - 4s 35ms/step - loss: 0.1527 - accuracy: 0.6941\n",
            "Epoch 18/50\n",
            "125/125 [==============================] - 4s 35ms/step - loss: 0.1499 - accuracy: 0.6994\n",
            "Epoch 19/50\n",
            "125/125 [==============================] - 4s 36ms/step - loss: 0.1473 - accuracy: 0.7042\n",
            "Epoch 20/50\n",
            "125/125 [==============================] - 4s 36ms/step - loss: 0.1448 - accuracy: 0.7103\n",
            "Epoch 21/50\n",
            "125/125 [==============================] - 4s 36ms/step - loss: 0.1426 - accuracy: 0.7109\n",
            "Epoch 22/50\n",
            "125/125 [==============================] - 4s 36ms/step - loss: 0.1405 - accuracy: 0.7148\n",
            "Epoch 23/50\n",
            "125/125 [==============================] - 4s 36ms/step - loss: 0.1387 - accuracy: 0.7199\n",
            "Epoch 24/50\n",
            "125/125 [==============================] - 4s 35ms/step - loss: 0.1368 - accuracy: 0.7255\n",
            "Epoch 25/50\n",
            "125/125 [==============================] - 4s 35ms/step - loss: 0.1351 - accuracy: 0.7287\n",
            "Epoch 26/50\n",
            "125/125 [==============================] - 4s 35ms/step - loss: 0.1335 - accuracy: 0.7303\n",
            "Epoch 27/50\n",
            "125/125 [==============================] - 4s 36ms/step - loss: 0.1320 - accuracy: 0.7365\n",
            "Epoch 28/50\n",
            "125/125 [==============================] - 4s 35ms/step - loss: 0.1306 - accuracy: 0.7382\n",
            "Epoch 29/50\n",
            "125/125 [==============================] - 4s 36ms/step - loss: 0.1293 - accuracy: 0.7435\n",
            "Epoch 30/50\n",
            "125/125 [==============================] - 4s 36ms/step - loss: 0.1279 - accuracy: 0.7473\n",
            "Epoch 31/50\n",
            "125/125 [==============================] - 4s 35ms/step - loss: 0.1267 - accuracy: 0.7494\n",
            "Epoch 32/50\n",
            "125/125 [==============================] - 4s 35ms/step - loss: 0.1255 - accuracy: 0.7522\n",
            "Epoch 33/50\n",
            "125/125 [==============================] - 4s 36ms/step - loss: 0.1244 - accuracy: 0.7570\n",
            "Epoch 34/50\n",
            "125/125 [==============================] - 4s 36ms/step - loss: 0.1232 - accuracy: 0.7588\n",
            "Epoch 35/50\n",
            "125/125 [==============================] - 4s 36ms/step - loss: 0.1222 - accuracy: 0.7598\n",
            "Epoch 36/50\n",
            "125/125 [==============================] - 4s 35ms/step - loss: 0.1211 - accuracy: 0.7662\n",
            "Epoch 37/50\n",
            "125/125 [==============================] - 4s 35ms/step - loss: 0.1202 - accuracy: 0.7644\n",
            "Epoch 38/50\n",
            "125/125 [==============================] - 4s 35ms/step - loss: 0.1192 - accuracy: 0.7683\n",
            "Epoch 39/50\n",
            "125/125 [==============================] - 4s 35ms/step - loss: 0.1183 - accuracy: 0.7708\n",
            "Epoch 40/50\n",
            "125/125 [==============================] - 4s 36ms/step - loss: 0.1174 - accuracy: 0.7741\n",
            "Epoch 41/50\n",
            "125/125 [==============================] - 4s 36ms/step - loss: 0.1165 - accuracy: 0.7758\n",
            "Epoch 42/50\n",
            "125/125 [==============================] - 4s 35ms/step - loss: 0.1157 - accuracy: 0.7780\n",
            "Epoch 43/50\n",
            "125/125 [==============================] - 4s 35ms/step - loss: 0.1149 - accuracy: 0.7797\n",
            "Epoch 44/50\n",
            "125/125 [==============================] - 4s 35ms/step - loss: 0.1141 - accuracy: 0.7810\n",
            "Epoch 45/50\n",
            "125/125 [==============================] - 4s 35ms/step - loss: 0.1133 - accuracy: 0.7835\n",
            "Epoch 46/50\n",
            "125/125 [==============================] - 4s 35ms/step - loss: 0.1126 - accuracy: 0.7849\n",
            "Epoch 47/50\n",
            "125/125 [==============================] - 4s 36ms/step - loss: 0.1118 - accuracy: 0.7862\n",
            "Epoch 48/50\n",
            "125/125 [==============================] - 4s 35ms/step - loss: 0.1112 - accuracy: 0.7900\n",
            "Epoch 49/50\n",
            "125/125 [==============================] - 4s 35ms/step - loss: 0.1105 - accuracy: 0.7933\n",
            "Epoch 50/50\n",
            "125/125 [==============================] - 4s 36ms/step - loss: 0.1099 - accuracy: 0.7914\n"
          ],
          "name": "stdout"
        },
        {
          "output_type": "execute_result",
          "data": {
            "text/plain": [
              "<tensorflow.python.keras.callbacks.History at 0x7fded01bb780>"
            ]
          },
          "metadata": {
            "tags": []
          },
          "execution_count": 126
        }
      ]
    },
    {
      "cell_type": "code",
      "metadata": {
        "id": "690tWblKcWVZ",
        "colab_type": "code",
        "colab": {
          "base_uri": "https://localhost:8080/",
          "height": 35
        },
        "outputId": "be2d171b-7628-4996-b18a-7ee33d2b2f44"
      },
      "source": [
        "score=model.evaluate(X_test,y_test,verbose=0)\n",
        "score"
      ],
      "execution_count": 127,
      "outputs": [
        {
          "output_type": "execute_result",
          "data": {
            "text/plain": [
              "[0.10935534536838531, 0.7940999865531921]"
            ]
          },
          "metadata": {
            "tags": []
          },
          "execution_count": 127
        }
      ]
    },
    {
      "cell_type": "markdown",
      "metadata": {
        "id": "YWQUwp1IfNac",
        "colab_type": "text"
      },
      "source": [
        "**SLIGHTLY BETTER  -BOTH LOSS AND ACCURACY**"
      ]
    },
    {
      "cell_type": "markdown",
      "metadata": {
        "id": "MOu6KiTwg8z6",
        "colab_type": "text"
      },
      "source": [
        "**/////////////////////////////////////////////////////////////**"
      ]
    },
    {
      "cell_type": "markdown",
      "metadata": {
        "id": "_R4lPy4pfXos",
        "colab_type": "text"
      },
      "source": [
        "**WILL CHANGE NUMBER OF NEURONS IN 2ND HIDDEN LAYER-- SET VERBOSE=0 SO THIS NOTEBOOK WONT GO ON FOREVER**"
      ]
    },
    {
      "cell_type": "code",
      "metadata": {
        "id": "qbUUCmrefibH",
        "colab_type": "code",
        "colab": {}
      },
      "source": [
        "model = Sequential()\n",
        "# our first dense layer\n",
        "model.add(Dense(1028, input_shape=(784,), activation=\"relu\"))\n",
        "model.add(Dense(1028,'relu'))\n",
        "model.add(Dense(512,activation='relu'))\n",
        "# last layer is the output layer.\n",
        "model.add(Dense(10, activation=\"sigmoid\"))"
      ],
      "execution_count": 0,
      "outputs": []
    },
    {
      "cell_type": "code",
      "metadata": {
        "id": "k-yMAQOjfqg6",
        "colab_type": "code",
        "colab": {
          "base_uri": "https://localhost:8080/",
          "height": 35
        },
        "outputId": "c9c8402b-37c2-472b-b955-23262ef4b93f"
      },
      "source": [
        "model.compile(optimizer='sgd',loss='binary_crossentropy',metrics=['accuracy'])\n",
        "batch_size=80\n",
        "model.fit(X_test, y_test, batch_size=batch_size, epochs=50, verbose=0)"
      ],
      "execution_count": 130,
      "outputs": [
        {
          "output_type": "execute_result",
          "data": {
            "text/plain": [
              "<tensorflow.python.keras.callbacks.History at 0x7fdec7503dd8>"
            ]
          },
          "metadata": {
            "tags": []
          },
          "execution_count": 130
        }
      ]
    },
    {
      "cell_type": "code",
      "metadata": {
        "id": "RB0Lqc_7gq09",
        "colab_type": "code",
        "colab": {
          "base_uri": "https://localhost:8080/",
          "height": 35
        },
        "outputId": "fc41676b-5dcc-4d0a-a3dd-e47f9810a489"
      },
      "source": [
        "score=model.evaluate(X_test,y_test,verbose=0)\n",
        "score"
      ],
      "execution_count": 131,
      "outputs": [
        {
          "output_type": "execute_result",
          "data": {
            "text/plain": [
              "[0.1089605838060379, 0.7940999865531921]"
            ]
          },
          "metadata": {
            "tags": []
          },
          "execution_count": 131
        }
      ]
    },
    {
      "cell_type": "markdown",
      "metadata": {
        "id": "qoItLYoygypJ",
        "colab_type": "text"
      },
      "source": [
        "**BASICALLY IDENTICAL -- SLIGHTLY LOWER LOSS**"
      ]
    },
    {
      "cell_type": "markdown",
      "metadata": {
        "id": "Sw6inkafhBDq",
        "colab_type": "text"
      },
      "source": [
        "**///////////////////////////////////////////////////////////**"
      ]
    },
    {
      "cell_type": "markdown",
      "metadata": {
        "id": "LE2P1ySUhEZ2",
        "colab_type": "text"
      },
      "source": [
        "**CHANGING OPTOMIZER FROM SGD TO ADAM -- EXPECT BIG IMPORVEMENT**"
      ]
    },
    {
      "cell_type": "code",
      "metadata": {
        "id": "7046qVBEhTYP",
        "colab_type": "code",
        "colab": {}
      },
      "source": [
        "model = Sequential()\n",
        "# our first dense layer\n",
        "model.add(Dense(1028, input_shape=(784,), activation=\"relu\"))\n",
        "model.add(Dense(1028,'relu'))\n",
        "model.add(Dense(512,activation='relu'))\n",
        "# last layer is the output layer.\n",
        "model.add(Dense(10, activation=\"sigmoid\"))"
      ],
      "execution_count": 0,
      "outputs": []
    },
    {
      "cell_type": "code",
      "metadata": {
        "id": "hLWdcIrNhZQg",
        "colab_type": "code",
        "colab": {
          "base_uri": "https://localhost:8080/",
          "height": 35
        },
        "outputId": "d578b557-f7f4-4ab9-cc8a-c05b421ac4a7"
      },
      "source": [
        "model.compile(optimizer='adam',loss='binary_crossentropy',metrics=['accuracy'])\n",
        "batch_size=80\n",
        "model.fit(X_test, y_test, batch_size=batch_size, epochs=50, verbose=0)"
      ],
      "execution_count": 134,
      "outputs": [
        {
          "output_type": "execute_result",
          "data": {
            "text/plain": [
              "<tensorflow.python.keras.callbacks.History at 0x7fdec6367dd8>"
            ]
          },
          "metadata": {
            "tags": []
          },
          "execution_count": 134
        }
      ]
    },
    {
      "cell_type": "code",
      "metadata": {
        "id": "VvBXMuzOiqxh",
        "colab_type": "code",
        "colab": {
          "base_uri": "https://localhost:8080/",
          "height": 35
        },
        "outputId": "0788648e-2940-40db-88db-eeb003f45a40"
      },
      "source": [
        "score=model.evaluate(X_test,y_test,verbose=0)\n",
        "score"
      ],
      "execution_count": 135,
      "outputs": [
        {
          "output_type": "execute_result",
          "data": {
            "text/plain": [
              "[0.009053688496351242, 0.9830999970436096]"
            ]
          },
          "metadata": {
            "tags": []
          },
          "execution_count": 135
        }
      ]
    },
    {
      "cell_type": "markdown",
      "metadata": {
        "id": "Xna_vMdHiv05",
        "colab_type": "text"
      },
      "source": [
        "**EXCELLENT RESULTS -- ADAM IS THE FIRST CHOICE FOR DEEP LEARNING**"
      ]
    },
    {
      "cell_type": "markdown",
      "metadata": {
        "id": "PoQaUXJyi_qk",
        "colab_type": "text"
      },
      "source": [
        "**//////////////////////////////////////////////////////////**"
      ]
    },
    {
      "cell_type": "markdown",
      "metadata": {
        "id": "Hapq85t7jDJO",
        "colab_type": "text"
      },
      "source": [
        "**UNFORTUNATELY, THERE IS NO GRIDSEARCH FOR KERAS**\n",
        "\n",
        "**WE COULD GO ON FOREVER CHANGING MODELS AND HYPER-PARAMETERS**"
      ]
    },
    {
      "cell_type": "markdown",
      "metadata": {
        "id": "5p6DSNEOnGvK",
        "colab_type": "text"
      },
      "source": [
        "**////////////////////////////////////////////////////////////**"
      ]
    },
    {
      "cell_type": "markdown",
      "metadata": {
        "id": "CL8OhLrInKGj",
        "colab_type": "text"
      },
      "source": [
        "**Note that each time i created a new model I set  model=Sequential()**\n",
        "\n",
        "**Necessary otherwise weight carry over**"
      ]
    }
  ]
}