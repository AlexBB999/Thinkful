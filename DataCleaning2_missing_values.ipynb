{
  "nbformat": 4,
  "nbformat_minor": 0,
  "metadata": {
    "colab": {
      "name": "DataCleaning2-missing values.ipynb",
      "provenance": [],
      "collapsed_sections": [],
      "authorship_tag": "ABX9TyMnoMQ7+gola4gr6f0tSJI7",
      "include_colab_link": true
    },
    "kernelspec": {
      "name": "python3",
      "display_name": "Python 3"
    }
  },
  "cells": [
    {
      "cell_type": "markdown",
      "metadata": {
        "id": "view-in-github",
        "colab_type": "text"
      },
      "source": [
        "<a href=\"https://colab.research.google.com/github/AlexBB999/Thinkful/blob/master/DataCleaning2_missing_values.ipynb\" target=\"_parent\"><img src=\"https://colab.research.google.com/assets/colab-badge.svg\" alt=\"Open In Colab\"/></a>"
      ]
    },
    {
      "cell_type": "code",
      "metadata": {
        "id": "3UoTyiqGSFka",
        "colab_type": "code",
        "colab": {}
      },
      "source": [
        "# Import the SQL ALchemy engine\n",
        "from sqlalchemy import create_engine"
      ],
      "execution_count": 0,
      "outputs": []
    },
    {
      "cell_type": "code",
      "metadata": {
        "id": "BSKHoV2sMrQV",
        "colab_type": "code",
        "colab": {}
      },
      "source": [
        "%matplotlib inline\n",
        "import pandas as pd\n",
        "import numpy as np\n",
        "import matplotlib.pyplot as plt\n",
        "from scipy import stats"
      ],
      "execution_count": 0,
      "outputs": []
    },
    {
      "cell_type": "code",
      "metadata": {
        "id": "S7ZaPb8BSJtT",
        "colab_type": "code",
        "colab": {}
      },
      "source": [
        "postgres_user = 'dsbc_student'\n",
        "postgres_pw = '7*.8G9QH21'\n",
        "postgres_host = '142.93.121.174'\n",
        "postgres_port = '5432'\n",
        "postgres_db = 'useducation'"
      ],
      "execution_count": 0,
      "outputs": []
    },
    {
      "cell_type": "code",
      "metadata": {
        "id": "ThQqq2agS2Vc",
        "colab_type": "code",
        "colab": {}
      },
      "source": [
        "# use the credentials to start a connection\n",
        "engine = create_engine('postgresql://{}:{}@{}:{}/{}'.format(\n",
        "    postgres_user, postgres_pw, postgres_host, postgres_port, postgres_db))"
      ],
      "execution_count": 0,
      "outputs": []
    },
    {
      "cell_type": "code",
      "metadata": {
        "id": "qK-boSHOTNsR",
        "colab_type": "code",
        "colab": {}
      },
      "source": [
        "#youtube_df = pd.read_sql_query('select * from youtube',con=engine)\n",
        "ed0 = pd.read_sql_query('select * FROM useducation',con=engine)\n",
        "\n",
        "\n",
        "#educate= engine.execute('SELECT * FROM useducation' )\n",
        "engine.dispose()"
      ],
      "execution_count": 0,
      "outputs": []
    },
    {
      "cell_type": "code",
      "metadata": {
        "id": "IC2xC1n5TfNk",
        "colab_type": "code",
        "colab": {}
      },
      "source": [
        "# use fetchall() to get a list of rows from the results.\n",
        "#ed = educate.fetchall()"
      ],
      "execution_count": 0,
      "outputs": []
    },
    {
      "cell_type": "code",
      "metadata": {
        "id": "oMq9qU9_8s-D",
        "colab_type": "code",
        "colab": {}
      },
      "source": [
        "ed=ed0.copy()"
      ],
      "execution_count": 0,
      "outputs": []
    },
    {
      "cell_type": "code",
      "metadata": {
        "id": "qc0ARryX8yDc",
        "colab_type": "code",
        "colab": {}
      },
      "source": [
        "ed1=ed0.copy()"
      ],
      "execution_count": 0,
      "outputs": []
    },
    {
      "cell_type": "code",
      "metadata": {
        "id": "s5Zkrfvp_qDO",
        "colab_type": "code",
        "colab": {}
      },
      "source": [
        "ed2=ed0.copy()"
      ],
      "execution_count": 0,
      "outputs": []
    },
    {
      "cell_type": "code",
      "metadata": {
        "id": "x5EHGhzpz7td",
        "colab_type": "code",
        "outputId": "7a7f05d5-b313-4eeb-9209-6b550bd5f7ee",
        "colab": {
          "base_uri": "https://localhost:8080/",
          "height": 215
        }
      },
      "source": [
        "ed.head()"
      ],
      "execution_count": 10,
      "outputs": [
        {
          "output_type": "execute_result",
          "data": {
            "text/html": [
              "<div>\n",
              "<style scoped>\n",
              "    .dataframe tbody tr th:only-of-type {\n",
              "        vertical-align: middle;\n",
              "    }\n",
              "\n",
              "    .dataframe tbody tr th {\n",
              "        vertical-align: top;\n",
              "    }\n",
              "\n",
              "    .dataframe thead th {\n",
              "        text-align: right;\n",
              "    }\n",
              "</style>\n",
              "<table border=\"1\" class=\"dataframe\">\n",
              "  <thead>\n",
              "    <tr style=\"text-align: right;\">\n",
              "      <th></th>\n",
              "      <th>PRIMARY_KEY</th>\n",
              "      <th>STATE</th>\n",
              "      <th>YEAR</th>\n",
              "      <th>ENROLL</th>\n",
              "      <th>TOTAL_REVENUE</th>\n",
              "      <th>FEDERAL_REVENUE</th>\n",
              "      <th>STATE_REVENUE</th>\n",
              "      <th>LOCAL_REVENUE</th>\n",
              "      <th>TOTAL_EXPENDITURE</th>\n",
              "      <th>INSTRUCTION_EXPENDITURE</th>\n",
              "      <th>SUPPORT_SERVICES_EXPENDITURE</th>\n",
              "      <th>OTHER_EXPENDITURE</th>\n",
              "      <th>CAPITAL_OUTLAY_EXPENDITURE</th>\n",
              "      <th>GRADES_PK_G</th>\n",
              "      <th>GRADES_KG_G</th>\n",
              "      <th>GRADES_4_G</th>\n",
              "      <th>GRADES_8_G</th>\n",
              "      <th>GRADES_12_G</th>\n",
              "      <th>GRADES_1_8_G</th>\n",
              "      <th>GRADES_9_12_G</th>\n",
              "      <th>GRADES_ALL_G</th>\n",
              "      <th>AVG_MATH_4_SCORE</th>\n",
              "      <th>AVG_MATH_8_SCORE</th>\n",
              "      <th>AVG_READING_4_SCORE</th>\n",
              "      <th>AVG_READING_8_SCORE</th>\n",
              "    </tr>\n",
              "  </thead>\n",
              "  <tbody>\n",
              "    <tr>\n",
              "      <th>0</th>\n",
              "      <td>1992_ALABAMA</td>\n",
              "      <td>ALABAMA</td>\n",
              "      <td>1992</td>\n",
              "      <td>NaN</td>\n",
              "      <td>2678885.0</td>\n",
              "      <td>304177.0</td>\n",
              "      <td>1659028.0</td>\n",
              "      <td>715680.0</td>\n",
              "      <td>2653798.0</td>\n",
              "      <td>1481703.0</td>\n",
              "      <td>735036.0</td>\n",
              "      <td>NaN</td>\n",
              "      <td>174053.0</td>\n",
              "      <td>8224.0</td>\n",
              "      <td>55460.0</td>\n",
              "      <td>57948.0</td>\n",
              "      <td>58025.0</td>\n",
              "      <td>41167.0</td>\n",
              "      <td>471564.0</td>\n",
              "      <td>196386.0</td>\n",
              "      <td>676174.0</td>\n",
              "      <td>208.327876</td>\n",
              "      <td>252.187522</td>\n",
              "      <td>207.963517</td>\n",
              "      <td>NaN</td>\n",
              "    </tr>\n",
              "    <tr>\n",
              "      <th>1</th>\n",
              "      <td>1992_ALASKA</td>\n",
              "      <td>ALASKA</td>\n",
              "      <td>1992</td>\n",
              "      <td>NaN</td>\n",
              "      <td>1049591.0</td>\n",
              "      <td>106780.0</td>\n",
              "      <td>720711.0</td>\n",
              "      <td>222100.0</td>\n",
              "      <td>972488.0</td>\n",
              "      <td>498362.0</td>\n",
              "      <td>350902.0</td>\n",
              "      <td>NaN</td>\n",
              "      <td>37451.0</td>\n",
              "      <td>2371.0</td>\n",
              "      <td>10152.0</td>\n",
              "      <td>9748.0</td>\n",
              "      <td>8789.0</td>\n",
              "      <td>6714.0</td>\n",
              "      <td>79117.0</td>\n",
              "      <td>30847.0</td>\n",
              "      <td>112335.0</td>\n",
              "      <td>NaN</td>\n",
              "      <td>NaN</td>\n",
              "      <td>NaN</td>\n",
              "      <td>258.859712</td>\n",
              "    </tr>\n",
              "    <tr>\n",
              "      <th>2</th>\n",
              "      <td>1992_ARIZONA</td>\n",
              "      <td>ARIZONA</td>\n",
              "      <td>1992</td>\n",
              "      <td>NaN</td>\n",
              "      <td>3258079.0</td>\n",
              "      <td>297888.0</td>\n",
              "      <td>1369815.0</td>\n",
              "      <td>1590376.0</td>\n",
              "      <td>3401580.0</td>\n",
              "      <td>1435908.0</td>\n",
              "      <td>1007732.0</td>\n",
              "      <td>NaN</td>\n",
              "      <td>609114.0</td>\n",
              "      <td>2544.0</td>\n",
              "      <td>53497.0</td>\n",
              "      <td>55433.0</td>\n",
              "      <td>49081.0</td>\n",
              "      <td>37410.0</td>\n",
              "      <td>437127.0</td>\n",
              "      <td>175210.0</td>\n",
              "      <td>614881.0</td>\n",
              "      <td>215.253932</td>\n",
              "      <td>265.366278</td>\n",
              "      <td>206.212716</td>\n",
              "      <td>262.169895</td>\n",
              "    </tr>\n",
              "    <tr>\n",
              "      <th>3</th>\n",
              "      <td>1992_ARKANSAS</td>\n",
              "      <td>ARKANSAS</td>\n",
              "      <td>1992</td>\n",
              "      <td>NaN</td>\n",
              "      <td>1711959.0</td>\n",
              "      <td>178571.0</td>\n",
              "      <td>958785.0</td>\n",
              "      <td>574603.0</td>\n",
              "      <td>1743022.0</td>\n",
              "      <td>964323.0</td>\n",
              "      <td>483488.0</td>\n",
              "      <td>NaN</td>\n",
              "      <td>145212.0</td>\n",
              "      <td>808.0</td>\n",
              "      <td>33511.0</td>\n",
              "      <td>34632.0</td>\n",
              "      <td>36011.0</td>\n",
              "      <td>27651.0</td>\n",
              "      <td>281338.0</td>\n",
              "      <td>123113.0</td>\n",
              "      <td>405259.0</td>\n",
              "      <td>210.206028</td>\n",
              "      <td>256.312090</td>\n",
              "      <td>208.634458</td>\n",
              "      <td>264.619665</td>\n",
              "    </tr>\n",
              "    <tr>\n",
              "      <th>4</th>\n",
              "      <td>1992_CALIFORNIA</td>\n",
              "      <td>CALIFORNIA</td>\n",
              "      <td>1992</td>\n",
              "      <td>NaN</td>\n",
              "      <td>26260025.0</td>\n",
              "      <td>2072470.0</td>\n",
              "      <td>16546514.0</td>\n",
              "      <td>7641041.0</td>\n",
              "      <td>27138832.0</td>\n",
              "      <td>14358922.0</td>\n",
              "      <td>8520926.0</td>\n",
              "      <td>NaN</td>\n",
              "      <td>2044688.0</td>\n",
              "      <td>59067.0</td>\n",
              "      <td>431763.0</td>\n",
              "      <td>418418.0</td>\n",
              "      <td>363296.0</td>\n",
              "      <td>270675.0</td>\n",
              "      <td>3286034.0</td>\n",
              "      <td>1372011.0</td>\n",
              "      <td>4717112.0</td>\n",
              "      <td>208.398961</td>\n",
              "      <td>260.892247</td>\n",
              "      <td>196.764414</td>\n",
              "      <td>NaN</td>\n",
              "    </tr>\n",
              "  </tbody>\n",
              "</table>\n",
              "</div>"
            ],
            "text/plain": [
              "       PRIMARY_KEY       STATE  ...  AVG_READING_4_SCORE  AVG_READING_8_SCORE\n",
              "0     1992_ALABAMA     ALABAMA  ...           207.963517                  NaN\n",
              "1      1992_ALASKA      ALASKA  ...                  NaN           258.859712\n",
              "2     1992_ARIZONA     ARIZONA  ...           206.212716           262.169895\n",
              "3    1992_ARKANSAS    ARKANSAS  ...           208.634458           264.619665\n",
              "4  1992_CALIFORNIA  CALIFORNIA  ...           196.764414                  NaN\n",
              "\n",
              "[5 rows x 25 columns]"
            ]
          },
          "metadata": {
            "tags": []
          },
          "execution_count": 10
        }
      ]
    },
    {
      "cell_type": "code",
      "metadata": {
        "id": "dBCZH5dr4inm",
        "colab_type": "code",
        "outputId": "b42e9bce-a12b-49c0-9cfb-82e7519683b6",
        "colab": {
          "base_uri": "https://localhost:8080/",
          "height": 34
        }
      },
      "source": [
        "ed[ed['YEAR']==1993]['AVG_MATH_4_SCORE'].mean()"
      ],
      "execution_count": 11,
      "outputs": [
        {
          "output_type": "execute_result",
          "data": {
            "text/plain": [
              "nan"
            ]
          },
          "metadata": {
            "tags": []
          },
          "execution_count": 11
        }
      ]
    },
    {
      "cell_type": "code",
      "metadata": {
        "id": "eHfBLmUD3gGC",
        "colab_type": "code",
        "colab": {}
      },
      "source": [
        ""
      ],
      "execution_count": 0,
      "outputs": []
    },
    {
      "cell_type": "code",
      "metadata": {
        "colab_type": "code",
        "outputId": "efb28b35-9010-4cd9-c865-fac07c186b1e",
        "id": "ORSyqTto3iiG",
        "colab": {
          "base_uri": "https://localhost:8080/",
          "height": 487
        }
      },
      "source": [
        "ed.groupby('YEAR')['AVG_MATH_4_SCORE'].mean()"
      ],
      "execution_count": 12,
      "outputs": [
        {
          "output_type": "execute_result",
          "data": {
            "text/plain": [
              "YEAR\n",
              "1992    218.410116\n",
              "1993           NaN\n",
              "1994           NaN\n",
              "1995           NaN\n",
              "1996    221.479509\n",
              "1997           NaN\n",
              "1998           NaN\n",
              "1999           NaN\n",
              "2000    224.803526\n",
              "2001           NaN\n",
              "2002           NaN\n",
              "2003    233.874626\n",
              "2004           NaN\n",
              "2005    237.053410\n",
              "2006           NaN\n",
              "2007    239.147568\n",
              "2008           NaN\n",
              "2009    239.127842\n",
              "2010           NaN\n",
              "2011    240.477019\n",
              "2012           NaN\n",
              "2013    241.891073\n",
              "2014           NaN\n",
              "2015    240.233705\n",
              "2016           NaN\n",
              "2017    239.202783\n",
              "Name: AVG_MATH_4_SCORE, dtype: float64"
            ]
          },
          "metadata": {
            "tags": []
          },
          "execution_count": 12
        }
      ]
    },
    {
      "cell_type": "code",
      "metadata": {
        "id": "HQSiBqxqUrQt",
        "colab_type": "code",
        "outputId": "5a20363a-5548-4992-e9db-794ac41ff057",
        "colab": {
          "base_uri": "https://localhost:8080/",
          "height": 521
        }
      },
      "source": [
        "ed.info()"
      ],
      "execution_count": 13,
      "outputs": [
        {
          "output_type": "stream",
          "text": [
            "<class 'pandas.core.frame.DataFrame'>\n",
            "RangeIndex: 1492 entries, 0 to 1491\n",
            "Data columns (total 25 columns):\n",
            "PRIMARY_KEY                     1492 non-null object\n",
            "STATE                           1492 non-null object\n",
            "YEAR                            1492 non-null int64\n",
            "ENROLL                          1229 non-null float64\n",
            "TOTAL_REVENUE                   1280 non-null float64\n",
            "FEDERAL_REVENUE                 1280 non-null float64\n",
            "STATE_REVENUE                   1280 non-null float64\n",
            "LOCAL_REVENUE                   1280 non-null float64\n",
            "TOTAL_EXPENDITURE               1280 non-null float64\n",
            "INSTRUCTION_EXPENDITURE         1280 non-null float64\n",
            "SUPPORT_SERVICES_EXPENDITURE    1280 non-null float64\n",
            "OTHER_EXPENDITURE               1229 non-null float64\n",
            "CAPITAL_OUTLAY_EXPENDITURE      1280 non-null float64\n",
            "GRADES_PK_G                     1319 non-null float64\n",
            "GRADES_KG_G                     1360 non-null float64\n",
            "GRADES_4_G                      1361 non-null float64\n",
            "GRADES_8_G                      1361 non-null float64\n",
            "GRADES_12_G                     1361 non-null float64\n",
            "GRADES_1_8_G                    1361 non-null float64\n",
            "GRADES_9_12_G                   1361 non-null float64\n",
            "GRADES_ALL_G                    1319 non-null float64\n",
            "AVG_MATH_4_SCORE                536 non-null float64\n",
            "AVG_MATH_8_SCORE                532 non-null float64\n",
            "AVG_READING_4_SCORE             533 non-null float64\n",
            "AVG_READING_8_SCORE             498 non-null float64\n",
            "dtypes: float64(22), int64(1), object(2)\n",
            "memory usage: 291.5+ KB\n"
          ],
          "name": "stdout"
        }
      ]
    },
    {
      "cell_type": "code",
      "metadata": {
        "id": "4SZPGNOSYM8r",
        "colab_type": "code",
        "colab": {}
      },
      "source": [
        "#ed.isnull()"
      ],
      "execution_count": 0,
      "outputs": []
    },
    {
      "cell_type": "code",
      "metadata": {
        "id": "Gm_WRXh2aAYb",
        "colab_type": "code",
        "colab": {}
      },
      "source": [
        "#for column_name in ed.columns:\n",
        "    #print(\"Unique values in column {} are: {}\".format(column_name, ed[column_name].unique()))"
      ],
      "execution_count": 0,
      "outputs": []
    },
    {
      "cell_type": "markdown",
      "metadata": {
        "id": "CXnmzw1mZOoX",
        "colab_type": "text"
      },
      "source": [
        "GET A SENSE OF THE MAGNITUDE OF THE MSSING VALUES -- percentage missing for each column"
      ]
    },
    {
      "cell_type": "code",
      "metadata": {
        "id": "T2t-nHYJZVUL",
        "colab_type": "code",
        "outputId": "c111f464-135c-48c3-dc9a-6529ace0e16d",
        "colab": {
          "base_uri": "https://localhost:8080/",
          "height": 454
        }
      },
      "source": [
        "ed.isnull().sum()*100/ed.isnull().count()"
      ],
      "execution_count": 14,
      "outputs": [
        {
          "output_type": "execute_result",
          "data": {
            "text/plain": [
              "PRIMARY_KEY                      0.000000\n",
              "STATE                            0.000000\n",
              "YEAR                             0.000000\n",
              "ENROLL                          17.627346\n",
              "TOTAL_REVENUE                   14.209115\n",
              "FEDERAL_REVENUE                 14.209115\n",
              "STATE_REVENUE                   14.209115\n",
              "LOCAL_REVENUE                   14.209115\n",
              "TOTAL_EXPENDITURE               14.209115\n",
              "INSTRUCTION_EXPENDITURE         14.209115\n",
              "SUPPORT_SERVICES_EXPENDITURE    14.209115\n",
              "OTHER_EXPENDITURE               17.627346\n",
              "CAPITAL_OUTLAY_EXPENDITURE      14.209115\n",
              "GRADES_PK_G                     11.595174\n",
              "GRADES_KG_G                      8.847185\n",
              "GRADES_4_G                       8.780161\n",
              "GRADES_8_G                       8.780161\n",
              "GRADES_12_G                      8.780161\n",
              "GRADES_1_8_G                     8.780161\n",
              "GRADES_9_12_G                    8.780161\n",
              "GRADES_ALL_G                    11.595174\n",
              "AVG_MATH_4_SCORE                64.075067\n",
              "AVG_MATH_8_SCORE                64.343164\n",
              "AVG_READING_4_SCORE             64.276139\n",
              "AVG_READING_8_SCORE             66.621984\n",
              "dtype: float64"
            ]
          },
          "metadata": {
            "tags": []
          },
          "execution_count": 14
        }
      ]
    },
    {
      "cell_type": "code",
      "metadata": {
        "id": "atFkEO3gzSdr",
        "colab_type": "code",
        "outputId": "c06e9c4b-1ec4-4524-e42c-1c2cad935cff",
        "colab": {
          "base_uri": "https://localhost:8080/",
          "height": 454
        }
      },
      "source": [
        "ed.isnull().sum()"
      ],
      "execution_count": 15,
      "outputs": [
        {
          "output_type": "execute_result",
          "data": {
            "text/plain": [
              "PRIMARY_KEY                       0\n",
              "STATE                             0\n",
              "YEAR                              0\n",
              "ENROLL                          263\n",
              "TOTAL_REVENUE                   212\n",
              "FEDERAL_REVENUE                 212\n",
              "STATE_REVENUE                   212\n",
              "LOCAL_REVENUE                   212\n",
              "TOTAL_EXPENDITURE               212\n",
              "INSTRUCTION_EXPENDITURE         212\n",
              "SUPPORT_SERVICES_EXPENDITURE    212\n",
              "OTHER_EXPENDITURE               263\n",
              "CAPITAL_OUTLAY_EXPENDITURE      212\n",
              "GRADES_PK_G                     173\n",
              "GRADES_KG_G                     132\n",
              "GRADES_4_G                      131\n",
              "GRADES_8_G                      131\n",
              "GRADES_12_G                     131\n",
              "GRADES_1_8_G                    131\n",
              "GRADES_9_12_G                   131\n",
              "GRADES_ALL_G                    173\n",
              "AVG_MATH_4_SCORE                956\n",
              "AVG_MATH_8_SCORE                960\n",
              "AVG_READING_4_SCORE             959\n",
              "AVG_READING_8_SCORE             994\n",
              "dtype: int64"
            ]
          },
          "metadata": {
            "tags": []
          },
          "execution_count": 15
        }
      ]
    },
    {
      "cell_type": "code",
      "metadata": {
        "id": "4ONP2moZcVpv",
        "colab_type": "code",
        "colab": {}
      },
      "source": [
        "#ed.LOCAL_REVENUE.value_counts(dropna=False)"
      ],
      "execution_count": 0,
      "outputs": []
    },
    {
      "cell_type": "markdown",
      "metadata": {
        "id": "Uz2D9FLO2GsP",
        "colab_type": "text"
      },
      "source": [
        "ANSWERS "
      ]
    },
    {
      "cell_type": "markdown",
      "metadata": {
        "id": "DsLu9ZVB2mt9",
        "colab_type": "text"
      },
      "source": [
        "1 - VARIABLE TYPE AND FRACTION MISSING --SEE ABOVE\n",
        "\n",
        " OVER 10% MISSING FORGET FILLING IN MISSING VALUES UNLESS COLUMN IS CRITICAL  -- drop column"
      ]
    },
    {
      "cell_type": "markdown",
      "metadata": {
        "id": "jGeHIXN52KkF",
        "colab_type": "text"
      },
      "source": [
        "2 - Notice that the data has a time dimension (year). For this assignment, forget about time and treat all the observations as if they're from the same year. Choose a strategy to deal with the missing values for each variables. For which variables would filling in the missing values with some value make sense? For which might tossing out the records entirely make sense?\n",
        "\n",
        "\n",
        " AVG MATH AND READING GRADES 4 AND 8 ARE MISSING ALMOST 2/3 OF ENTRIES -- DROP THESE 4  COLUMNS"
      ]
    },
    {
      "cell_type": "code",
      "metadata": {
        "id": "lCEMnljtVBWE",
        "colab_type": "code",
        "colab": {}
      },
      "source": [
        "ed[\"GRADES_4_G\"]=ed['GRADES_4_G'].interpolate()\n",
        "ed[\"GRADES_8_G\"]=ed['GRADES_8_G'].interpolate()\n",
        "ed[\"GRADES_12_G\"]=ed['GRADES_12_G'].interpolate()"
      ],
      "execution_count": 0,
      "outputs": []
    },
    {
      "cell_type": "markdown",
      "metadata": {
        "id": "-6kpXfBf47Zu",
        "colab_type": "text"
      },
      "source": [
        "PROBLEM 3 BELOW"
      ]
    },
    {
      "cell_type": "markdown",
      "metadata": {
        "id": "yUVO_NGRmJiK",
        "colab_type": "text"
      },
      "source": [
        ""
      ]
    },
    {
      "cell_type": "markdown",
      "metadata": {
        "id": "kIKKC5uNjd_b",
        "colab_type": "text"
      },
      "source": [
        "Now, take into account the time factor. Replicate your second answer but this time fill in the missing values by using a statistic that is calculated within the year of the observation. For example, if you want to fill a missing value for a variable with the mean of that variable, calculate the mean by using only the observations **for that specific year**."
      ]
    },
    {
      "cell_type": "code",
      "metadata": {
        "id": "WNtZ_ukcnwcM",
        "colab_type": "code",
        "colab": {
          "base_uri": "https://localhost:8080/",
          "height": 34
        },
        "outputId": "176c8e30-70d0-4516-8b69-98487eff955e"
      },
      "source": [
        "type(ed1.groupby('YEAR')['AVG_MATH_4_SCORE'])\n",
        "#e_year=np.nanmean(ed.groupby('YEAR')['AVG_MATH_4_SCORE'],axis=1)\n",
        "#e_year"
      ],
      "execution_count": 17,
      "outputs": [
        {
          "output_type": "execute_result",
          "data": {
            "text/plain": [
              "pandas.core.groupby.generic.SeriesGroupBy"
            ]
          },
          "metadata": {
            "tags": []
          },
          "execution_count": 17
        }
      ]
    },
    {
      "cell_type": "code",
      "metadata": {
        "id": "gmIzwLO6NsXF",
        "colab_type": "code",
        "outputId": "9eebff1f-12b7-469e-dcc9-4d712d8e1f01",
        "colab": {
          "base_uri": "https://localhost:8080/",
          "height": 168
        }
      },
      "source": [
        "ed1['GRADES_4_G'].describe()"
      ],
      "execution_count": 18,
      "outputs": [
        {
          "output_type": "execute_result",
          "data": {
            "text/plain": [
              "count      1361.000000\n",
              "mean      64538.927259\n",
              "std       80293.387625\n",
              "min         633.000000\n",
              "25%       13739.000000\n",
              "50%       43272.000000\n",
              "75%       75481.000000\n",
              "max      493415.000000\n",
              "Name: GRADES_4_G, dtype: float64"
            ]
          },
          "metadata": {
            "tags": []
          },
          "execution_count": 18
        }
      ]
    },
    {
      "cell_type": "code",
      "metadata": {
        "id": "CV6YDfNLkZ47",
        "colab_type": "code",
        "outputId": "e42fe16c-8578-435e-dee5-cdee3da28987",
        "colab": {
          "base_uri": "https://localhost:8080/",
          "height": 168
        }
      },
      "source": [
        "\n",
        "#df.D = df.groupby(['A','B','C'])['D'].apply(lambda x: x.fillna(x.mean()))\n",
        "#df.D = df.groupby(['A','B','C'])['D'].apply(lambda x: x.fillna(x.mean()))\n",
        "ed1[\"GRADES_4_G\"]=ed1.groupby(['YEAR'])[\"GRADES_4_G\"].apply(lambda x: x.fillna(x.mean()))\n",
        "ed1[\"GRADES_8_G\"]=ed1.groupby(['YEAR'])[\"GRADES_8_G\"].apply(lambda x: x.fillna(x.mean()))\n",
        "ed1[\"GRADES_12_G\"]=ed1.groupby(['YEAR'])[\"GRADES_12_G\"].apply(lambda x: x.fillna(x.mean()))\n",
        "\n",
        "ed1['GRADES_4_G'].describe()"
      ],
      "execution_count": 19,
      "outputs": [
        {
          "output_type": "execute_result",
          "data": {
            "text/plain": [
              "count      1390.000000\n",
              "mean      64590.152441\n",
              "std       79451.944548\n",
              "min         633.000000\n",
              "25%       14190.500000\n",
              "50%       44909.500000\n",
              "75%       75149.750000\n",
              "max      493415.000000\n",
              "Name: GRADES_4_G, dtype: float64"
            ]
          },
          "metadata": {
            "tags": []
          },
          "execution_count": 19
        }
      ]
    },
    {
      "cell_type": "code",
      "metadata": {
        "id": "FOeTH1gkCuOz",
        "colab_type": "code",
        "outputId": "75b9d6b8-f1c5-4fd7-8570-08b6a020578b",
        "colab": {
          "base_uri": "https://localhost:8080/",
          "height": 454
        }
      },
      "source": [
        "ed1.isnull().sum()"
      ],
      "execution_count": 20,
      "outputs": [
        {
          "output_type": "execute_result",
          "data": {
            "text/plain": [
              "PRIMARY_KEY                       0\n",
              "STATE                             0\n",
              "YEAR                              0\n",
              "ENROLL                          263\n",
              "TOTAL_REVENUE                   212\n",
              "FEDERAL_REVENUE                 212\n",
              "STATE_REVENUE                   212\n",
              "LOCAL_REVENUE                   212\n",
              "TOTAL_EXPENDITURE               212\n",
              "INSTRUCTION_EXPENDITURE         212\n",
              "SUPPORT_SERVICES_EXPENDITURE    212\n",
              "OTHER_EXPENDITURE               263\n",
              "CAPITAL_OUTLAY_EXPENDITURE      212\n",
              "GRADES_PK_G                     173\n",
              "GRADES_KG_G                     132\n",
              "GRADES_4_G                      102\n",
              "GRADES_8_G                      102\n",
              "GRADES_12_G                     102\n",
              "GRADES_1_8_G                    131\n",
              "GRADES_9_12_G                   131\n",
              "GRADES_ALL_G                    173\n",
              "AVG_MATH_4_SCORE                956\n",
              "AVG_MATH_8_SCORE                960\n",
              "AVG_READING_4_SCORE             959\n",
              "AVG_READING_8_SCORE             994\n",
              "dtype: int64"
            ]
          },
          "metadata": {
            "tags": []
          },
          "execution_count": 20
        }
      ]
    },
    {
      "cell_type": "code",
      "metadata": {
        "id": "ABMQOUw66wNC",
        "colab_type": "code",
        "colab": {}
      },
      "source": [
        "#ed1.groupby('YEAR')[\"GRADES_4_G\"].mean()"
      ],
      "execution_count": 0,
      "outputs": []
    },
    {
      "cell_type": "code",
      "metadata": {
        "id": "1UoQx9PzH18r",
        "colab_type": "code",
        "outputId": "92584088-b63b-4cc5-f2e3-5e6edcda14ca",
        "colab": {
          "base_uri": "https://localhost:8080/",
          "height": 168
        }
      },
      "source": [
        "ed1['GRADES_4_G'].describe()"
      ],
      "execution_count": 21,
      "outputs": [
        {
          "output_type": "execute_result",
          "data": {
            "text/plain": [
              "count      1390.000000\n",
              "mean      64590.152441\n",
              "std       79451.944548\n",
              "min         633.000000\n",
              "25%       14190.500000\n",
              "50%       44909.500000\n",
              "75%       75149.750000\n",
              "max      493415.000000\n",
              "Name: GRADES_4_G, dtype: float64"
            ]
          },
          "metadata": {
            "tags": []
          },
          "execution_count": 21
        }
      ]
    },
    {
      "cell_type": "code",
      "metadata": {
        "id": "9Ee_-_nfPNBW",
        "colab_type": "code",
        "outputId": "a75089fb-ec97-4e10-bdc8-f5b3e92b6ce9",
        "colab": {
          "base_uri": "https://localhost:8080/",
          "height": 34
        }
      },
      "source": [
        "ed1[\"GRADES_4_G\"].mean()"
      ],
      "execution_count": 22,
      "outputs": [
        {
          "output_type": "execute_result",
          "data": {
            "text/plain": [
              "64590.15244077719"
            ]
          },
          "metadata": {
            "tags": []
          },
          "execution_count": 22
        }
      ]
    },
    {
      "cell_type": "code",
      "metadata": {
        "id": "eD6KLOu1G8h0",
        "colab_type": "code",
        "colab": {}
      },
      "source": [
        "#ed1.groupby(['YEAR','STATE',\"GRADES_4_G\"]).mean()"
      ],
      "execution_count": 0,
      "outputs": []
    },
    {
      "cell_type": "markdown",
      "metadata": {
        "id": "qgi3ARe5nGGq",
        "colab_type": "text"
      },
      "source": [
        "# ///////////////////////////////////////////////////////////////////////////////////////////////////////"
      ]
    },
    {
      "cell_type": "markdown",
      "metadata": {
        "id": "B1O-AX9FEHPg",
        "colab_type": "text"
      },
      "source": [
        "PROBLEM 4"
      ]
    },
    {
      "cell_type": "markdown",
      "metadata": {
        "id": "s2TYhG-EEC-k",
        "colab_type": "text"
      },
      "source": [
        "4. This time, fill in the missing values using interpolation (extrapolation).\n"
      ]
    },
    {
      "cell_type": "code",
      "metadata": {
        "id": "C2-O3nFjMS0y",
        "colab_type": "code",
        "outputId": "9064c059-8225-4fea-e8e9-7e5da0fdef30",
        "colab": {
          "base_uri": "https://localhost:8080/",
          "height": 168
        }
      },
      "source": [
        "ed2['GRADES_4_G'].describe()"
      ],
      "execution_count": 0,
      "outputs": [
        {
          "output_type": "execute_result",
          "data": {
            "text/plain": [
              "count      1361.000000\n",
              "mean      64538.927259\n",
              "std       80293.387625\n",
              "min         633.000000\n",
              "25%       13739.000000\n",
              "50%       43272.000000\n",
              "75%       75481.000000\n",
              "max      493415.000000\n",
              "Name: GRADES_4_G, dtype: float64"
            ]
          },
          "metadata": {
            "tags": []
          },
          "execution_count": 81
        }
      ]
    },
    {
      "cell_type": "code",
      "metadata": {
        "id": "sk8XutQ1EFq8",
        "colab_type": "code",
        "colab": {}
      },
      "source": [
        "ed2[\"GRADES_4_G\"]=ed2['GRADES_4_G'].interpolate()\n",
        "ed2[\"GRADES_8_G\"]=ed2['GRADES_8_G'].interpolate()\n",
        "ed2[\"GRADES_12_G\"]=ed2['GRADES_12_G'].interpolate()\n",
        "\n",
        "\n",
        "\n",
        "#ed2[\"GRADES_8_G\"]=ed2.groupby(['YEAR'])[\"GRADES_8_G\"].apply(lambda x: x.fillna(x.interpolate(limit_direction='both')))\n",
        "#ed2[\"GRADES_12_G\"]=ed2.groupby(['YEAR'])[\"GRADES_12_G\"].apply(lambda x: x.fillna(x.interpolate(limit_direction='both')))"
      ],
      "execution_count": 0,
      "outputs": []
    },
    {
      "cell_type": "code",
      "metadata": {
        "id": "C0h602wbOMID",
        "colab_type": "code",
        "outputId": "0039cfca-476a-42e4-c307-1b8376a10f4d",
        "colab": {
          "base_uri": "https://localhost:8080/",
          "height": 168
        }
      },
      "source": [
        "ed2['GRADES_4_G'].describe()"
      ],
      "execution_count": 31,
      "outputs": [
        {
          "output_type": "execute_result",
          "data": {
            "text/plain": [
              "count      1492.000000\n",
              "mean      59797.646113\n",
              "std       78406.899202\n",
              "min         633.000000\n",
              "25%       10117.250000\n",
              "50%       38280.500000\n",
              "75%       72310.250000\n",
              "max      493415.000000\n",
              "Name: GRADES_4_G, dtype: float64"
            ]
          },
          "metadata": {
            "tags": []
          },
          "execution_count": 31
        }
      ]
    },
    {
      "cell_type": "code",
      "metadata": {
        "id": "8KA3CfkiHcPi",
        "colab_type": "code",
        "colab": {}
      },
      "source": [
        "#ed2.isnull().sum()"
      ],
      "execution_count": 0,
      "outputs": []
    },
    {
      "cell_type": "code",
      "metadata": {
        "id": "Nw5GpsUmOKg5",
        "colab_type": "code",
        "outputId": "c41661cd-ddbc-428e-b9f3-fb81a687e621",
        "colab": {
          "base_uri": "https://localhost:8080/",
          "height": 168
        }
      },
      "source": [
        "ed2['GRADES_4_G'].describe()"
      ],
      "execution_count": 0,
      "outputs": [
        {
          "output_type": "execute_result",
          "data": {
            "text/plain": [
              "count      1390.000000\n",
              "mean      63313.416547\n",
              "std       79901.750909\n",
              "min         633.000000\n",
              "25%       12412.500000\n",
              "50%       42089.500000\n",
              "75%       75149.750000\n",
              "max      493415.000000\n",
              "Name: GRADES_4_G, dtype: float64"
            ]
          },
          "metadata": {
            "tags": []
          },
          "execution_count": 58
        }
      ]
    },
    {
      "cell_type": "code",
      "metadata": {
        "id": "5uvWuatKObos",
        "colab_type": "code",
        "colab": {}
      },
      "source": [
        "#ed2.head()"
      ],
      "execution_count": 0,
      "outputs": []
    },
    {
      "cell_type": "code",
      "metadata": {
        "id": "45nUAEv9ADvM",
        "colab_type": "code",
        "colab": {}
      },
      "source": [
        "fill_list = [\"ENROLL\", \"TOTAL_REVENUE\", \"FEDERAL_REVENUE\",\\\n",
        "\"STATE_REVENUE\", \"LOCAL_REVENUE\", \"TOTAL_EXPENDITURE\",\\ \n",
        "\"INSTRUCTION_EXPENDITURE\", \"SUPPORT_SERVICES_EXPENDITURE\",\\\n",
        "\"OTHER_EXPENDITURE\", \"CAPITAL_OUTLAY_EXPENDITURE\", \"GRADES_PK_G\",\"GRADES_KG_G\", \"GRADES_4_G\", \"GRADES_8_G\", \"GRADES_12_G\", \"GRADES_1_8_G\", \"GRADES_9_12_G\", \"GRADES_ALL_G\"]"
      ],
      "execution_count": 0,
      "outputs": []
    },
    {
      "cell_type": "code",
      "metadata": {
        "id": "Kq3XG4DARnaG",
        "colab_type": "code",
        "outputId": "7dbe73cb-00a3-4428-c4c3-50008ded88ec",
        "colab": {
          "base_uri": "https://localhost:8080/",
          "height": 437
        }
      },
      "source": [
        "fill_list=list(ed0)\n",
        "fill_list"
      ],
      "execution_count": 0,
      "outputs": [
        {
          "output_type": "execute_result",
          "data": {
            "text/plain": [
              "['PRIMARY_KEY',\n",
              " 'STATE',\n",
              " 'YEAR',\n",
              " 'ENROLL',\n",
              " 'TOTAL_REVENUE',\n",
              " 'FEDERAL_REVENUE',\n",
              " 'STATE_REVENUE',\n",
              " 'LOCAL_REVENUE',\n",
              " 'TOTAL_EXPENDITURE',\n",
              " 'INSTRUCTION_EXPENDITURE',\n",
              " 'SUPPORT_SERVICES_EXPENDITURE',\n",
              " 'OTHER_EXPENDITURE',\n",
              " 'CAPITAL_OUTLAY_EXPENDITURE',\n",
              " 'GRADES_PK_G',\n",
              " 'GRADES_KG_G',\n",
              " 'GRADES_4_G',\n",
              " 'GRADES_8_G',\n",
              " 'GRADES_12_G',\n",
              " 'GRADES_1_8_G',\n",
              " 'GRADES_9_12_G',\n",
              " 'GRADES_ALL_G',\n",
              " 'AVG_MATH_4_SCORE',\n",
              " 'AVG_MATH_8_SCORE',\n",
              " 'AVG_READING_4_SCORE',\n",
              " 'AVG_READING_8_SCORE']"
            ]
          },
          "metadata": {
            "tags": []
          },
          "execution_count": 117
        }
      ]
    },
    {
      "cell_type": "code",
      "metadata": {
        "id": "kIWy52GLROjg",
        "colab_type": "code",
        "colab": {}
      },
      "source": [
        "#fill_list"
      ],
      "execution_count": 0,
      "outputs": []
    },
    {
      "cell_type": "markdown",
      "metadata": {
        "id": "sY5-XXq2KXMx",
        "colab_type": "text"
      },
      "source": [
        "PROBLEM 5"
      ]
    },
    {
      "cell_type": "code",
      "metadata": {
        "id": "0EIMwCubBncO",
        "colab_type": "code",
        "colab": {}
      },
      "source": [
        "fill_list2=[\"GRADES_4_G\", \"GRADES_8_G\", \"GRADES_12_G\"]"
      ],
      "execution_count": 0,
      "outputs": []
    },
    {
      "cell_type": "code",
      "metadata": {
        "id": "7nI7SqYyKa9Z",
        "colab_type": "code",
        "colab": {}
      },
      "source": [
        "for col in fill_list:\n",
        "  ed2[col]=ed2.groupby(['YEAR'])[col].apply(lambda x: x.fillna(x.interpolate(limit_direction='both')))\n",
        "\n",
        "\n"
      ],
      "execution_count": 0,
      "outputs": []
    },
    {
      "cell_type": "code",
      "metadata": {
        "id": "KEsqM6U2EaMY",
        "colab_type": "code",
        "outputId": "742e3514-dc9f-4d65-a011-56ffe91d5a19",
        "colab": {
          "base_uri": "https://localhost:8080/",
          "height": 521
        }
      },
      "source": [
        "for col in fill_list2:\n",
        "  print(\"Statistics for columns: {}\".format(col))\n",
        "  print(pd.concat([ed0[col],ed[col], ed1[col],\n",
        "  ed2[col]], axis=1).describe())"
      ],
      "execution_count": 37,
      "outputs": [
        {
          "output_type": "stream",
          "text": [
            "Statistics for columns: GRADES_4_G\n",
            "          GRADES_4_G     GRADES_4_G     GRADES_4_G     GRADES_4_G\n",
            "count    1361.000000    1492.000000    1390.000000    1492.000000\n",
            "mean    64538.927259   59797.646113   64590.152441   59797.646113\n",
            "std     80293.387625   78406.899202   79451.944548   78406.899202\n",
            "min       633.000000     633.000000     633.000000     633.000000\n",
            "25%     13739.000000   10117.250000   14190.500000   10117.250000\n",
            "50%     43272.000000   38280.500000   44909.500000   38280.500000\n",
            "75%     75481.000000   72310.250000   75149.750000   72310.250000\n",
            "max    493415.000000  493415.000000  493415.000000  493415.000000\n",
            "Statistics for columns: GRADES_8_G\n",
            "          GRADES_8_G     GRADES_8_G     GRADES_8_G     GRADES_8_G\n",
            "count    1361.000000    1492.000000    1390.000000    1492.000000\n",
            "mean    64271.057311   59511.380027   64331.744106   59511.380027\n",
            "std     78910.545776   77123.573668   78083.976028   77123.573668\n",
            "min       437.000000     437.000000     437.000000     437.000000\n",
            "25%     13342.000000   10252.000000   13698.250000   10252.000000\n",
            "50%     43339.000000   38114.500000   44756.500000   38114.500000\n",
            "75%     76566.000000   72598.250000   75016.250000   72598.250000\n",
            "max    500143.000000  500143.000000  500143.000000  500143.000000\n",
            "Statistics for columns: GRADES_12_G\n",
            "        GRADES_12_G    GRADES_12_G    GRADES_12_G    GRADES_12_G\n",
            "count    1361.00000    1492.000000    1390.000000    1492.000000\n",
            "mean    54268.92432   50207.239276   54418.075582   50207.239276\n",
            "std     67889.27623   66309.867155   67187.337112   66309.867155\n",
            "min       311.00000     311.000000     311.000000     311.000000\n",
            "25%     10919.00000    8951.000000   11161.750000    8951.000000\n",
            "50%     36735.00000   33279.000000   37541.500000   33279.000000\n",
            "75%     67460.00000   64920.500000   67026.000000   64920.500000\n",
            "max    498403.00000  498403.000000  498403.000000  498403.000000\n"
          ],
          "name": "stdout"
        }
      ]
    }
  ]
}