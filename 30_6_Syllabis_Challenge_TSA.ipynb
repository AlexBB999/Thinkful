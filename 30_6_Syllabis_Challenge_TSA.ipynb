{
  "nbformat": 4,
  "nbformat_minor": 0,
  "metadata": {
    "colab": {
      "name": "30.6 Syllabis -Challenge--TSA.ipynb",
      "provenance": [],
      "collapsed_sections": [],
      "authorship_tag": "ABX9TyMhpF07P5JW0XmLSznnAs66",
      "include_colab_link": true
    },
    "kernelspec": {
      "name": "python3",
      "display_name": "Python 3"
    }
  },
  "cells": [
    {
      "cell_type": "markdown",
      "metadata": {
        "id": "view-in-github",
        "colab_type": "text"
      },
      "source": [
        "<a href=\"https://colab.research.google.com/github/AlexBB999/Thinkful/blob/master/30_6_Syllabis_Challenge_TSA.ipynb\" target=\"_parent\"><img src=\"https://colab.research.google.com/assets/colab-badge.svg\" alt=\"Open In Colab\"/></a>"
      ]
    },
    {
      "cell_type": "markdown",
      "metadata": {
        "id": "Bj8Y_VWoOZzN",
        "colab_type": "text"
      },
      "source": [
        "#**Challenge**\n",
        "\n",
        "Challenge - Time Series Analysis\n",
        "\n",
        "Using a different time series data set (either from FRED or elsewhere, go about the process of time series modeling.\n",
        "** Specifically generate the following thing**s:\n",
        "\n",
        "**Plot the time series, along with any logical or necessary differences to get a stationary dataset**\n",
        "\n",
        "**Generate and interpret a PACF for the time series (and/or its differences)**\n",
        "\n",
        "**Generate 5 ARIMA specifications and evaluate their efficacy at modeling your data**\n",
        "\n",
        "**Finally choose one specification and make the case for that as a logical model for your dataset**.\n",
        "\n",
        "This should come in the form of a notebook with the necessary prose to explain your process. Remember to use the tools of text, visuals, and analysis to tell a clear and concise story with your data."
      ]
    },
    {
      "cell_type": "code",
      "metadata": {
        "id": "eW2IDIZpOYhj",
        "colab_type": "code",
        "colab": {}
      },
      "source": [
        "import numpy as np\n",
        "import pandas as pd\n",
        "import scipy\n",
        "from datetime import datetime\n",
        "import datetime as dt\n",
        "import matplotlib.pyplot as plt\n",
        "%matplotlib inline1"
      ],
      "execution_count": 0,
      "outputs": []
    },
    {
      "cell_type": "code",
      "metadata": {
        "id": "Nf0F3ZSIPT0Q",
        "colab_type": "code",
        "colab": {}
      },
      "source": [
        "sp_data = pd.read_csv('https://tf-assets-prod.s3.amazonaws.com/tf-curric/data-science/SP500_raw.csv')\n",
        "\n",
        "# Convert exchange rate to a number, with coersion to throw NA's if conversion not possible\n",
        "sp_data['price'] = pd.to_numeric(sp_data.SP500, errors='coerce')\n",
        "\n",
        "# Remove NA's\n",
        "sp_data.dropna(inplace=True)"
      ],
      "execution_count": 0,
      "outputs": []
    },
    {
      "cell_type": "code",
      "metadata": {
        "id": "O2DFFPhpPXWQ",
        "colab_type": "code",
        "colab": {
          "base_uri": "https://localhost:8080/",
          "height": 195
        },
        "outputId": "49b28cdf-27bb-4739-81d6-2c66ef6681a4"
      },
      "source": [
        "sp_data.head()"
      ],
      "execution_count": 6,
      "outputs": [
        {
          "output_type": "execute_result",
          "data": {
            "text/html": [
              "<div>\n",
              "<style scoped>\n",
              "    .dataframe tbody tr th:only-of-type {\n",
              "        vertical-align: middle;\n",
              "    }\n",
              "\n",
              "    .dataframe tbody tr th {\n",
              "        vertical-align: top;\n",
              "    }\n",
              "\n",
              "    .dataframe thead th {\n",
              "        text-align: right;\n",
              "    }\n",
              "</style>\n",
              "<table border=\"1\" class=\"dataframe\">\n",
              "  <thead>\n",
              "    <tr style=\"text-align: right;\">\n",
              "      <th></th>\n",
              "      <th>DATE</th>\n",
              "      <th>SP500</th>\n",
              "      <th>price</th>\n",
              "    </tr>\n",
              "  </thead>\n",
              "  <tbody>\n",
              "    <tr>\n",
              "      <th>0</th>\n",
              "      <td>2008-01-02</td>\n",
              "      <td>1447.16</td>\n",
              "      <td>1447.16</td>\n",
              "    </tr>\n",
              "    <tr>\n",
              "      <th>1</th>\n",
              "      <td>2008-01-03</td>\n",
              "      <td>1447.16</td>\n",
              "      <td>1447.16</td>\n",
              "    </tr>\n",
              "    <tr>\n",
              "      <th>2</th>\n",
              "      <td>2008-01-04</td>\n",
              "      <td>1411.63</td>\n",
              "      <td>1411.63</td>\n",
              "    </tr>\n",
              "    <tr>\n",
              "      <th>3</th>\n",
              "      <td>2008-01-07</td>\n",
              "      <td>1416.18</td>\n",
              "      <td>1416.18</td>\n",
              "    </tr>\n",
              "    <tr>\n",
              "      <th>4</th>\n",
              "      <td>2008-01-08</td>\n",
              "      <td>1390.19</td>\n",
              "      <td>1390.19</td>\n",
              "    </tr>\n",
              "  </tbody>\n",
              "</table>\n",
              "</div>"
            ],
            "text/plain": [
              "         DATE    SP500    price\n",
              "0  2008-01-02  1447.16  1447.16\n",
              "1  2008-01-03  1447.16  1447.16\n",
              "2  2008-01-04  1411.63  1411.63\n",
              "3  2008-01-07  1416.18  1416.18\n",
              "4  2008-01-08  1390.19  1390.19"
            ]
          },
          "metadata": {
            "tags": []
          },
          "execution_count": 6
        }
      ]
    },
    {
      "cell_type": "code",
      "metadata": {
        "id": "uoY4hrcEPgMS",
        "colab_type": "code",
        "colab": {
          "base_uri": "https://localhost:8080/",
          "height": 185
        },
        "outputId": "1baf05c1-f9b4-4cb9-e509-9115a10a7915"
      },
      "source": [
        "sp_data.info()"
      ],
      "execution_count": 9,
      "outputs": [
        {
          "output_type": "stream",
          "text": [
            "<class 'pandas.core.frame.DataFrame'>\n",
            "Int64Index: 2267 entries, 0 to 2347\n",
            "Data columns (total 3 columns):\n",
            " #   Column  Non-Null Count  Dtype  \n",
            "---  ------  --------------  -----  \n",
            " 0   DATE    2267 non-null   object \n",
            " 1   SP500   2267 non-null   object \n",
            " 2   price   2267 non-null   float64\n",
            "dtypes: float64(1), object(2)\n",
            "memory usage: 70.8+ KB\n"
          ],
          "name": "stdout"
        }
      ]
    },
    {
      "cell_type": "code",
      "metadata": {
        "id": "NU40QolQPvaH",
        "colab_type": "code",
        "colab": {
          "base_uri": "https://localhost:8080/",
          "height": 281
        },
        "outputId": "89e0ad93-aff8-4402-da96-bfe020132f7a"
      },
      "source": [
        "sp_data.plot()\n",
        "plt.title('S&P500 Time Series')\n",
        "plt.show()"
      ],
      "execution_count": 10,
      "outputs": [
        {
          "output_type": "display_data",
          "data": {
            "image/png": "[encoded data removed]",
            "text/plain": [
              "<Figure size 432x288 with 1 Axes>"
            ]
          },
          "metadata": {
            "tags": [],
            "needs_background": "light"
          }
        }
      ]
    },
    {
      "cell_type": "markdown",
      "metadata": {
        "id": "thIbz7MRP55d",
        "colab_type": "text"
      },
      "source": [
        "**create a date based index.**"
      ]
    },
    {
      "cell_type": "code",
      "metadata": {
        "id": "T_ucYY37P8xW",
        "colab_type": "code",
        "colab": {
          "base_uri": "https://localhost:8080/",
          "height": 285
        },
        "outputId": "1574c4b2-93a7-4373-f2de-7ceac7df9d1c"
      },
      "source": [
        "sp_data.index = pd.to_datetime(sp_data.DATE)\n",
        "sp_data.plot()\n",
        "plt.title('S&P 500 Time Series')\n",
        "plt.show()"
      ],
      "execution_count": 11,
      "outputs": [
        {
          "output_type": "display_data",
          "data": {
            "image/png": "[encoded data removed]",
            "text/plain": [
              "<Figure size 432x288 with 1 Axes>"
            ]
          },
          "metadata": {
            "tags": [],
            "needs_background": "light"
          }
        }
      ]
    },
    {
      "cell_type": "markdown",
      "metadata": {
        "id": "kRhKbWZeSp06",
        "colab_type": "text"
      },
      "source": [
        "**For a series to be classified as stationary, it should not exhibit a trend**"
      ]
    },
    {
      "cell_type": "markdown",
      "metadata": {
        "id": "2K5_mypZQMZ1",
        "colab_type": "text"
      },
      "source": [
        "**PLOT THE DIIFERENCE TO SEE IF IT MAKES TIME SERIES STATIONARY**"
      ]
    },
    {
      "cell_type": "code",
      "metadata": {
        "id": "_hXU2MbeSFh4",
        "colab_type": "code",
        "colab": {
          "base_uri": "https://localhost:8080/",
          "height": 285
        },
        "outputId": "1ee02baa-4c53-41d4-deac-b117463defe1"
      },
      "source": [
        "sp_data['diff_1'] = sp_data.price - sp_data.price.shift()\n",
        "sp_data.plot(y='diff_1')\n",
        "plt.title('S&P 500 Time Series')\n",
        "plt.show()"
      ],
      "execution_count": 12,
      "outputs": [
        {
          "output_type": "display_data",
          "data": {
            "image/png": "[encoded data removed]",
            "text/plain": [
              "<Figure size 432x288 with 1 Axes>"
            ]
          },
          "metadata": {
            "tags": [],
            "needs_background": "light"
          }
        }
      ]
    },
    {
      "cell_type": "markdown",
      "metadata": {
        "id": "3CGiXCE8ZMBo",
        "colab_type": "text"
      },
      "source": [
        "**XXXXXXXXXXXXXXXXXXXXXXXXXXXXXXXXXXXXXXXXXXXXXXXXXXXXXXXXXXXXXXXXXXXXXXXXXXXXXXXXXXXXXXXXX**"
      ]
    },
    {
      "cell_type": "markdown",
      "metadata": {
        "id": "IWhpWwp4ZJG-",
        "colab_type": "text"
      },
      "source": [
        "**Generate and interpret a PACF for the time series (and/or its differences)**"
      ]
    },
    {
      "cell_type": "markdown",
      "metadata": {
        "id": "_ynmMiRbcOkZ",
        "colab_type": "text"
      },
      "source": [
        "**THESE PLOTS SHOW SIGINIFICANT CORRELATION AT LAG 1 SUGGESTS AN AUTORGESSIVE TERM OF OF ORDER 1**"
      ]
    },
    {
      "cell_type": "code",
      "metadata": {
        "id": "iDYChO0TZP2t",
        "colab_type": "code",
        "colab": {
          "base_uri": "https://localhost:8080/",
          "height": 354
        },
        "outputId": "8b80ec66-db34-4e35-d5f9-f80b65427326"
      },
      "source": [
        "from statsmodels.tsa.stattools import pacf\n",
        "x_acf = pd.DataFrame(pacf(sp_data.price))\n",
        "x_acf.plot(kind='bar')\n",
        "plt.title(\"S&P PACF\")"
      ],
      "execution_count": 13,
      "outputs": [
        {
          "output_type": "stream",
          "text": [
            "/usr/local/lib/python3.6/dist-packages/statsmodels/tools/_testing.py:19: FutureWarning: pandas.util.testing is deprecated. Use the functions in the public API at pandas.testing instead.\n",
            "  import pandas.util.testing as tm\n"
          ],
          "name": "stderr"
        },
        {
          "output_type": "execute_result",
          "data": {
            "text/plain": [
              "Text(0.5, 1.0, 'S&P PACF')"
            ]
          },
          "metadata": {
            "tags": []
          },
          "execution_count": 13
        },
        {
          "output_type": "display_data",
          "data": {
            "image/png": "[encoded data removed]",
            "text/plain": [
              "<Figure size 432x288 with 1 Axes>"
            ]
          },
          "metadata": {
            "tags": [],
            "needs_background": "light"
          }
        }
      ]
    },
    {
      "cell_type": "code",
      "metadata": {
        "id": "D_YaUhI0ZZFQ",
        "colab_type": "code",
        "colab": {
          "base_uri": "https://localhost:8080/",
          "height": 301
        },
        "outputId": "16a7f0ee-ccc8-4bc5-82ff-228a4cdb4228"
      },
      "source": [
        "x_acf = pd.DataFrame(pacf(sp_data.diff_1[1:]))\n",
        "x_acf.plot(kind='bar')\n",
        "plt.title(\"S&P 500 Diff PACF\")\n",
        "plt.legend(['difference'])"
      ],
      "execution_count": 14,
      "outputs": [
        {
          "output_type": "execute_result",
          "data": {
            "text/plain": [
              "<matplotlib.legend.Legend at 0x7f41bdf31f60>"
            ]
          },
          "metadata": {
            "tags": []
          },
          "execution_count": 14
        },
        {
          "output_type": "display_data",
          "data": {
            "image/png": "[encoded data removed]",
            "text/plain": [
              "<Figure size 432x288 with 1 Axes>"
            ]
          },
          "metadata": {
            "tags": [],
            "needs_background": "light"
          }
        }
      ]
    },
    {
      "cell_type": "markdown",
      "metadata": {
        "id": "uCL6JJuvcXAP",
        "colab_type": "text"
      },
      "source": [
        "**XXXXXXXXXXXXXXXXXXXXXXXXXXXXXXXXXXXXXXXXXXXXXXXXXXXXXXXXXXXXXXXXXXXXXXXXXXXXXXXXXXXXXXXXXXXXXX**"
      ]
    },
    {
      "cell_type": "markdown",
      "metadata": {
        "id": "T-kX4ZoUcadk",
        "colab_type": "text"
      },
      "source": [
        "**Generate 5 ARIMA specifications and evaluate their efficacy at modeling your data**"
      ]
    },
    {
      "cell_type": "code",
      "metadata": {
        "id": "K3SFTErCcdYF",
        "colab_type": "code",
        "colab": {}
      },
      "source": [
        ""
      ],
      "execution_count": 0,
      "outputs": []
    },
    {
      "cell_type": "markdown",
      "metadata": {
        "id": "Hby-gyb_ceFa",
        "colab_type": "text"
      },
      "source": [
        "**I WILL USE THE FOLLIWNG 5 ARIMA MODELS**\n",
        "\n",
        "\n",
        "\n",
        "ARIMA(1,0,0)\n",
        "\n",
        "ARIMA((1,0,1)\n",
        "\n",
        "ARIMA(0,0,1)\n",
        "\n",
        "ARIMA(0,0,0)\n",
        "\n",
        "ARIMA(1,1,1) "
      ]
    },
    {
      "cell_type": "code",
      "metadata": {
        "id": "qEcCr96hc24n",
        "colab_type": "code",
        "colab": {
          "base_uri": "https://localhost:8080/",
          "height": 574
        },
        "outputId": "bb6194af-fd4b-4bd2-d782-cae5a4c8521f"
      },
      "source": [
        "from statsmodels.tsa.arima_model import ARIMA\n",
        "model = ARIMA(sp_data.price, order=(1,0,0))\n",
        "model_fit = model.fit()\n",
        "print(model_fit.summary())\n",
        "print('Residuals Description')\n",
        "print(model_fit.resid.describe())"
      ],
      "execution_count": 15,
      "outputs": [
        {
          "output_type": "stream",
          "text": [
            "/usr/local/lib/python3.6/dist-packages/statsmodels/tsa/base/tsa_model.py:219: ValueWarning: A date index has been provided, but it has no associated frequency information and so will be ignored when e.g. forecasting.\n",
            "  ' ignored when e.g. forecasting.', ValueWarning)\n"
          ],
          "name": "stderr"
        },
        {
          "output_type": "stream",
          "text": [
            "                              ARMA Model Results                              \n",
            "==============================================================================\n",
            "Dep. Variable:                  price   No. Observations:                 2267\n",
            "Model:                     ARMA(1, 0)   Log Likelihood               -9609.725\n",
            "Method:                       css-mle   S.D. of innovations             16.753\n",
            "Date:                Sun, 31 May 2020   AIC                          19225.451\n",
            "Time:                        20:37:27   BIC                          19242.629\n",
            "Sample:                             0   HQIC                         19231.718\n",
            "                                                                              \n",
            "===============================================================================\n",
            "                  coef    std err          z      P>|z|      [0.025      0.975]\n",
            "-------------------------------------------------------------------------------\n",
            "const        1686.5102    331.108      5.094      0.000    1037.550    2335.470\n",
            "ar.L1.price     0.9993      0.001   1575.460      0.000       0.998       1.001\n",
            "                                    Roots                                    \n",
            "=============================================================================\n",
            "                  Real          Imaginary           Modulus         Frequency\n",
            "-----------------------------------------------------------------------------\n",
            "AR.1            1.0007           +0.0000j            1.0007            0.0000\n",
            "-----------------------------------------------------------------------------\n",
            "Residuals Description\n",
            "count    2267.000000\n",
            "mean        0.123387\n",
            "std        17.493392\n",
            "min      -239.350202\n",
            "25%        -7.089776\n",
            "50%         0.744516\n",
            "75%         8.817798\n",
            "max       103.560047\n",
            "dtype: float64\n"
          ],
          "name": "stdout"
        }
      ]
    },
    {
      "cell_type": "code",
      "metadata": {
        "id": "GarfVkZudDy3",
        "colab_type": "code",
        "colab": {
          "base_uri": "https://localhost:8080/",
          "height": 608
        },
        "outputId": "8fb1cf3d-69c0-4794-a075-536ab8fcee02"
      },
      "source": [
        "from statsmodels.tsa.arima_model import ARIMA\n",
        "model = ARIMA(sp_data.price, order=(1,0,1))\n",
        "model_fit = model.fit()\n",
        "print(model_fit.summary())\n",
        "print('Residuals Description')\n",
        "print(model_fit.resid.describe())"
      ],
      "execution_count": 16,
      "outputs": [
        {
          "output_type": "stream",
          "text": [
            "/usr/local/lib/python3.6/dist-packages/statsmodels/tsa/base/tsa_model.py:219: ValueWarning: A date index has been provided, but it has no associated frequency information and so will be ignored when e.g. forecasting.\n",
            "  ' ignored when e.g. forecasting.', ValueWarning)\n"
          ],
          "name": "stderr"
        },
        {
          "output_type": "stream",
          "text": [
            "                              ARMA Model Results                              \n",
            "==============================================================================\n",
            "Dep. Variable:                  price   No. Observations:                 2267\n",
            "Model:                     ARMA(1, 1)   Log Likelihood               -9603.247\n",
            "Method:                       css-mle   S.D. of innovations             16.705\n",
            "Date:                Sun, 31 May 2020   AIC                          19214.494\n",
            "Time:                        20:37:48   BIC                          19237.399\n",
            "Sample:                             0   HQIC                         19222.851\n",
            "                                                                              \n",
            "===============================================================================\n",
            "                  coef    std err          z      P>|z|      [0.025      0.975]\n",
            "-------------------------------------------------------------------------------\n",
            "const        1707.4357    344.649      4.954      0.000    1031.935    2382.936\n",
            "ar.L1.price     0.9994      0.001   1780.215      0.000       0.998       1.000\n",
            "ma.L1.price    -0.0787      0.022     -3.614      0.000      -0.121      -0.036\n",
            "                                    Roots                                    \n",
            "=============================================================================\n",
            "                  Real          Imaginary           Modulus         Frequency\n",
            "-----------------------------------------------------------------------------\n",
            "AR.1            1.0006           +0.0000j            1.0006            0.0000\n",
            "MA.1           12.7139           +0.0000j           12.7139            0.0000\n",
            "-----------------------------------------------------------------------------\n",
            "Residuals Description\n",
            "count    2267.000000\n",
            "mean        0.140356\n",
            "std        17.578967\n",
            "min      -260.275689\n",
            "25%        -7.062054\n",
            "50%         1.026887\n",
            "75%         8.741181\n",
            "max       102.280341\n",
            "dtype: float64\n"
          ],
          "name": "stdout"
        }
      ]
    },
    {
      "cell_type": "code",
      "metadata": {
        "id": "ew125MyBdHzp",
        "colab_type": "code",
        "colab": {
          "base_uri": "https://localhost:8080/",
          "height": 574
        },
        "outputId": "c88f9923-7595-4a87-e785-590ea2824df4"
      },
      "source": [
        "from statsmodels.tsa.arima_model import ARIMA\n",
        "model = ARIMA(sp_data.price, order=(0,0,1))\n",
        "model_fit = model.fit()\n",
        "print(model_fit.summary())\n",
        "print('Residuals Description')\n",
        "print(model_fit.resid.describe())"
      ],
      "execution_count": 17,
      "outputs": [
        {
          "output_type": "stream",
          "text": [
            "/usr/local/lib/python3.6/dist-packages/statsmodels/tsa/base/tsa_model.py:219: ValueWarning: A date index has been provided, but it has no associated frequency information and so will be ignored when e.g. forecasting.\n",
            "  ' ignored when e.g. forecasting.', ValueWarning)\n"
          ],
          "name": "stderr"
        },
        {
          "output_type": "stream",
          "text": [
            "                              ARMA Model Results                              \n",
            "==============================================================================\n",
            "Dep. Variable:                  price   No. Observations:                 2267\n",
            "Model:                     ARMA(0, 1)   Log Likelihood              -15379.316\n",
            "Method:                       css-mle   S.D. of innovations            213.670\n",
            "Date:                Sun, 31 May 2020   AIC                          30764.632\n",
            "Time:                        20:38:07   BIC                          30781.811\n",
            "Sample:                             0   HQIC                         30770.900\n",
            "                                                                              \n",
            "===============================================================================\n",
            "                  coef    std err          z      P>|z|      [0.025      0.975]\n",
            "-------------------------------------------------------------------------------\n",
            "const        1520.7783      8.838    172.071      0.000    1503.456    1538.101\n",
            "ma.L1.price     0.9699      0.004    249.737      0.000       0.962       0.977\n",
            "                                    Roots                                    \n",
            "=============================================================================\n",
            "                  Real          Imaginary           Modulus         Frequency\n",
            "-----------------------------------------------------------------------------\n",
            "MA.1           -1.0311           +0.0000j            1.0311            0.5000\n",
            "-----------------------------------------------------------------------------\n",
            "Residuals Description\n",
            "count    2267.000000\n",
            "mean       -0.025013\n",
            "std       213.732034\n",
            "min      -516.694460\n",
            "25%      -163.873242\n",
            "50%       -53.182576\n",
            "75%       215.294255\n",
            "max       404.495121\n",
            "dtype: float64\n"
          ],
          "name": "stdout"
        }
      ]
    },
    {
      "cell_type": "code",
      "metadata": {
        "id": "e9pN2UqzdMn_",
        "colab_type": "code",
        "colab": {
          "base_uri": "https://localhost:8080/",
          "height": 474
        },
        "outputId": "0e5af8f9-a3ad-4270-86ae-efc1d4a1b6d4"
      },
      "source": [
        "from statsmodels.tsa.arima_model import ARIMA\n",
        "model = ARIMA(sp_data.price, order=(0,0,0))\n",
        "model_fit = model.fit()\n",
        "print(model_fit.summary())\n",
        "print('Residuals Description')\n",
        "print(model_fit.resid.describe())"
      ],
      "execution_count": 18,
      "outputs": [
        {
          "output_type": "stream",
          "text": [
            "                              ARMA Model Results                              \n",
            "==============================================================================\n",
            "Dep. Variable:                  price   No. Observations:                 2267\n",
            "Model:                     ARMA(0, 0)   Log Likelihood              -16876.921\n",
            "Method:                           css   S.D. of innovations            413.918\n",
            "Date:                Sun, 31 May 2020   AIC                          33757.842\n",
            "Time:                        20:38:25   BIC                          33769.294\n",
            "Sample:                             0   HQIC                         33762.020\n",
            "                                                                              \n",
            "==============================================================================\n",
            "                 coef    std err          z      P>|z|      [0.025      0.975]\n",
            "------------------------------------------------------------------------------\n",
            "const       1520.6520      8.693    174.921      0.000    1503.613    1537.691\n",
            "==============================================================================\n",
            "Residuals Description\n",
            "count    2.267000e+03\n",
            "mean     5.646730e-14\n",
            "std      4.140090e+02\n",
            "min     -8.441220e+02\n",
            "25%     -3.256120e+02\n",
            "50%     -1.216920e+02\n",
            "75%      4.303230e+02\n",
            "max      7.510680e+02\n",
            "dtype: float64\n"
          ],
          "name": "stdout"
        },
        {
          "output_type": "stream",
          "text": [
            "/usr/local/lib/python3.6/dist-packages/statsmodels/tsa/base/tsa_model.py:219: ValueWarning: A date index has been provided, but it has no associated frequency information and so will be ignored when e.g. forecasting.\n",
            "  ' ignored when e.g. forecasting.', ValueWarning)\n"
          ],
          "name": "stderr"
        }
      ]
    },
    {
      "cell_type": "code",
      "metadata": {
        "id": "FaOkcyFcdQnv",
        "colab_type": "code",
        "colab": {
          "base_uri": "https://localhost:8080/",
          "height": 642
        },
        "outputId": "fc78af4c-a19d-4bd1-ce0d-4eaea5e4e2f3"
      },
      "source": [
        "from statsmodels.tsa.arima_model import ARIMA\n",
        "model = ARIMA(sp_data.price, order=(1,1,1))\n",
        "model_fit = model.fit()\n",
        "print(model_fit.summary())\n",
        "print('Residuals Description')\n",
        "print(model_fit.resid.describe())"
      ],
      "execution_count": 19,
      "outputs": [
        {
          "output_type": "stream",
          "text": [
            "/usr/local/lib/python3.6/dist-packages/statsmodels/tsa/base/tsa_model.py:219: ValueWarning: A date index has been provided, but it has no associated frequency information and so will be ignored when e.g. forecasting.\n",
            "  ' ignored when e.g. forecasting.', ValueWarning)\n",
            "/usr/local/lib/python3.6/dist-packages/statsmodels/tsa/base/tsa_model.py:219: ValueWarning: A date index has been provided, but it has no associated frequency information and so will be ignored when e.g. forecasting.\n",
            "  ' ignored when e.g. forecasting.', ValueWarning)\n"
          ],
          "name": "stderr"
        },
        {
          "output_type": "stream",
          "text": [
            "                             ARIMA Model Results                              \n",
            "==============================================================================\n",
            "Dep. Variable:                D.price   No. Observations:                 2266\n",
            "Model:                 ARIMA(1, 1, 1)   Log Likelihood               -9592.974\n",
            "Method:                       css-mle   S.D. of innovations             16.685\n",
            "Date:                Sun, 31 May 2020   AIC                          19193.947\n",
            "Time:                        20:38:41   BIC                          19216.850\n",
            "Sample:                             1   HQIC                         19202.304\n",
            "                                                                              \n",
            "=================================================================================\n",
            "                    coef    std err          z      P>|z|      [0.025      0.975]\n",
            "---------------------------------------------------------------------------------\n",
            "const             0.3529      0.289      1.222      0.222      -0.213       0.919\n",
            "ar.L1.D.price     0.5832      0.155      3.765      0.000       0.280       0.887\n",
            "ma.L1.D.price    -0.6565      0.144     -4.559      0.000      -0.939      -0.374\n",
            "                                    Roots                                    \n",
            "=============================================================================\n",
            "                  Real          Imaginary           Modulus         Frequency\n",
            "-----------------------------------------------------------------------------\n",
            "AR.1            1.7147           +0.0000j            1.7147            0.0000\n",
            "MA.1            1.5232           +0.0000j            1.5232            0.0000\n",
            "-----------------------------------------------------------------------------\n",
            "Residuals Description\n",
            "count    2266.000000\n",
            "mean       -0.002487\n",
            "std        16.688544\n",
            "min      -106.294400\n",
            "25%        -7.452397\n",
            "50%         1.039101\n",
            "75%         8.708535\n",
            "max        96.668744\n",
            "dtype: float64\n"
          ],
          "name": "stdout"
        }
      ]
    },
    {
      "cell_type": "markdown",
      "metadata": {
        "id": "9SKZ4CI3dfFU",
        "colab_type": "text"
      },
      "source": [
        "**XXXXXXXXXXXXXXXXXXXXXXXXXXXXXXXXXXXXXXXXXXXXXXXXXXXXXXXXXXXXXXXXXXXXXXXXXXXXXXXXXXXXXXX**"
      ]
    },
    {
      "cell_type": "markdown",
      "metadata": {
        "id": "q-pWiWmXdiMa",
        "colab_type": "text"
      },
      "source": [
        "**Finally choose one specification and make the case for that as a logical model for your dataset**."
      ]
    },
    {
      "cell_type": "markdown",
      "metadata": {
        "id": "vJ2E80Spdke4",
        "colab_type": "text"
      },
      "source": [
        "**THE MODEL WITH THE LOWEST AIC IS THE BEST MODEL--IN THIS CASE IT IS ARIMA(1,1,1)**"
      ]
    }
  ]
}