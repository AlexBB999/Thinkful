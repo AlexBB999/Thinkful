{
  "nbformat": 4,
  "nbformat_minor": 0,
  "metadata": {
    "colab": {
      "name": " DataCleaning- 14.4-outliers.ipynb",
      "provenance": [],
      "collapsed_sections": [],
      "authorship_tag": "ABX9TyMMZ3571r8qL7SUPocsl0AK",
      "include_colab_link": true
    },
    "kernelspec": {
      "name": "python3",
      "display_name": "Python 3"
    }
  },
  "cells": [
    {
      "cell_type": "markdown",
      "metadata": {
        "id": "view-in-github",
        "colab_type": "text"
      },
      "source": [
        "<a href=\"https://colab.research.google.com/github/AlexBB999/Thinkful/blob/master/DataCleaning_14_4_outliers.ipynb\" target=\"_parent\"><img src=\"https://colab.research.google.com/assets/colab-badge.svg\" alt=\"Open In Colab\"/></a>"
      ]
    },
    {
      "cell_type": "code",
      "metadata": {
        "id": "3UoTyiqGSFka",
        "colab_type": "code",
        "colab": {}
      },
      "source": [
        "# Import the SQL ALchemy engine\n",
        "from sqlalchemy import create_engine"
      ],
      "execution_count": 0,
      "outputs": []
    },
    {
      "cell_type": "code",
      "metadata": {
        "id": "BSKHoV2sMrQV",
        "colab_type": "code",
        "colab": {}
      },
      "source": [
        "%matplotlib inline\n",
        "import pandas as pd\n",
        "import numpy as np\n",
        "import matplotlib.pyplot as plt\n",
        "from scipy import stats\n",
        "import scipy.stats as stats\n",
        "import statsmodels.stats.proportion as proportion\n",
        "from statsmodels.stats.weightstats import CompareMeans"
      ],
      "execution_count": 0,
      "outputs": []
    },
    {
      "cell_type": "code",
      "metadata": {
        "id": "S7ZaPb8BSJtT",
        "colab_type": "code",
        "colab": {}
      },
      "source": [
        "postgres_user = 'dsbc_student'\n",
        "postgres_pw = '7*.8G9QH21'\n",
        "postgres_host = '142.93.121.174'\n",
        "postgres_port = '5432'\n",
        "postgres_db = 'useducation'"
      ],
      "execution_count": 0,
      "outputs": []
    },
    {
      "cell_type": "code",
      "metadata": {
        "id": "ThQqq2agS2Vc",
        "colab_type": "code",
        "colab": {
          "base_uri": "https://localhost:8080/",
          "height": 70
        },
        "outputId": "aebcca6a-960a-409e-9791-ec58df5c977f"
      },
      "source": [
        "# use the credentials to start a connection\n",
        "engine = create_engine('postgresql://{}:{}@{}:{}/{}'.format(\n",
        "    postgres_user, postgres_pw, postgres_host, postgres_port, postgres_db))"
      ],
      "execution_count": 4,
      "outputs": [
        {
          "output_type": "stream",
          "text": [
            "/usr/local/lib/python3.6/dist-packages/psycopg2/__init__.py:144: UserWarning: The psycopg2 wheel package will be renamed from release 2.8; in order to keep installing from binary please use \"pip install psycopg2-binary\" instead. For details see: <http://initd.org/psycopg/docs/install.html#binary-install-from-pypi>.\n",
            "  \"\"\")\n"
          ],
          "name": "stderr"
        }
      ]
    },
    {
      "cell_type": "code",
      "metadata": {
        "id": "qK-boSHOTNsR",
        "colab_type": "code",
        "colab": {}
      },
      "source": [
        "#youtube_df = pd.read_sql_query('select * from youtube',con=engine)\n",
        "ed0 = pd.read_sql_query('select * FROM useducation',con=engine)\n",
        "\n",
        "\n",
        "#educate= engine.execute('SELECT * FROM useducation' )\n",
        "engine.dispose()"
      ],
      "execution_count": 0,
      "outputs": []
    },
    {
      "cell_type": "code",
      "metadata": {
        "id": "IC2xC1n5TfNk",
        "colab_type": "code",
        "colab": {}
      },
      "source": [
        "# use fetchall() to get a list of rows from the results.\n",
        "#ed = educate.fetchall()"
      ],
      "execution_count": 0,
      "outputs": []
    },
    {
      "cell_type": "code",
      "metadata": {
        "id": "oMq9qU9_8s-D",
        "colab_type": "code",
        "colab": {}
      },
      "source": [
        "ed=ed0.copy()"
      ],
      "execution_count": 0,
      "outputs": []
    },
    {
      "cell_type": "code",
      "metadata": {
        "id": "qc0ARryX8yDc",
        "colab_type": "code",
        "colab": {}
      },
      "source": [
        "ed1=ed0.copy()"
      ],
      "execution_count": 0,
      "outputs": []
    },
    {
      "cell_type": "code",
      "metadata": {
        "id": "s5Zkrfvp_qDO",
        "colab_type": "code",
        "colab": {}
      },
      "source": [
        "ed2=ed0.copy()"
      ],
      "execution_count": 0,
      "outputs": []
    },
    {
      "cell_type": "code",
      "metadata": {
        "id": "x5EHGhzpz7td",
        "colab_type": "code",
        "outputId": "f9659cd7-d293-4a2c-f7b2-112a398b9eca",
        "colab": {
          "base_uri": "https://localhost:8080/",
          "height": 156
        }
      },
      "source": [
        "ed.head(3)"
      ],
      "execution_count": 10,
      "outputs": [
        {
          "output_type": "execute_result",
          "data": {
            "text/html": [
              "<div>\n",
              "<style scoped>\n",
              "    .dataframe tbody tr th:only-of-type {\n",
              "        vertical-align: middle;\n",
              "    }\n",
              "\n",
              "    .dataframe tbody tr th {\n",
              "        vertical-align: top;\n",
              "    }\n",
              "\n",
              "    .dataframe thead th {\n",
              "        text-align: right;\n",
              "    }\n",
              "</style>\n",
              "<table border=\"1\" class=\"dataframe\">\n",
              "  <thead>\n",
              "    <tr style=\"text-align: right;\">\n",
              "      <th></th>\n",
              "      <th>PRIMARY_KEY</th>\n",
              "      <th>STATE</th>\n",
              "      <th>YEAR</th>\n",
              "      <th>ENROLL</th>\n",
              "      <th>TOTAL_REVENUE</th>\n",
              "      <th>FEDERAL_REVENUE</th>\n",
              "      <th>STATE_REVENUE</th>\n",
              "      <th>LOCAL_REVENUE</th>\n",
              "      <th>TOTAL_EXPENDITURE</th>\n",
              "      <th>INSTRUCTION_EXPENDITURE</th>\n",
              "      <th>SUPPORT_SERVICES_EXPENDITURE</th>\n",
              "      <th>OTHER_EXPENDITURE</th>\n",
              "      <th>CAPITAL_OUTLAY_EXPENDITURE</th>\n",
              "      <th>GRADES_PK_G</th>\n",
              "      <th>GRADES_KG_G</th>\n",
              "      <th>GRADES_4_G</th>\n",
              "      <th>GRADES_8_G</th>\n",
              "      <th>GRADES_12_G</th>\n",
              "      <th>GRADES_1_8_G</th>\n",
              "      <th>GRADES_9_12_G</th>\n",
              "      <th>GRADES_ALL_G</th>\n",
              "      <th>AVG_MATH_4_SCORE</th>\n",
              "      <th>AVG_MATH_8_SCORE</th>\n",
              "      <th>AVG_READING_4_SCORE</th>\n",
              "      <th>AVG_READING_8_SCORE</th>\n",
              "    </tr>\n",
              "  </thead>\n",
              "  <tbody>\n",
              "    <tr>\n",
              "      <th>0</th>\n",
              "      <td>1992_ALABAMA</td>\n",
              "      <td>ALABAMA</td>\n",
              "      <td>1992</td>\n",
              "      <td>NaN</td>\n",
              "      <td>2678885.0</td>\n",
              "      <td>304177.0</td>\n",
              "      <td>1659028.0</td>\n",
              "      <td>715680.0</td>\n",
              "      <td>2653798.0</td>\n",
              "      <td>1481703.0</td>\n",
              "      <td>735036.0</td>\n",
              "      <td>NaN</td>\n",
              "      <td>174053.0</td>\n",
              "      <td>8224.0</td>\n",
              "      <td>55460.0</td>\n",
              "      <td>57948.0</td>\n",
              "      <td>58025.0</td>\n",
              "      <td>41167.0</td>\n",
              "      <td>471564.0</td>\n",
              "      <td>196386.0</td>\n",
              "      <td>676174.0</td>\n",
              "      <td>208.327876</td>\n",
              "      <td>252.187522</td>\n",
              "      <td>207.963517</td>\n",
              "      <td>NaN</td>\n",
              "    </tr>\n",
              "    <tr>\n",
              "      <th>1</th>\n",
              "      <td>1992_ALASKA</td>\n",
              "      <td>ALASKA</td>\n",
              "      <td>1992</td>\n",
              "      <td>NaN</td>\n",
              "      <td>1049591.0</td>\n",
              "      <td>106780.0</td>\n",
              "      <td>720711.0</td>\n",
              "      <td>222100.0</td>\n",
              "      <td>972488.0</td>\n",
              "      <td>498362.0</td>\n",
              "      <td>350902.0</td>\n",
              "      <td>NaN</td>\n",
              "      <td>37451.0</td>\n",
              "      <td>2371.0</td>\n",
              "      <td>10152.0</td>\n",
              "      <td>9748.0</td>\n",
              "      <td>8789.0</td>\n",
              "      <td>6714.0</td>\n",
              "      <td>79117.0</td>\n",
              "      <td>30847.0</td>\n",
              "      <td>112335.0</td>\n",
              "      <td>NaN</td>\n",
              "      <td>NaN</td>\n",
              "      <td>NaN</td>\n",
              "      <td>258.859712</td>\n",
              "    </tr>\n",
              "    <tr>\n",
              "      <th>2</th>\n",
              "      <td>1992_ARIZONA</td>\n",
              "      <td>ARIZONA</td>\n",
              "      <td>1992</td>\n",
              "      <td>NaN</td>\n",
              "      <td>3258079.0</td>\n",
              "      <td>297888.0</td>\n",
              "      <td>1369815.0</td>\n",
              "      <td>1590376.0</td>\n",
              "      <td>3401580.0</td>\n",
              "      <td>1435908.0</td>\n",
              "      <td>1007732.0</td>\n",
              "      <td>NaN</td>\n",
              "      <td>609114.0</td>\n",
              "      <td>2544.0</td>\n",
              "      <td>53497.0</td>\n",
              "      <td>55433.0</td>\n",
              "      <td>49081.0</td>\n",
              "      <td>37410.0</td>\n",
              "      <td>437127.0</td>\n",
              "      <td>175210.0</td>\n",
              "      <td>614881.0</td>\n",
              "      <td>215.253932</td>\n",
              "      <td>265.366278</td>\n",
              "      <td>206.212716</td>\n",
              "      <td>262.169895</td>\n",
              "    </tr>\n",
              "  </tbody>\n",
              "</table>\n",
              "</div>"
            ],
            "text/plain": [
              "    PRIMARY_KEY    STATE  ...  AVG_READING_4_SCORE  AVG_READING_8_SCORE\n",
              "0  1992_ALABAMA  ALABAMA  ...           207.963517                  NaN\n",
              "1   1992_ALASKA   ALASKA  ...                  NaN           258.859712\n",
              "2  1992_ARIZONA  ARIZONA  ...           206.212716           262.169895\n",
              "\n",
              "[3 rows x 25 columns]"
            ]
          },
          "metadata": {
            "tags": []
          },
          "execution_count": 10
        }
      ]
    },
    {
      "cell_type": "code",
      "metadata": {
        "id": "eHfBLmUD3gGC",
        "colab_type": "code",
        "colab": {}
      },
      "source": [
        ""
      ],
      "execution_count": 0,
      "outputs": []
    },
    {
      "cell_type": "code",
      "metadata": {
        "id": "HQSiBqxqUrQt",
        "colab_type": "code",
        "colab": {}
      },
      "source": [
        "#ed.info()"
      ],
      "execution_count": 0,
      "outputs": []
    },
    {
      "cell_type": "code",
      "metadata": {
        "id": "4SZPGNOSYM8r",
        "colab_type": "code",
        "colab": {}
      },
      "source": [
        "#ed.isnull()"
      ],
      "execution_count": 0,
      "outputs": []
    },
    {
      "cell_type": "code",
      "metadata": {
        "id": "Gm_WRXh2aAYb",
        "colab_type": "code",
        "colab": {}
      },
      "source": [
        "#for column_name in ed.columns:\n",
        "    #print(\"Unique values in column {} are: {}\".format(column_name, ed[column_name].unique()))"
      ],
      "execution_count": 0,
      "outputs": []
    },
    {
      "cell_type": "markdown",
      "metadata": {
        "id": "CXnmzw1mZOoX",
        "colab_type": "text"
      },
      "source": [
        "GET A SENSE OF THE MAGNITUDE OF THE MSSING VALUES -- percentage missing for each column"
      ]
    },
    {
      "cell_type": "code",
      "metadata": {
        "id": "T2t-nHYJZVUL",
        "colab_type": "code",
        "outputId": "15d03647-bbc6-46d4-b5a6-8d00092d4416",
        "colab": {
          "base_uri": "https://localhost:8080/",
          "height": 454
        }
      },
      "source": [
        "ed.isnull().sum()*100/ed.isnull().count()"
      ],
      "execution_count": 11,
      "outputs": [
        {
          "output_type": "execute_result",
          "data": {
            "text/plain": [
              "PRIMARY_KEY                      0.000000\n",
              "STATE                            0.000000\n",
              "YEAR                             0.000000\n",
              "ENROLL                          17.627346\n",
              "TOTAL_REVENUE                   14.209115\n",
              "FEDERAL_REVENUE                 14.209115\n",
              "STATE_REVENUE                   14.209115\n",
              "LOCAL_REVENUE                   14.209115\n",
              "TOTAL_EXPENDITURE               14.209115\n",
              "INSTRUCTION_EXPENDITURE         14.209115\n",
              "SUPPORT_SERVICES_EXPENDITURE    14.209115\n",
              "OTHER_EXPENDITURE               17.627346\n",
              "CAPITAL_OUTLAY_EXPENDITURE      14.209115\n",
              "GRADES_PK_G                     11.595174\n",
              "GRADES_KG_G                      8.847185\n",
              "GRADES_4_G                       8.780161\n",
              "GRADES_8_G                       8.780161\n",
              "GRADES_12_G                      8.780161\n",
              "GRADES_1_8_G                     8.780161\n",
              "GRADES_9_12_G                    8.780161\n",
              "GRADES_ALL_G                    11.595174\n",
              "AVG_MATH_4_SCORE                64.075067\n",
              "AVG_MATH_8_SCORE                64.343164\n",
              "AVG_READING_4_SCORE             64.276139\n",
              "AVG_READING_8_SCORE             66.621984\n",
              "dtype: float64"
            ]
          },
          "metadata": {
            "tags": []
          },
          "execution_count": 11
        }
      ]
    },
    {
      "cell_type": "code",
      "metadata": {
        "id": "atFkEO3gzSdr",
        "colab_type": "code",
        "outputId": "4402e9c7-22f9-4d15-9d41-7d098f8b704d",
        "colab": {
          "base_uri": "https://localhost:8080/",
          "height": 454
        }
      },
      "source": [
        "ed.isnull().sum()"
      ],
      "execution_count": 0,
      "outputs": [
        {
          "output_type": "execute_result",
          "data": {
            "text/plain": [
              "PRIMARY_KEY                       0\n",
              "STATE                             0\n",
              "YEAR                              0\n",
              "ENROLL                          263\n",
              "TOTAL_REVENUE                   212\n",
              "FEDERAL_REVENUE                 212\n",
              "STATE_REVENUE                   212\n",
              "LOCAL_REVENUE                   212\n",
              "TOTAL_EXPENDITURE               212\n",
              "INSTRUCTION_EXPENDITURE         212\n",
              "SUPPORT_SERVICES_EXPENDITURE    212\n",
              "OTHER_EXPENDITURE               263\n",
              "CAPITAL_OUTLAY_EXPENDITURE      212\n",
              "GRADES_PK_G                     173\n",
              "GRADES_KG_G                     132\n",
              "GRADES_4_G                      131\n",
              "GRADES_8_G                      131\n",
              "GRADES_12_G                     131\n",
              "GRADES_1_8_G                    131\n",
              "GRADES_9_12_G                   131\n",
              "GRADES_ALL_G                    173\n",
              "AVG_MATH_4_SCORE                956\n",
              "AVG_MATH_8_SCORE                960\n",
              "AVG_READING_4_SCORE             959\n",
              "AVG_READING_8_SCORE             994\n",
              "dtype: int64"
            ]
          },
          "metadata": {
            "tags": []
          },
          "execution_count": 11
        }
      ]
    },
    {
      "cell_type": "code",
      "metadata": {
        "id": "4ONP2moZcVpv",
        "colab_type": "code",
        "colab": {}
      },
      "source": [
        "#ed.LOCAL_REVENUE.value_counts(dropna=False)"
      ],
      "execution_count": 0,
      "outputs": []
    },
    {
      "cell_type": "markdown",
      "metadata": {
        "id": "Uz2D9FLO2GsP",
        "colab_type": "text"
      },
      "source": [
        "ANSWERS "
      ]
    },
    {
      "cell_type": "markdown",
      "metadata": {
        "id": "DsLu9ZVB2mt9",
        "colab_type": "text"
      },
      "source": [
        "1 - VARIABLE TYPE AND FRACTION MISSING --SEE ABOVE\n",
        "\n",
        " OVER 10% MISSING FORGET FILLING IN MISSING VALUES UNLESS COLUMN IS CRITICAL  -- drop column"
      ]
    },
    {
      "cell_type": "markdown",
      "metadata": {
        "id": "jGeHIXN52KkF",
        "colab_type": "text"
      },
      "source": [
        "2 - Notice that the data has a time dimension (year). For this assignment, forget about time and treat all the observations as if they're from the same year. Choose a strategy to deal with the missing values for each variables. For which variables would filling in the missing values with some value make sense? For which might tossing out the records entirely make sense?\n",
        "\n",
        "\n",
        " AVG MATH AND READING GRADES 4 AND 8 ARE MISSING ALMOST 2/3 OF ENTRIES -- DROP THESE 4  COLUMNS"
      ]
    },
    {
      "cell_type": "markdown",
      "metadata": {
        "id": "lCEMnljtVBWE",
        "colab_type": "text"
      },
      "source": [
        "ed[\"GRADES_4_G\"]=ed['GRADES_4_G'].interpolate()\n",
        "ed[\"GRADES_8_G\"]=ed['GRADES_8_G'].interpolate()\n",
        "ed[\"GRADES_12_G\"]=ed['GRADES_12_G'].interpolate()"
      ]
    },
    {
      "cell_type": "markdown",
      "metadata": {
        "id": "-6kpXfBf47Zu",
        "colab_type": "text"
      },
      "source": [
        "PROBLEM 3 BELOW"
      ]
    },
    {
      "cell_type": "markdown",
      "metadata": {
        "id": "yUVO_NGRmJiK",
        "colab_type": "text"
      },
      "source": [
        ""
      ]
    },
    {
      "cell_type": "markdown",
      "metadata": {
        "id": "kIKKC5uNjd_b",
        "colab_type": "text"
      },
      "source": [
        "Now, take into account the time factor. Replicate your second answer but this time fill in the missing values by using a statistic that is calculated within the year of the observation. For example, if you want to fill a missing value for a variable with the mean of that variable, calculate the mean by using only the observations **for that specific year**."
      ]
    },
    {
      "cell_type": "code",
      "metadata": {
        "id": "WNtZ_ukcnwcM",
        "colab_type": "code",
        "outputId": "e5cf65e5-49b5-444e-f41c-d8c01f49ed61",
        "colab": {
          "base_uri": "https://localhost:8080/",
          "height": 34
        }
      },
      "source": [
        "type(ed1.groupby('YEAR')['AVG_MATH_4_SCORE'])\n",
        "#e_year=np.nanmean(ed.groupby('YEAR')['AVG_MATH_4_SCORE'],axis=1)\n",
        "#e_year"
      ],
      "execution_count": 0,
      "outputs": [
        {
          "output_type": "execute_result",
          "data": {
            "text/plain": [
              "pandas.core.groupby.generic.SeriesGroupBy"
            ]
          },
          "metadata": {
            "tags": []
          },
          "execution_count": 12
        }
      ]
    },
    {
      "cell_type": "code",
      "metadata": {
        "id": "gmIzwLO6NsXF",
        "colab_type": "code",
        "outputId": "9eebff1f-12b7-469e-dcc9-4d712d8e1f01",
        "colab": {
          "base_uri": "https://localhost:8080/",
          "height": 168
        }
      },
      "source": [
        "ed1['GRADES_4_G'].describe()"
      ],
      "execution_count": 0,
      "outputs": [
        {
          "output_type": "execute_result",
          "data": {
            "text/plain": [
              "count      1361.000000\n",
              "mean      64538.927259\n",
              "std       80293.387625\n",
              "min         633.000000\n",
              "25%       13739.000000\n",
              "50%       43272.000000\n",
              "75%       75481.000000\n",
              "max      493415.000000\n",
              "Name: GRADES_4_G, dtype: float64"
            ]
          },
          "metadata": {
            "tags": []
          },
          "execution_count": 18
        }
      ]
    },
    {
      "cell_type": "code",
      "metadata": {
        "id": "CV6YDfNLkZ47",
        "colab_type": "code",
        "outputId": "e42fe16c-8578-435e-dee5-cdee3da28987",
        "colab": {
          "base_uri": "https://localhost:8080/",
          "height": 168
        }
      },
      "source": [
        "\n",
        "#df.D = df.groupby(['A','B','C'])['D'].apply(lambda x: x.fillna(x.mean()))\n",
        "#df.D = df.groupby(['A','B','C'])['D'].apply(lambda x: x.fillna(x.mean()))\n",
        "ed1[\"GRADES_4_G\"]=ed1.groupby(['YEAR'])[\"GRADES_4_G\"].apply(lambda x: x.fillna(x.mean()))\n",
        "ed1[\"GRADES_8_G\"]=ed1.groupby(['YEAR'])[\"GRADES_8_G\"].apply(lambda x: x.fillna(x.mean()))\n",
        "ed1[\"GRADES_12_G\"]=ed1.groupby(['YEAR'])[\"GRADES_12_G\"].apply(lambda x: x.fillna(x.mean()))\n",
        "\n",
        "ed1['GRADES_4_G'].describe()"
      ],
      "execution_count": 0,
      "outputs": [
        {
          "output_type": "execute_result",
          "data": {
            "text/plain": [
              "count      1390.000000\n",
              "mean      64590.152441\n",
              "std       79451.944548\n",
              "min         633.000000\n",
              "25%       14190.500000\n",
              "50%       44909.500000\n",
              "75%       75149.750000\n",
              "max      493415.000000\n",
              "Name: GRADES_4_G, dtype: float64"
            ]
          },
          "metadata": {
            "tags": []
          },
          "execution_count": 19
        }
      ]
    },
    {
      "cell_type": "code",
      "metadata": {
        "id": "1UoQx9PzH18r",
        "colab_type": "code",
        "outputId": "fea53fab-9381-4a6a-ee71-6bad8d1f988d",
        "colab": {
          "base_uri": "https://localhost:8080/",
          "height": 168
        }
      },
      "source": [
        "ed1['GRADES_4_G'].describe()"
      ],
      "execution_count": 0,
      "outputs": [
        {
          "output_type": "execute_result",
          "data": {
            "text/plain": [
              "count      1361.000000\n",
              "mean      64538.927259\n",
              "std       80293.387625\n",
              "min         633.000000\n",
              "25%       13739.000000\n",
              "50%       43272.000000\n",
              "75%       75481.000000\n",
              "max      493415.000000\n",
              "Name: GRADES_4_G, dtype: float64"
            ]
          },
          "metadata": {
            "tags": []
          },
          "execution_count": 13
        }
      ]
    },
    {
      "cell_type": "markdown",
      "metadata": {
        "id": "nkJcaHqZln15",
        "colab_type": "text"
      },
      "source": [
        "#///////////////////////////////////////////////////////////////////////////////////////////////////////"
      ]
    },
    {
      "cell_type": "markdown",
      "metadata": {
        "id": "B1O-AX9FEHPg",
        "colab_type": "text"
      },
      "source": [
        "PROBLEM 4"
      ]
    },
    {
      "cell_type": "code",
      "metadata": {
        "colab_type": "code",
        "id": "fFWUizbQ0LtQ",
        "colab": {}
      },
      "source": [
        "fill_list = [\"ENROLL\", \"TOTAL_REVENUE\", \"FEDERAL_REVENUE\",\n",
        "\"STATE_REVENUE\", \"LOCAL_REVENUE\", \"TOTAL_EXPENDITURE\",\n",
        "\"INSTRUCTION_EXPENDITURE\", \"SUPPORT_SERVICES_EXPENDITURE\",\n",
        "\"OTHER_EXPENDITURE\", \"CAPITAL_OUTLAY_EXPENDITURE\", \"GRADES_PK_G\",\"GRADES_KG_G\", \"GRADES_4_G\", \"GRADES_8_G\", \"GRADES_12_G\", \"GRADES_1_8_G\", \"GRADES_9_12_G\", \"GRADES_ALL_G\"]"
      ],
      "execution_count": 0,
      "outputs": []
    },
    {
      "cell_type": "markdown",
      "metadata": {
        "id": "s2TYhG-EEC-k",
        "colab_type": "text"
      },
      "source": [
        "4. This time, fill in the missing values using interpolation (extrapolation).\n"
      ]
    },
    {
      "cell_type": "code",
      "metadata": {
        "id": "l8u1DgtK0VWR",
        "colab_type": "code",
        "colab": {}
      },
      "source": [
        "for col in fill_list:\n",
        "  ed2[col]=ed2[col].interpolate()"
      ],
      "execution_count": 0,
      "outputs": []
    },
    {
      "cell_type": "code",
      "metadata": {
        "id": "cg1-JOEXaZuK",
        "colab_type": "code",
        "colab": {}
      },
      "source": [
        "ed2.dropna(inplace=True)"
      ],
      "execution_count": 0,
      "outputs": []
    },
    {
      "cell_type": "code",
      "metadata": {
        "id": "2qIZGSJh0nWF",
        "colab_type": "code",
        "colab": {}
      },
      "source": [
        "#ed2.info()"
      ],
      "execution_count": 0,
      "outputs": []
    },
    {
      "cell_type": "code",
      "metadata": {
        "id": "C2-O3nFjMS0y",
        "colab_type": "code",
        "colab": {}
      },
      "source": [
        "#ed2['GRADES_4_G'].describe()"
      ],
      "execution_count": 0,
      "outputs": []
    },
    {
      "cell_type": "markdown",
      "metadata": {
        "id": "sk8XutQ1EFq8",
        "colab_type": "text"
      },
      "source": [
        "ed2[\"GRADES_4_G\"]=ed2['GRADES_4_G'].interpolate()\n",
        "ed2[\"GRADES_8_G\"]=ed2['GRADES_8_G'].interpolate()\n",
        "ed2[\"GRADES_12_G\"]=ed2['GRADES_12_G'].interpolate()"
      ]
    },
    {
      "cell_type": "markdown",
      "metadata": {
        "id": "sY5-XXq2KXMx",
        "colab_type": "text"
      },
      "source": [
        "PROBLEM 5"
      ]
    },
    {
      "cell_type": "code",
      "metadata": {
        "id": "7nI7SqYyKa9Z",
        "colab_type": "code",
        "colab": {}
      },
      "source": [
        "for col in fill_list:\n",
        "  ed2[col]=ed2.groupby(['YEAR'])[col].apply(lambda x: x.fillna(x.interpolate(limit_direction='both')))"
      ],
      "execution_count": 0,
      "outputs": []
    },
    {
      "cell_type": "code",
      "metadata": {
        "id": "KEsqM6U2EaMY",
        "colab_type": "code",
        "colab": {}
      },
      "source": [
        "#for col in fill_list2:\n",
        "  #print(\"Statistics for columns: {}\".format(col))\n",
        "  #print(pd.concat([ed0[col],ed[col], ed1[col],\n",
        "  #ed2[col]], axis=1).describe())"
      ],
      "execution_count": 0,
      "outputs": []
    },
    {
      "cell_type": "markdown",
      "metadata": {
        "id": "qcEm4jyF1VMt",
        "colab_type": "text"
      },
      "source": [
        "//////////////////////////////////////////////////////////////////////////////////////////////////////////////////////////////////////////////"
      ]
    },
    {
      "cell_type": "markdown",
      "metadata": {
        "id": "D01glblC1OGj",
        "colab_type": "text"
      },
      "source": [
        "START SECTION 14.4 PROBLEM SET"
      ]
    },
    {
      "cell_type": "markdown",
      "metadata": {
        "id": "8fCUQQgO1ZWM",
        "colab_type": "text"
      },
      "source": [
        "1 - Consider the two variables: TOTAL_REVENUE and TOTAL_EXPENDITURE.\n",
        "\n",
        " Do these variables have outlier values?"
      ]
    },
    {
      "cell_type": "markdown",
      "metadata": {
        "id": "U8fMWdlPnQ_V",
        "colab_type": "text"
      },
      "source": [
        ""
      ]
    },
    {
      "cell_type": "code",
      "metadata": {
        "id": "VteWtmFX1T8w",
        "colab_type": "code",
        "outputId": "028e5c65-a231-499d-95b4-d96959ad2760",
        "colab": {
          "base_uri": "https://localhost:8080/",
          "height": 278
        }
      },
      "source": [
        "plt.hist(ed2['TOTAL_REVENUE'],bins=50)\n",
        "plt.show()"
      ],
      "execution_count": 51,
      "outputs": [
        {
          "output_type": "display_data",
          "data": {
            "image/png": "[encoded data removed]",
            "text/plain": [
              "<Figure size 432x288 with 1 Axes>"
            ]
          },
          "metadata": {
            "tags": []
          }
        }
      ]
    },
    {
      "cell_type": "code",
      "metadata": {
        "id": "5dnNZYNI2GqB",
        "colab_type": "code",
        "outputId": "f0e7c831-7f2a-4cfc-ba55-9fdf981c1f94",
        "colab": {
          "base_uri": "https://localhost:8080/",
          "height": 278
        }
      },
      "source": [
        "plt.hist(ed2['TOTAL_EXPENDITURE'],bins=50)\n",
        "plt.show()"
      ],
      "execution_count": 52,
      "outputs": [
        {
          "output_type": "display_data",
          "data": {
            "image/png": "[encoded data removed]",
            "text/plain": [
              "<Figure size 432x288 with 1 Axes>"
            ]
          },
          "metadata": {
            "tags": []
          }
        }
      ]
    },
    {
      "cell_type": "markdown",
      "metadata": {
        "id": "bSdZe54J2lE5",
        "colab_type": "text"
      },
      "source": [
        "BASED ON HISTOGRAMS THERE ARE OUTLIERS\n",
        "\n",
        "LET'S EXPLORE FURTHER"
      ]
    },
    {
      "cell_type": "code",
      "metadata": {
        "id": "hzIXE9r12wX5",
        "colab_type": "code",
        "outputId": "91ea3601-6626-49ec-9d63-244efa554565",
        "colab": {
          "base_uri": "https://localhost:8080/",
          "height": 281
        }
      },
      "source": [
        "plt.boxplot(ed2[\"TOTAL_REVENUE\"],whis=1.5)\n",
        "plt.title(\"Box plot of TOTAL REVENUE (whis=1.5)\")\n",
        "plt.show()"
      ],
      "execution_count": 53,
      "outputs": [
        {
          "output_type": "display_data",
          "data": {
            "image/png": "[encoded data removed]",
            "text/plain": [
              "<Figure size 432x288 with 1 Axes>"
            ]
          },
          "metadata": {
            "tags": []
          }
        }
      ]
    },
    {
      "cell_type": "code",
      "metadata": {
        "id": "UO2HyaOezRUI",
        "colab_type": "code",
        "outputId": "b111fd0a-7245-4b65-fb66-96a6fee9bcc2",
        "colab": {
          "base_uri": "https://localhost:8080/",
          "height": 281
        }
      },
      "source": [
        "plt.boxplot(ed2[\"TOTAL_EXPENDITURE\"],whis=1.5)\n",
        "plt.title(\"Box plot of TOTAL_EXPENDITURE (whis=1.5)\")\n",
        "plt.show()"
      ],
      "execution_count": 54,
      "outputs": [
        {
          "output_type": "display_data",
          "data": {
            "image/png": "[encoded data removed]",
            "text/plain": [
              "<Figure size 432x288 with 1 Axes>"
            ]
          },
          "metadata": {
            "tags": []
          }
        }
      ]
    },
    {
      "cell_type": "code",
      "metadata": {
        "id": "ogLYlGIt6P5R",
        "colab_type": "code",
        "outputId": "63774687-2ceb-4036-e3ca-1e163fe90c7b",
        "colab": {
          "base_uri": "https://localhost:8080/",
          "height": 281
        }
      },
      "source": [
        "plt.boxplot(ed2[\"TOTAL_REVENUE\"],whis=3)\n",
        "plt.title(\"Box plot of TOTAL REVENUE (whis=3)\")\n",
        "plt.show()"
      ],
      "execution_count": 55,
      "outputs": [
        {
          "output_type": "display_data",
          "data": {
            "image/png": "[encoded data removed]",
            "text/plain": [
              "<Figure size 432x288 with 1 Axes>"
            ]
          },
          "metadata": {
            "tags": []
          }
        }
      ]
    },
    {
      "cell_type": "code",
      "metadata": {
        "id": "ceApgXnYzqqc",
        "colab_type": "code",
        "outputId": "4bddf52b-2478-4b77-8021-1f015e2c4165",
        "colab": {
          "base_uri": "https://localhost:8080/",
          "height": 281
        }
      },
      "source": [
        "plt.boxplot(ed2[\"TOTAL_EXPENDITURE\"],whis=3.0)\n",
        "plt.title(\"Box plot of TOTAL_EXPENDITURE (whis=3.0)\")\n",
        "plt.show()"
      ],
      "execution_count": 56,
      "outputs": [
        {
          "output_type": "display_data",
          "data": {
            "image/png": "[encoded data removed]",
            "text/plain": [
              "<Figure size 432x288 with 1 Axes>"
            ]
          },
          "metadata": {
            "tags": []
          }
        }
      ]
    },
    {
      "cell_type": "markdown",
      "metadata": {
        "id": "KGsDseZUwGOK",
        "colab_type": "text"
      },
      "source": [
        "Z SCORE"
      ]
    },
    {
      "cell_type": "code",
      "metadata": {
        "id": "AAJVpjizuhzB",
        "colab_type": "code",
        "outputId": "dcc3d1d0-92e8-493d-c979-900e7d24cd96",
        "colab": {
          "base_uri": "https://localhost:8080/",
          "height": 370
        }
      },
      "source": [
        "from scipy.stats import zscore\n",
        "\n",
        "z_scores = zscore(ed2[\"TOTAL_REVENUE\"])\n",
        "for threshold in range(1,5):\n",
        "    print(\"The score threshold is: {}\".format(threshold))\n",
        "    print(\"The indices of the outliers:\")\n",
        "    print(np.where(z_scores > threshold))\n",
        "    print(\"Number of outliers is: {}\".format(len((np.where(z_scores > threshold)[0]))))"
      ],
      "execution_count": 57,
      "outputs": [
        {
          "output_type": "stream",
          "text": [
            "The score threshold is: 1\n",
            "The indices of the outliers:\n",
            "(array([  3,  28,  54,  63,  92, 103, 115, 143, 154, 166, 171, 192, 194,\n",
            "       200, 205, 217, 223, 227, 245, 247, 253, 258, 270, 275, 279, 296,\n",
            "       298, 304, 309, 323, 332, 349, 351, 357, 362, 374, 379, 383, 400,\n",
            "       402, 408, 413]),)\n",
            "Number of outliers is: 42\n",
            "The score threshold is: 2\n",
            "The indices of the outliers:\n",
            "(array([ 28,  63,  92, 115, 143, 154, 166, 194, 205, 217, 247, 258, 270,\n",
            "       298, 309, 323, 351, 362, 374, 402, 413]),)\n",
            "Number of outliers is: 21\n",
            "The score threshold is: 3\n",
            "The indices of the outliers:\n",
            "(array([ 63, 115, 166, 194, 217, 247, 270, 298, 309, 323, 351, 374, 402,\n",
            "       413]),)\n",
            "Number of outliers is: 14\n",
            "The score threshold is: 4\n",
            "The indices of the outliers:\n",
            "(array([166, 217, 270, 323, 374, 402]),)\n",
            "Number of outliers is: 6\n"
          ],
          "name": "stdout"
        }
      ]
    },
    {
      "cell_type": "markdown",
      "metadata": {
        "id": "cvydxJoKvRQB",
        "colab_type": "text"
      },
      "source": [
        "TUKEY'S METHOD -- also known as the Interquartile Range (IQR) method"
      ]
    },
    {
      "cell_type": "code",
      "metadata": {
        "id": "hHCH3AnRvej8",
        "colab_type": "code",
        "outputId": "9b76c0b1-5aab-4de2-8baf-c88599e244e7",
        "colab": {
          "base_uri": "https://localhost:8080/",
          "height": 286
        }
      },
      "source": [
        "# NumPy's percentile() method returns the \n",
        "# values of the given percentiles. In our case,\n",
        "# we give 75 and 25 as parameters which corresponds \n",
        "# to the third and the first quartile.\n",
        "q75, q25 = np.percentile(ed2[\"TOTAL_REVENUE\"], [75 ,25])\n",
        "iqr = q75 - q25\n",
        "\n",
        "for threshold in np.arange(1,5,0.5):\n",
        "    min_val = q25 - (iqr*threshold)\n",
        "    max_val = q75 + (iqr*threshold)\n",
        "    print(\"The score threshold is: {}\".format(threshold))\n",
        "    print(\"Number of outliers is: {}\".format(\n",
        "        len((np.where((ed2[\"TOTAL_REVENUE\"] > max_val) \n",
        "                      | (ed2[\"TOTAL_REVENUE\"] < min_val))[0]))\n",
        "    ))"
      ],
      "execution_count": 58,
      "outputs": [
        {
          "output_type": "stream",
          "text": [
            "The score threshold is: 1.0\n",
            "Number of outliers is: 22\n",
            "The score threshold is: 1.5\n",
            "Number of outliers is: 19\n",
            "The score threshold is: 2.0\n",
            "Number of outliers is: 16\n",
            "The score threshold is: 2.5\n",
            "Number of outliers is: 12\n",
            "The score threshold is: 3.0\n",
            "Number of outliers is: 7\n",
            "The score threshold is: 3.5\n",
            "Number of outliers is: 4\n",
            "The score threshold is: 4.0\n",
            "Number of outliers is: 1\n",
            "The score threshold is: 4.5\n",
            "Number of outliers is: 0\n"
          ],
          "name": "stdout"
        }
      ]
    },
    {
      "cell_type": "markdown",
      "metadata": {
        "id": "OsNG6AGuwcpS",
        "colab_type": "text"
      },
      "source": [
        "2 - If you detect outliers in the TOTAL_REVENUE and TOTAL_EXPENDITURE variables,\n",
        "\n",
        " apply the techniques you learned in this checkpoint to eliminate them and validate that there's no outlier values after you handled them."
      ]
    },
    {
      "cell_type": "markdown",
      "metadata": {
        "id": "S0tWMChLxvZn",
        "colab_type": "text"
      },
      "source": [
        "WINSORIZATION"
      ]
    },
    {
      "cell_type": "code",
      "metadata": {
        "id": "pm8mziidwi8C",
        "colab_type": "code",
        "outputId": "ce412cf5-a71d-462a-e06e-b379c4b05d0b",
        "colab": {
          "base_uri": "https://localhost:8080/",
          "height": 229
        }
      },
      "source": [
        "from scipy.stats.mstats import winsorize\n",
        "\n",
        "# We apply one-way winsorization to the highest end\n",
        "# of the value distribution. As we have a lot of extreme\n",
        "# values, we set the values of the outliers to the \n",
        "# value of the 90th percentile. \n",
        "winsorized_views = winsorize(ed2[\"TOTAL_REVENUE\"], (0, 0.10))\n",
        "winsorized_views2 = winsorize(ed2[\"TOTAL_EXPENDITURE\"], (0, 0.10))\n",
        "winsorized_views"
      ],
      "execution_count": 85,
      "outputs": [
        {
          "output_type": "error",
          "ename": "TypeError",
          "evalue": "ignored",
          "traceback": [
            "\u001b[0;31m---------------------------------------------------------------------------\u001b[0m",
            "\u001b[0;31mTypeError\u001b[0m                                 Traceback (most recent call last)",
            "\u001b[0;32m<ipython-input-85-5c03d23ef302>\u001b[0m in \u001b[0;36m<module>\u001b[0;34m()\u001b[0m\n\u001b[1;32m      5\u001b[0m \u001b[0;31m# values, we set the values of the outliers to the\u001b[0m\u001b[0;34m\u001b[0m\u001b[0;34m\u001b[0m\u001b[0;34m\u001b[0m\u001b[0m\n\u001b[1;32m      6\u001b[0m \u001b[0;31m# value of the 90th percentile.\u001b[0m\u001b[0;34m\u001b[0m\u001b[0;34m\u001b[0m\u001b[0;34m\u001b[0m\u001b[0m\n\u001b[0;32m----> 7\u001b[0;31m \u001b[0mwinsorized_views\u001b[0m \u001b[0;34m=\u001b[0m \u001b[0mwinsorize\u001b[0m\u001b[0;34m(\u001b[0m\u001b[0med2\u001b[0m\u001b[0;34m[\u001b[0m\u001b[0;34m\"TOTAL_REVENUE\"\u001b[0m\u001b[0;34m]\u001b[0m\u001b[0;34m,\u001b[0m \u001b[0;34m(\u001b[0m\u001b[0;36m0\u001b[0m\u001b[0;34m,\u001b[0m \u001b[0;36m0.10\u001b[0m\u001b[0;34m)\u001b[0m\u001b[0;34m,\u001b[0m\u001b[0mmask\u001b[0m\u001b[0;34m=\u001b[0m\u001b[0;32mTrue\u001b[0m\u001b[0;34m)\u001b[0m\u001b[0;34m\u001b[0m\u001b[0;34m\u001b[0m\u001b[0m\n\u001b[0m\u001b[1;32m      8\u001b[0m \u001b[0mwinsorized_views2\u001b[0m \u001b[0;34m=\u001b[0m \u001b[0mwinsorize\u001b[0m\u001b[0;34m(\u001b[0m\u001b[0med2\u001b[0m\u001b[0;34m[\u001b[0m\u001b[0;34m\"TOTAL_EXPENDITURE\"\u001b[0m\u001b[0;34m]\u001b[0m\u001b[0;34m,\u001b[0m \u001b[0;34m(\u001b[0m\u001b[0;36m0\u001b[0m\u001b[0;34m,\u001b[0m \u001b[0;36m0.10\u001b[0m\u001b[0;34m)\u001b[0m\u001b[0;34m)\u001b[0m\u001b[0;34m\u001b[0m\u001b[0;34m\u001b[0m\u001b[0m\n\u001b[1;32m      9\u001b[0m \u001b[0mwinsorized_views\u001b[0m\u001b[0;34m\u001b[0m\u001b[0;34m\u001b[0m\u001b[0m\n",
            "\u001b[0;31mTypeError\u001b[0m: winsorize() got an unexpected keyword argument 'mask'"
          ]
        }
      ]
    },
    {
      "cell_type": "code",
      "metadata": {
        "id": "Fzkkoid2yO6S",
        "colab_type": "code",
        "outputId": "2a8debe6-de46-45ab-9bfe-69aa45c26d63",
        "colab": {
          "base_uri": "https://localhost:8080/",
          "height": 281
        }
      },
      "source": [
        "plt.boxplot(winsorized_views)\n",
        "plt.title(\"Box plot of Total Revenue(whis=1.5)\")\n",
        "plt.show()"
      ],
      "execution_count": 60,
      "outputs": [
        {
          "output_type": "display_data",
          "data": {
            "image/png": "[encoded data removed]",
            "text/plain": [
              "<Figure size 432x288 with 1 Axes>"
            ]
          },
          "metadata": {
            "tags": []
          }
        }
      ]
    },
    {
      "cell_type": "code",
      "metadata": {
        "id": "uNRilRe3u-_e",
        "colab_type": "code",
        "outputId": "c78992ea-ad23-4a64-fa28-6770dc8b8d68",
        "colab": {
          "base_uri": "https://localhost:8080/",
          "height": 1000
        }
      },
      "source": [
        "winsorized_views2"
      ],
      "execution_count": 61,
      "outputs": [
        {
          "output_type": "execute_result",
          "data": {
            "text/plain": [
              "masked_array(data=[ 3572283.,  4391555.,  2297381., 23352516.,  4075165.,\n",
              "                    4538234.,   703245., 13936240.,  1231550.,  3284185.,\n",
              "                    3826435.,  3815375.,  1465093.,  5825606.,  7479576.,\n",
              "                     924259.,  1642517.,  6517111.,  4284181., 22401797.,\n",
              "                    6903384.,  6578388.,  6521058.,   676305.,  8447882.,\n",
              "                    5003267.,  5397194.,  2683400., 23352516.,  5605280.,\n",
              "                     858807., 10884510.,  1363511.,  1467977.,  8518477.,\n",
              "                    3327090.,  4510972.,  4807097.,  1842276.,  7355698.,\n",
              "                    9466363.,  7736391.,  6708608.,  1051768.,  2165529.,\n",
              "                    2437438.,  2165031.,  9275837.,   802768., 14909952.,\n",
              "                    3876871.,  4398318.,  4961392.,  5805181., 23352516.,\n",
              "                    2478420.,  1193813.,  9154676.,  2243563.,  5298932.,\n",
              "                    1610289.,  6210287.,  3242799., 23352516.,  6685029.,\n",
              "                    6751815.,  1317447.,  1105963., 20180142., 13516783.,\n",
              "                    1602392.,  1726941., 21278177.,  9777720.,  4517990.,\n",
              "                    3818740.,  4700494.,  5515322.,  2154117.,  8732518.,\n",
              "                   10057458., 11382398., 19680370.,  8938770.,  3205193.,\n",
              "                    7905481.,  1214879.,  2623966.,  3009028.,  2122604.,\n",
              "                   19812932.,  2658140., 23352516.,  9989670.,   895278.,\n",
              "                   18760200.,  4376502.,  4978764., 20626459.,  1646238.,\n",
              "                    6024747.,   993823.,  6482671., 23352516.,  2957874.,\n",
              "                    1440961., 10746679.,  8802387.,  2524444.,  9128279.,\n",
              "                     915515.,  5904664.,  1751718.,  7136794.,  3999608.,\n",
              "                   23352516.,  7284280.,  7452057.,  1480157.,  1085658.,\n",
              "                   23352516., 14492666.,  1765805.,  1819519., 22035569.,\n",
              "                   11071431.,  4599549.,  4076597.,  5750671.,  5941561.,\n",
              "                    2325138.,  9782665., 12726283., 20489512.,  9082593.,\n",
              "                    3610904.,  8170965.,  1268328.,  2708776.,  3483540.,\n",
              "                    2333264., 23023365.,  3011696., 23352516., 10917913.,\n",
              "                     985502., 19785561.,  4785987.,  5597579., 23183924.,\n",
              "                    1790591.,  6572191.,  1059303.,  7067521., 23352516.,\n",
              "                    3188018.,  1634534., 12385157.,  9399603.,  2698703.,\n",
              "                    9433502.,  1033603.,  7196459.,  1938755.,  8709531.,\n",
              "                    4779308., 23352516.,  8039146.,  8685421.,  1705204.,\n",
              "                    1140506., 23352516., 17389530.,  2199604.,  1960472.,\n",
              "                   23352516., 11462062.,  5198975.,  4823931.,  6351636.,\n",
              "                    6657341.,  2501127., 11541225., 14315518., 19839838.,\n",
              "                   10030105.,  4158733.,  9245525.,  1442434.,  3117931.,\n",
              "                    4346371.,  2608190., 23352516.,  3279467., 23352516.,\n",
              "                   12794086.,  1042175., 21336580.,  5505213.,  5634955.,\n",
              "                   23352516.,  2082332.,  7660995.,  1096568.,  7817659.,\n",
              "                   23352516.,  3618540.,  1804519., 14700853., 10682397.,\n",
              "                    2983267.,  9988878.,  1390344.,  7815467.,  2396412.,\n",
              "                    9580393.,  5017352., 23352516.,  8682489.,  9323053.,\n",
              "                    1798244.,   805362.,   805362., 23352516., 19025136.,\n",
              "                    2318671.,  2078446., 23352516., 11218398.,  5732186.,\n",
              "                    5827751.,  6831006.,  8053960.,  2624504., 12757599.,\n",
              "                   15174814., 19992550., 11193640.,  4552756., 10227305.,\n",
              "                    1622485.,  3523803.,  4050842.,  4577881.,  2757401.,\n",
              "                   23352516.,  3945515., 23352516., 14868070.,  1137260.,\n",
              "                   22427481.,  5941799.,  6715011., 23352516.,  2171376.,\n",
              "                    8427391.,  1273527.,  8611178., 23352516.,  4419750.,\n",
              "                    1661019., 15510318., 12240632.,  3121728., 10880480.,\n",
              "                    1658156.,  7411768.,  2443898.,  8610417.,  5669431.,\n",
              "                   23352516.,  8676451.,  9439182.,  1808905.,  1297175.,\n",
              "                   23352516., 17187481.,  2259104.,  1960818., 23352516.,\n",
              "                   11113533.,  6057294.,  5662146.,  7253850.,  8218870.,\n",
              "                    2728535., 13247697., 15150898., 18469948., 10612480.,\n",
              "                    4345783.,  9842505.,  1655584.,  3676326.,  4258855.,\n",
              "                    3001244., 23352516.,  3694437., 23352516., 13767024.,\n",
              "                    1312226., 23010396.,  5644988.,  6317635., 23352516.,\n",
              "                    2198940.,  7961448.,  1350617.,  8961443., 23352516.,\n",
              "                    4195916.,  1722515., 14675815., 11928408.,  3670119.,\n",
              "                   11440718.,  1656850.,  8804416.,  7487741.,  5076837.,\n",
              "                    2665933.,  7600581.,  5226339., 23352516.,  8699125.,\n",
              "                    9758850.,  1924626.,  1308438., 23352516., 17317504.,\n",
              "                    2345917.,  1967676., 23352516., 11211155.,  6318241.,\n",
              "                    5621023.,  7413896.,  7940880.,  2535405., 13284637.,\n",
              "                   16201905., 17468264., 10942019.,  4370050., 10001763.,\n",
              "                    1679521.,  3913038.,  4057443.,  2878534., 23352516.,\n",
              "                    3536546., 23352516., 13650536.,  1516575., 22015797.,\n",
              "                    5796945.,  6228197., 23352516.,  2231413.,  8224795.,\n",
              "                    1332496.,  9248235., 23352516.,  4584624.,  1809138.,\n",
              "                   15634918., 12097549.,  3488877., 10845059.,  1675477.,\n",
              "                    7501799.,  2968341.,  7902600.,  5350543., 23352516.,\n",
              "                    9557682., 10542667.,  1975093.,  1360942., 23352516.,\n",
              "                   18501103.,  2521004.,  2029520., 23352516., 11378564.,\n",
              "                    6772654.,  6175724.,  7554887.,  8437263.,  2596180.,\n",
              "                   13882823., 16972319., 17742903., 11969872.,  4624539.,\n",
              "                   10540353.,  1804841.,  4283846.,  4183085.,  3044720.,\n",
              "                   23352516.,  3846641., 23352516., 14060699.,  1804762.,\n",
              "                   22561728.,  6184819.,  7011609., 23352516.,  2326473.,\n",
              "                    8783362.,  1464781.,  9562527., 23352516.,  4537962.,\n",
              "                    1969415., 16113212., 13630138.,  3466981., 11553677.,\n",
              "                    1942406., 23352516., 23352516., 23352516., 23352516.,\n",
              "                   23352516., 23352516., 23352516., 23352516., 23352516.,\n",
              "                   23352516., 23352516., 23352516., 23352516., 23352516.,\n",
              "                   23352516., 23352516., 23352516., 23352516., 23352516.,\n",
              "                   23352516., 23352516., 23352516., 23352516., 23352516.,\n",
              "                   23352516., 23352516., 23352516., 23352516., 23352516.,\n",
              "                   23352516., 23352516., 23352516., 23352516., 23352516.,\n",
              "                   23352516., 23352516., 23352516., 23352516., 23352516.,\n",
              "                   23352516., 23352516., 23352516., 23352516., 23352516.,\n",
              "                   23352516., 23352516.],\n",
              "             mask=False,\n",
              "       fill_value=1e+20)"
            ]
          },
          "metadata": {
            "tags": []
          },
          "execution_count": 61
        }
      ]
    },
    {
      "cell_type": "code",
      "metadata": {
        "id": "r5hrrL0evFJ2",
        "colab_type": "code",
        "outputId": "1431d6e3-842b-4222-977c-49524f0dddf2",
        "colab": {
          "base_uri": "https://localhost:8080/",
          "height": 281
        }
      },
      "source": [
        "plt.boxplot(winsorized_views2)\n",
        "plt.title(\"Box plot of Total Expenditure(whis=1.5)\")\n",
        "plt.show()"
      ],
      "execution_count": 62,
      "outputs": [
        {
          "output_type": "display_data",
          "data": {
            "image/png": "[encoded data removed]",
            "text/plain": [
              "<Figure size 432x288 with 1 Axes>"
            ]
          },
          "metadata": {
            "tags": []
          }
        }
      ]
    },
    {
      "cell_type": "markdown",
      "metadata": {
        "id": "i2h4uMqJylZC",
        "colab_type": "text"
      },
      "source": [
        " LOG TRANSFORMATIONS"
      ]
    },
    {
      "cell_type": "code",
      "metadata": {
        "id": "5NOyqb5dynKX",
        "colab_type": "code",
        "outputId": "e422c33e-62d9-43e4-d873-ece235ad2931",
        "colab": {
          "base_uri": "https://localhost:8080/",
          "height": 349
        }
      },
      "source": [
        "plt.figure(figsize = (15,5))\n",
        "\n",
        "plt.subplot(1,2,1)\n",
        "plt.hist(ed2[\"TOTAL_REVENUE\"])\n",
        "plt.title(\"Histogram of Total Revenue\")\n",
        "\n",
        "plt.subplot(1,2,2)\n",
        "plt.hist(np.log(ed2[\"TOTAL_REVENUE\"]))\n",
        "plt.title(\"Histogram of log transformed Total Revenue\")\n",
        "plt.show()"
      ],
      "execution_count": 63,
      "outputs": [
        {
          "output_type": "display_data",
          "data": {
            "image/png": "[encoded data removed]",
            "text/plain": [
              "<Figure size 1080x360 with 2 Axes>"
            ]
          },
          "metadata": {
            "tags": []
          }
        }
      ]
    },
    {
      "cell_type": "markdown",
      "metadata": {
        "id": "J7dH2aMQ0gnO",
        "colab_type": "text"
      },
      "source": [
        "Let's look at the box plots of the original variable and its log transformed variant to see whether log transformation has an effect on the outliers:"
      ]
    },
    {
      "cell_type": "code",
      "metadata": {
        "id": "pVgzStXC0F_i",
        "colab_type": "code",
        "outputId": "5cf72c94-253e-45b2-829f-31bc14ae9c2b",
        "colab": {
          "base_uri": "https://localhost:8080/",
          "height": 336
        }
      },
      "source": [
        "plt.figure(figsize = (15,5))\n",
        "\n",
        "plt.subplot(1,2,1)\n",
        "plt.boxplot(ed2[\"TOTAL_REVENUE\"])\n",
        "plt.title(\"Box plot of TOTAL_REVENUE\")\n",
        "\n",
        "plt.subplot(1,2,2)\n",
        "plt.boxplot(np.log(ed2[\"TOTAL_REVENUE\"]))\n",
        "plt.title(\"Box plot of log transformed TOTAL_REVENUE\")\n",
        "plt.show()"
      ],
      "execution_count": 64,
      "outputs": [
        {
          "output_type": "display_data",
          "data": {
            "image/png": "[encoded data removed]",
            "text/plain": [
              "<Figure size 1080x360 with 2 Axes>"
            ]
          },
          "metadata": {
            "tags": []
          }
        }
      ]
    },
    {
      "cell_type": "markdown",
      "metadata": {
        "id": "-wpXbhELwr4T",
        "colab_type": "text"
      },
      "source": [
        "TUKEY'S"
      ]
    },
    {
      "cell_type": "code",
      "metadata": {
        "id": "iDu54JI00041",
        "colab_type": "code",
        "outputId": "0065b12f-de12-4dd5-9daf-eec54bbd3577",
        "colab": {
          "base_uri": "https://localhost:8080/",
          "height": 286
        }
      },
      "source": [
        "q75, q25 = np.percentile(ed2[\"TOTAL_REVENUE\"], [75 ,25])\n",
        "iqr = q75 - q25\n",
        "\n",
        "for threshold in np.arange(1,5,0.5):\n",
        "    min_val = q25 - (iqr*threshold)\n",
        "    max_val = q75 + (iqr*threshold)\n",
        "    print(\"The score threshold is: {}\".format(threshold))\n",
        "    print(\"Number of outliers is: {}\".format(\n",
        "        len((np.where((ed2[\"TOTAL_REVENUE\"] > max_val) \n",
        "                      | (ed2[\"TOTAL_REVENUE\"] < min_val))[0]))\n",
        "    ))"
      ],
      "execution_count": 27,
      "outputs": [
        {
          "output_type": "stream",
          "text": [
            "The score threshold is: 1.0\n",
            "Number of outliers is: 50\n",
            "The score threshold is: 1.5\n",
            "Number of outliers is: 40\n",
            "The score threshold is: 2.0\n",
            "Number of outliers is: 33\n",
            "The score threshold is: 2.5\n",
            "Number of outliers is: 21\n",
            "The score threshold is: 3.0\n",
            "Number of outliers is: 12\n",
            "The score threshold is: 3.5\n",
            "Number of outliers is: 6\n",
            "The score threshold is: 4.0\n",
            "Number of outliers is: 1\n",
            "The score threshold is: 4.5\n",
            "Number of outliers is: 1\n"
          ],
          "name": "stdout"
        }
      ]
    },
    {
      "cell_type": "markdown",
      "metadata": {
        "id": "hvTqs5lcvv_M",
        "colab_type": "text"
      },
      "source": [
        "NOW REPEAT FOR TOTAL EXPENDITURES"
      ]
    },
    {
      "cell_type": "code",
      "metadata": {
        "id": "4ckEO6hBv8E0",
        "colab_type": "code",
        "outputId": "f8dd06e3-82e2-415b-d639-909b2fe9e2df",
        "colab": {
          "base_uri": "https://localhost:8080/",
          "height": 349
        }
      },
      "source": [
        "plt.figure(figsize = (15,5))\n",
        "\n",
        "plt.subplot(1,2,1)\n",
        "plt.hist(ed2[\"TOTAL_EXPENDITURE\"])\n",
        "plt.title(\"Histogram of Total Expenditure\")\n",
        "\n",
        "plt.subplot(1,2,2)\n",
        "plt.hist(np.log(ed2[\"TOTAL_REVENUE\"]))\n",
        "plt.title(\"Histogram of log transformed Total Expenditure\")\n",
        "plt.show()"
      ],
      "execution_count": 65,
      "outputs": [
        {
          "output_type": "display_data",
          "data": {
            "image/png": "[encoded data removed]",
            "text/plain": [
              "<Figure size 1080x360 with 2 Axes>"
            ]
          },
          "metadata": {
            "tags": []
          }
        }
      ]
    },
    {
      "cell_type": "code",
      "metadata": {
        "id": "0Kk89qY6wc1p",
        "colab_type": "code",
        "outputId": "74dcbf3a-41b0-4a2f-93e4-7570aff69908",
        "colab": {
          "base_uri": "https://localhost:8080/",
          "height": 336
        }
      },
      "source": [
        "plt.figure(figsize = (15,5))\n",
        "\n",
        "plt.subplot(1,2,1)\n",
        "plt.boxplot(ed2[\"TOTAL_EXPENDITURE\"])\n",
        "plt.title(\"Box plot of TOTAL_REVENUE\")\n",
        "\n",
        "plt.subplot(1,2,2)\n",
        "plt.boxplot(np.log(ed2[\"TOTAL_EXPENDITURE\"]))\n",
        "plt.title(\"Box plot of log transformed TOTAL_EXPENDITURE\")\n",
        "plt.show()"
      ],
      "execution_count": 66,
      "outputs": [
        {
          "output_type": "display_data",
          "data": {
            "image/png": "[encoded data removed]",
            "text/plain": [
              "<Figure size 1080x360 with 2 Axes>"
            ]
          },
          "metadata": {
            "tags": []
          }
        }
      ]
    },
    {
      "cell_type": "markdown",
      "metadata": {
        "id": "ybFvBKLsw4ik",
        "colab_type": "text"
      },
      "source": [
        "TUKEY'S"
      ]
    },
    {
      "cell_type": "code",
      "metadata": {
        "id": "N4v7DpkPxAP3",
        "colab_type": "code",
        "outputId": "8f345253-5460-42e4-bfdb-3dad5dd80920",
        "colab": {
          "base_uri": "https://localhost:8080/",
          "height": 286
        }
      },
      "source": [
        "q75, q25 = np.percentile(ed2[\"TOTAL_EXPENDITURE\"], [75 ,25])\n",
        "iqr = q75 - q25\n",
        "\n",
        "for threshold in np.arange(1,5,0.5):\n",
        "    min_val = q25 - (iqr*threshold)\n",
        "    max_val = q75 + (iqr*threshold)\n",
        "    print(\"The score threshold is: {}\".format(threshold))\n",
        "    print(\"Number of outliers is: {}\".format(\n",
        "        len((np.where((ed2[\"TOTAL_EXPENDITURE\"] > max_val) \n",
        "                      | (ed2[\"TOTAL_EXPENDITURE\"] < min_val))[0]))\n",
        "    ))"
      ],
      "execution_count": 67,
      "outputs": [
        {
          "output_type": "stream",
          "text": [
            "The score threshold is: 1.0\n",
            "Number of outliers is: 24\n",
            "The score threshold is: 1.5\n",
            "Number of outliers is: 21\n",
            "The score threshold is: 2.0\n",
            "Number of outliers is: 18\n",
            "The score threshold is: 2.5\n",
            "Number of outliers is: 13\n",
            "The score threshold is: 3.0\n",
            "Number of outliers is: 8\n",
            "The score threshold is: 3.5\n",
            "Number of outliers is: 5\n",
            "The score threshold is: 4.0\n",
            "Number of outliers is: 2\n",
            "The score threshold is: 4.5\n",
            "Number of outliers is: 0\n"
          ],
          "name": "stdout"
        }
      ]
    },
    {
      "cell_type": "code",
      "metadata": {
        "id": "Bs3n8r2fX4Hn",
        "colab_type": "code",
        "outputId": "e83c8bcc-810c-4eba-e514-c3cf0f3f9f3e",
        "colab": {
          "base_uri": "https://localhost:8080/",
          "height": 218
        }
      },
      "source": [
        "ed2['TOTAL_EXPENDITURE'].isnull()"
      ],
      "execution_count": 31,
      "outputs": [
        {
          "output_type": "execute_result",
          "data": {
            "text/plain": [
              "0       False\n",
              "1       False\n",
              "2       False\n",
              "3       False\n",
              "4       False\n",
              "        ...  \n",
              "1487    False\n",
              "1488    False\n",
              "1489    False\n",
              "1490    False\n",
              "1491    False\n",
              "Name: TOTAL_EXPENDITURE, Length: 1492, dtype: bool"
            ]
          },
          "metadata": {
            "tags": []
          },
          "execution_count": 31
        }
      ]
    },
    {
      "cell_type": "code",
      "metadata": {
        "id": "PpDa4Y41XpyL",
        "colab_type": "code",
        "outputId": "d4f6f684-f46d-487c-c148-d31a79af953b",
        "colab": {
          "base_uri": "https://localhost:8080/",
          "height": 34
        }
      },
      "source": [
        "ed2['TOTAL_EXPENDITURE'].isnull().sum()"
      ],
      "execution_count": 68,
      "outputs": [
        {
          "output_type": "execute_result",
          "data": {
            "text/plain": [
              "0"
            ]
          },
          "metadata": {
            "tags": []
          },
          "execution_count": 68
        }
      ]
    },
    {
      "cell_type": "markdown",
      "metadata": {
        "id": "OLzZbGXKxlsw",
        "colab_type": "text"
      },
      "source": [
        "3- Create another variable by subtracting the original TOTAL_EXPENDITURE from TOTAL_REVENUE (before you eliminated the outliers).\n",
        "\n",
        " You can think of it as a kind of budget deficit in education.\n",
        " \n",
        "  Do you find any outlier values in this new variable? \n",
        "  \n",
        "  If so, eliminate them using the technique you think most suitable."
      ]
    },
    {
      "cell_type": "code",
      "metadata": {
        "id": "9h56WkuLxq1g",
        "colab_type": "code",
        "colab": {}
      },
      "source": [
        "ed2['TOTAL_DIFF']=ed2['TOTAL_REVENUE']-ed2['TOTAL_EXPENDITURE']"
      ],
      "execution_count": 0,
      "outputs": []
    },
    {
      "cell_type": "code",
      "metadata": {
        "id": "C2bJRhbtyCBS",
        "colab_type": "code",
        "outputId": "383a5044-cc03-4b5b-daa8-53896afde055",
        "colab": {
          "base_uri": "https://localhost:8080/",
          "height": 118
        }
      },
      "source": [
        "ed2['TOTAL_DIFF'].head()"
      ],
      "execution_count": 70,
      "outputs": [
        {
          "output_type": "execute_result",
          "data": {
            "text/plain": [
              "209   -207170.0\n",
              "211   -248251.0\n",
              "212   -113997.0\n",
              "213   -278711.0\n",
              "214   -183962.0\n",
              "Name: TOTAL_DIFF, dtype: float64"
            ]
          },
          "metadata": {
            "tags": []
          },
          "execution_count": 70
        }
      ]
    },
    {
      "cell_type": "code",
      "metadata": {
        "id": "EWrhwF0Ey9ej",
        "colab_type": "code",
        "outputId": "8c0bd74f-e4ac-4b7c-b7dc-fafd01d8fda9",
        "colab": {
          "base_uri": "https://localhost:8080/",
          "height": 265
        }
      },
      "source": [
        "plt.hist(ed2['TOTAL_DIFF'],bins=50)\n",
        "plt.show()"
      ],
      "execution_count": 35,
      "outputs": [
        {
          "output_type": "display_data",
          "data": {
            "image/png": "[encoded data removed]",
            "text/plain": [
              "<Figure size 432x288 with 1 Axes>"
            ]
          },
          "metadata": {
            "tags": []
          }
        }
      ]
    },
    {
      "cell_type": "code",
      "metadata": {
        "id": "N4KxA7AlzKlc",
        "colab_type": "code",
        "outputId": "29972da6-3b87-409c-97f0-4da9bcd50490",
        "colab": {
          "base_uri": "https://localhost:8080/",
          "height": 281
        }
      },
      "source": [
        "plt.boxplot(ed2[\"TOTAL_DIFF\"],whis=1.5)\n",
        "plt.title(\"Box plot of TOTAL DIFF(whis=1.5)\")\n",
        "plt.show()"
      ],
      "execution_count": 71,
      "outputs": [
        {
          "output_type": "display_data",
          "data": {
            "image/png": "[encoded data removed]",
            "text/plain": [
              "<Figure size 432x288 with 1 Axes>"
            ]
          },
          "metadata": {
            "tags": []
          }
        }
      ]
    },
    {
      "cell_type": "code",
      "metadata": {
        "id": "gP280W3SzTRs",
        "colab_type": "code",
        "outputId": "016197b8-cd08-455a-ebc2-8ff57ffa257a",
        "colab": {
          "base_uri": "https://localhost:8080/",
          "height": 281
        }
      },
      "source": [
        "plt.boxplot(ed2[\"TOTAL_DIFF\"],whis=5.0)\n",
        "plt.title(\"Box plot of TOTAL DIFF(whis=5.0)\")\n",
        "plt.show()"
      ],
      "execution_count": 72,
      "outputs": [
        {
          "output_type": "display_data",
          "data": {
            "image/png": "[encoded data removed]",
            "text/plain": [
              "<Figure size 432x288 with 1 Axes>"
            ]
          },
          "metadata": {
            "tags": []
          }
        }
      ]
    },
    {
      "cell_type": "markdown",
      "metadata": {
        "id": "SfPE9FKU127w",
        "colab_type": "text"
      },
      "source": [
        "Z SCORE"
      ]
    },
    {
      "cell_type": "code",
      "metadata": {
        "id": "jSpZsxnE14zP",
        "colab_type": "code",
        "outputId": "adf16332-ebec-4edb-cba6-f77902af6862",
        "colab": {
          "base_uri": "https://localhost:8080/",
          "height": 302
        }
      },
      "source": [
        "from scipy.stats import zscore\n",
        "\n",
        "z_scores = zscore(ed2[\"TOTAL_DIFF\"])\n",
        "for threshold in range(1,5):\n",
        "    print(\"The score threshold is: {}\".format(threshold))\n",
        "    print(\"The indices of the outliers:\")\n",
        "    print(np.where(z_scores > threshold))\n",
        "    print(\"Number of outliers is: {}\".format(len((np.where(z_scores > threshold)[0]))))"
      ],
      "execution_count": 73,
      "outputs": [
        {
          "output_type": "stream",
          "text": [
            "The score threshold is: 1\n",
            "The indices of the outliers:\n",
            "(array([ 28, 125, 173, 184, 197, 228, 248, 270, 276, 279, 280, 288, 299,\n",
            "       321, 325, 332, 333, 341, 376, 384, 390, 392, 405]),)\n",
            "Number of outliers is: 23\n",
            "The score threshold is: 2\n",
            "The indices of the outliers:\n",
            "(array([228, 392, 405]),)\n",
            "Number of outliers is: 3\n",
            "The score threshold is: 3\n",
            "The indices of the outliers:\n",
            "(array([228, 405]),)\n",
            "Number of outliers is: 2\n",
            "The score threshold is: 4\n",
            "The indices of the outliers:\n",
            "(array([], dtype=int64),)\n",
            "Number of outliers is: 0\n"
          ],
          "name": "stdout"
        }
      ]
    },
    {
      "cell_type": "markdown",
      "metadata": {
        "id": "w5m_QIiczrNQ",
        "colab_type": "text"
      },
      "source": [
        "LOG TRANSFORMATION"
      ]
    },
    {
      "cell_type": "code",
      "metadata": {
        "id": "NE1PrLGXzuAs",
        "colab_type": "code",
        "outputId": "665b0de8-de41-42c6-89a7-dcaad6439e2b",
        "colab": {
          "base_uri": "https://localhost:8080/",
          "height": 437
        }
      },
      "source": [
        "plt.figure(figsize = (15,5))\n",
        "\n",
        "plt.subplot(1,2,1)\n",
        "plt.hist(ed2[\"TOTAL_DIFF\"])\n",
        "plt.title(\"Histogram of Total Diff\")\n",
        "\n",
        "plt.subplot(1,2,2)\n",
        "plt.hist(np.log(ed2[\"TOTAL_DIFF\"]))\n",
        "plt.title(\"Histogram of log transformed Total Diff\")\n",
        "plt.show()"
      ],
      "execution_count": 74,
      "outputs": [
        {
          "output_type": "stream",
          "text": [
            "/usr/local/lib/python3.6/dist-packages/pandas/core/series.py:856: RuntimeWarning: invalid value encountered in log\n",
            "  result = getattr(ufunc, method)(*inputs, **kwargs)\n",
            "/usr/local/lib/python3.6/dist-packages/numpy/lib/histograms.py:839: RuntimeWarning: invalid value encountered in greater_equal\n",
            "  keep = (tmp_a >= first_edge)\n",
            "/usr/local/lib/python3.6/dist-packages/numpy/lib/histograms.py:840: RuntimeWarning: invalid value encountered in less_equal\n",
            "  keep &= (tmp_a <= last_edge)\n"
          ],
          "name": "stderr"
        },
        {
          "output_type": "display_data",
          "data": {
            "image/png": "[encoded data removed]",
            "text/plain": [
              "<Figure size 1080x360 with 2 Axes>"
            ]
          },
          "metadata": {
            "tags": []
          }
        }
      ]
    },
    {
      "cell_type": "code",
      "metadata": {
        "id": "LWJEvpZP0E0p",
        "colab_type": "code",
        "outputId": "639a391d-bb00-48ec-a480-7a50647901c8",
        "colab": {
          "base_uri": "https://localhost:8080/",
          "height": 504
        }
      },
      "source": [
        "plt.figure(figsize = (15,5))\n",
        "\n",
        "plt.subplot(1,2,1)\n",
        "plt.boxplot(ed2[\"TOTAL_DIFF\"])\n",
        "plt.title(\"Box plot of TOTAL_DIFF\")\n",
        "\n",
        "plt.subplot(1,2,2)\n",
        "plt.boxplot(np.log(ed2[\"TOTAL_DIFF\"]))\n",
        "plt.title(\"Box plot of log transformed TOTAL_DIFF\")\n",
        "plt.show()"
      ],
      "execution_count": 75,
      "outputs": [
        {
          "output_type": "stream",
          "text": [
            "/usr/local/lib/python3.6/dist-packages/pandas/core/series.py:856: RuntimeWarning: invalid value encountered in log\n",
            "  result = getattr(ufunc, method)(*inputs, **kwargs)\n",
            "/usr/local/lib/python3.6/dist-packages/matplotlib/cbook/__init__.py:1316: RuntimeWarning: invalid value encountered in less_equal\n",
            "  wiskhi = x[x <= hival]\n",
            "/usr/local/lib/python3.6/dist-packages/matplotlib/cbook/__init__.py:1323: RuntimeWarning: invalid value encountered in greater_equal\n",
            "  wisklo = x[x >= loval]\n",
            "/usr/local/lib/python3.6/dist-packages/matplotlib/cbook/__init__.py:1331: RuntimeWarning: invalid value encountered in less\n",
            "  x[x < stats['whislo']],\n",
            "/usr/local/lib/python3.6/dist-packages/matplotlib/cbook/__init__.py:1332: RuntimeWarning: invalid value encountered in greater\n",
            "  x[x > stats['whishi']],\n"
          ],
          "name": "stderr"
        },
        {
          "output_type": "display_data",
          "data": {
            "image/png": "[encoded data removed]",
            "text/plain": [
              "<Figure size 1080x360 with 2 Axes>"
            ]
          },
          "metadata": {
            "tags": []
          }
        }
      ]
    },
    {
      "cell_type": "markdown",
      "metadata": {
        "id": "TQK8hRsD0Yez",
        "colab_type": "text"
      },
      "source": [
        "EMOTY BOX PLOT OF LOG TRANSFORMED TOTAL DIFF MEANS LOG TRANSFORM TOOK CARE OF ALL OUTLIERS\n",
        "\n",
        "WE CAN DOUBLE CHECK WITH Z SCORE"
      ]
    },
    {
      "cell_type": "code",
      "metadata": {
        "id": "Qyyh9rqI0uPF",
        "colab_type": "code",
        "outputId": "400a7502-5161-413b-ac42-fd0fe1bc2163",
        "colab": {
          "base_uri": "https://localhost:8080/",
          "height": 386
        }
      },
      "source": [
        "from scipy.stats import zscore\n",
        "\n",
        "z_scores = zscore(np.log(ed2[\"TOTAL_DIFF\"]))\n",
        "for threshold in range(1,5):\n",
        "    print(\"The score threshold is: {}\".format(threshold))\n",
        "    print(\"The indices of the outliers:\")\n",
        "    print(np.where(z_scores > threshold))\n",
        "    print(\"Number of outliers is: {}\".format(len((np.where(z_scores > threshold)[0]))))"
      ],
      "execution_count": 76,
      "outputs": [
        {
          "output_type": "stream",
          "text": [
            "The score threshold is: 1\n",
            "The indices of the outliers:\n",
            "(array([], dtype=int64),)\n",
            "Number of outliers is: 0\n",
            "The score threshold is: 2\n",
            "The indices of the outliers:\n",
            "(array([], dtype=int64),)\n",
            "Number of outliers is: 0\n",
            "The score threshold is: 3\n",
            "The indices of the outliers:\n",
            "(array([], dtype=int64),)\n",
            "Number of outliers is: 0\n",
            "The score threshold is: 4\n",
            "The indices of the outliers:\n",
            "(array([], dtype=int64),)\n",
            "Number of outliers is: 0\n"
          ],
          "name": "stdout"
        },
        {
          "output_type": "stream",
          "text": [
            "/usr/local/lib/python3.6/dist-packages/pandas/core/series.py:856: RuntimeWarning: invalid value encountered in log\n",
            "  result = getattr(ufunc, method)(*inputs, **kwargs)\n",
            "/usr/local/lib/python3.6/dist-packages/ipykernel_launcher.py:7: RuntimeWarning: invalid value encountered in greater\n",
            "  import sys\n",
            "/usr/local/lib/python3.6/dist-packages/ipykernel_launcher.py:8: RuntimeWarning: invalid value encountered in greater\n",
            "  \n"
          ],
          "name": "stderr"
        }
      ]
    },
    {
      "cell_type": "markdown",
      "metadata": {
        "id": "NcKwqn9n1J5p",
        "colab_type": "text"
      },
      "source": [
        "TUKEYS WITH LOG TRANSFORM"
      ]
    },
    {
      "cell_type": "code",
      "metadata": {
        "id": "m-_jvQsl25lE",
        "colab_type": "code",
        "outputId": "c2fd7b0a-423b-4c47-e548-4fbd44dc6c36",
        "colab": {
          "base_uri": "https://localhost:8080/",
          "height": 319
        }
      },
      "source": [
        "# now we take the log of TOTAL_DIFF and calculate\n",
        "# the quartiles accordingly.\n",
        "q75, q25 = np.percentile(np.log(ed2[\"TOTAL_DIFF\"]), [75 ,25])\n",
        "iqr = q75 - q25\n",
        "\n",
        "for threshold in np.arange(1,5,0.5):\n",
        "    min_val = q25 - (iqr*threshold)\n",
        "    max_val = q75 + (iqr*threshold)\n",
        "    print(\"The score threshold is: {}\".format(threshold))\n",
        "    print(\"Number of outliers is: {}\".format(\n",
        "        len((np.where((np.log(ed2[\"TOTAL_DIFF\"]) > max_val) \n",
        "                      | (np.log(ed2[\"TOTAL_DIFF\"]) < min_val))[0]))\n",
        "    ))"
      ],
      "execution_count": 77,
      "outputs": [
        {
          "output_type": "stream",
          "text": [
            "The score threshold is: 1.0\n",
            "Number of outliers is: 0\n",
            "The score threshold is: 1.5\n",
            "Number of outliers is: 0\n",
            "The score threshold is: 2.0\n",
            "Number of outliers is: 0\n",
            "The score threshold is: 2.5\n",
            "Number of outliers is: 0\n",
            "The score threshold is: 3.0\n",
            "Number of outliers is: 0\n",
            "The score threshold is: 3.5\n",
            "Number of outliers is: 0\n",
            "The score threshold is: 4.0\n",
            "Number of outliers is: 0\n",
            "The score threshold is: 4.5\n",
            "Number of outliers is: 0\n"
          ],
          "name": "stdout"
        },
        {
          "output_type": "stream",
          "text": [
            "/usr/local/lib/python3.6/dist-packages/pandas/core/series.py:856: RuntimeWarning: invalid value encountered in log\n",
            "  result = getattr(ufunc, method)(*inputs, **kwargs)\n"
          ],
          "name": "stderr"
        }
      ]
    },
    {
      "cell_type": "markdown",
      "metadata": {
        "id": "GO8--fIT3jv9",
        "colab_type": "text"
      },
      "source": [
        "SO TUKEY'S CONFIRMS THAT LOG TRANSFORM ELIMINATED OUTLIERS"
      ]
    },
    {
      "cell_type": "markdown",
      "metadata": {
        "id": "mIl_TQv04NBf",
        "colab_type": "text"
      },
      "source": [
        "4 - Now create another variable by subtracting the TOTAL_EXPENDITURE from TOTAL_REVENUE.\n",
        "\n",
        " This time, use the **outlier eliminated** versions of TOTAL_EXPENDITURE from TOTAL_REVENUE. \n",
        " \n",
        " In this newly created variable, can you find any outliers?\n",
        " \n",
        "  If so, **eliminate them.**"
      ]
    },
    {
      "cell_type": "code",
      "metadata": {
        "id": "Ot6MNhPa4aT-",
        "colab_type": "code",
        "colab": {}
      },
      "source": [
        "v=np.log(ed2['TOTAL_REVENUE'])-np.log(ed2['TOTAL_EXPENDITURE'])"
      ],
      "execution_count": 0,
      "outputs": []
    },
    {
      "cell_type": "code",
      "metadata": {
        "id": "9HiwgpaC7r4j",
        "colab_type": "code",
        "outputId": "ef50e62a-b14a-47fd-d56b-4568a612e68b",
        "colab": {
          "base_uri": "https://localhost:8080/",
          "height": 265
        }
      },
      "source": [
        "plt.hist(v,bins=50)\n",
        "plt.show()\n"
      ],
      "execution_count": 79,
      "outputs": [
        {
          "output_type": "display_data",
          "data": {
            "image/png": "[encoded data removed]",
            "text/plain": [
              "<Figure size 432x288 with 1 Axes>"
            ]
          },
          "metadata": {
            "tags": []
          }
        }
      ]
    },
    {
      "cell_type": "code",
      "metadata": {
        "id": "xVJThvzM8aNJ",
        "colab_type": "code",
        "outputId": "685cab9a-c3d2-44e2-87fc-1716193b690c",
        "colab": {
          "base_uri": "https://localhost:8080/",
          "height": 281
        }
      },
      "source": [
        "plt.boxplot(v,whis=1.5)\n",
        "plt.title(\"Box plot of v (whis=1.5)\")\n",
        "plt.show()"
      ],
      "execution_count": 80,
      "outputs": [
        {
          "output_type": "display_data",
          "data": {
            "image/png": "[encoded data removed]",
            "text/plain": [
              "<Figure size 432x288 with 1 Axes>"
            ]
          },
          "metadata": {
            "tags": []
          }
        }
      ]
    },
    {
      "cell_type": "markdown",
      "metadata": {
        "id": "D7d2TnpQQ-MG",
        "colab_type": "text"
      },
      "source": [
        "MANY OUTLIERS\n"
      ]
    },
    {
      "cell_type": "markdown",
      "metadata": {
        "id": "YhStzvodMDS2",
        "colab_type": "text"
      },
      "source": [
        "5 - Compare some basic descriptive statistics of the budget variables you end up with in the 3rd and the 4th questions.\n",
        "\n",
        " Do you see any differences?"
      ]
    },
    {
      "cell_type": "code",
      "metadata": {
        "id": "y8WY6gStMOkL",
        "colab_type": "code",
        "outputId": "39256fa8-7fe8-4784-e1c6-81e89c676b16",
        "colab": {
          "base_uri": "https://localhost:8080/",
          "height": 168
        }
      },
      "source": [
        "v.describe()"
      ],
      "execution_count": 81,
      "outputs": [
        {
          "output_type": "execute_result",
          "data": {
            "text/plain": [
              "count    467.000000\n",
              "mean      -0.001865\n",
              "std        0.044397\n",
              "min       -0.170369\n",
              "25%       -0.025170\n",
              "50%       -0.000375\n",
              "75%        0.017574\n",
              "max        0.305521\n",
              "dtype: float64"
            ]
          },
          "metadata": {
            "tags": []
          },
          "execution_count": 81
        }
      ]
    },
    {
      "cell_type": "code",
      "metadata": {
        "id": "Xct9QLRxMdd-",
        "colab_type": "code",
        "outputId": "902f9433-bd73-4c21-db9f-b51abb582581",
        "colab": {
          "base_uri": "https://localhost:8080/",
          "height": 168
        }
      },
      "source": [
        "ed2['TOTAL_DIFF'].describe()\n"
      ],
      "execution_count": 82,
      "outputs": [
        {
          "output_type": "execute_result",
          "data": {
            "text/plain": [
              "count    4.670000e+02\n",
              "mean    -5.245817e+04\n",
              "std      5.888767e+05\n",
              "min     -5.487742e+06\n",
              "25%     -1.825965e+05\n",
              "50%     -1.524000e+03\n",
              "75%      1.712450e+05\n",
              "max      1.816932e+06\n",
              "Name: TOTAL_DIFF, dtype: float64"
            ]
          },
          "metadata": {
            "tags": []
          },
          "execution_count": 82
        }
      ]
    },
    {
      "cell_type": "code",
      "metadata": {
        "id": "NnyBcrjxNihj",
        "colab_type": "code",
        "outputId": "1a8339cf-59d8-4a9e-ff64-151dd4884f92",
        "colab": {
          "base_uri": "https://localhost:8080/",
          "height": 202
        }
      },
      "source": [
        "np.log(ed2['TOTAL_DIFF']).describe()"
      ],
      "execution_count": 84,
      "outputs": [
        {
          "output_type": "stream",
          "text": [
            "/usr/local/lib/python3.6/dist-packages/pandas/core/series.py:856: RuntimeWarning: invalid value encountered in log\n",
            "  result = getattr(ufunc, method)(*inputs, **kwargs)\n"
          ],
          "name": "stderr"
        },
        {
          "output_type": "execute_result",
          "data": {
            "text/plain": [
              "count    226.000000\n",
              "mean      11.835200\n",
              "std        1.438688\n",
              "min        4.890349\n",
              "25%       10.939465\n",
              "50%       12.126811\n",
              "75%       12.933653\n",
              "max       14.412660\n",
              "Name: TOTAL_DIFF, dtype: float64"
            ]
          },
          "metadata": {
            "tags": []
          },
          "execution_count": 84
        }
      ]
    },
    {
      "cell_type": "markdown",
      "metadata": {
        "id": "f_sRly0_bp79",
        "colab_type": "text"
      },
      "source": [
        "yes -- many values are different\n",
        "\n",
        "thinkful solution used winzorization -- i used log"
      ]
    },
    {
      "cell_type": "markdown",
      "metadata": {
        "id": "OK4W1OBncWT8",
        "colab_type": "text"
      },
      "source": [
        "6- our variable of interest is the budget deficit variable, which method do you think is the appropriate in dealing with the outliers in this variable:\n",
        "\n",
        " the method in the 3rd question or the one in the 4th question?"
      ]
    },
    {
      "cell_type": "markdown",
      "metadata": {
        "id": "kxd8HS6Hcad_",
        "colab_type": "text"
      },
      "source": [
        ""
      ]
    }
  ]
}